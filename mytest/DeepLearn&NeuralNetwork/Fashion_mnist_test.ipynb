{
 "cells": [
  {
   "cell_type": "code",
   "execution_count": 2,
   "metadata": {},
   "outputs": [
    {
     "name": "stdout",
     "output_type": "stream",
     "text": [
      "Epoch 1/5\n",
      "1875/1875 [==============================] - 10s 5ms/step - loss: 0.4746 - accuracy: 0.8300\n",
      "Epoch 2/5\n",
      "1875/1875 [==============================] - 6s 3ms/step - loss: 0.3583 - accuracy: 0.8690\n",
      "Epoch 3/5\n",
      "1875/1875 [==============================] - 8s 4ms/step - loss: 0.3206 - accuracy: 0.8828\n",
      "Epoch 4/5\n",
      "1875/1875 [==============================] - 8s 4ms/step - loss: 0.2978 - accuracy: 0.8915\n",
      "Epoch 5/5\n",
      "1875/1875 [==============================] - 8s 4ms/step - loss: 0.2811 - accuracy: 0.8964\n",
      "313/313 [==============================] - 1s 3ms/step - loss: 0.3329 - accuracy: 0.8816\n",
      "0.3328741788864136 0.881600022315979\n",
      "[4.0840766e-07 4.1122064e-08 7.1874564e-09 3.8254711e-10 3.8686199e-08\n",
      " 1.2096793e-03 7.9598499e-07 2.7974421e-02 4.5982338e-06 9.7081000e-01]\n",
      "9\n"
     ]
    }
   ],
   "source": [
    "import tensorflow as tf\n",
    "import numpy as np\n",
    "\n",
    "# 1. Fashion MNIST 데이터셋 임포트\n",
    "fashion_mnist = tf.keras.datasets.fashion_mnist\n",
    "(train_images, train_labels), (test_images, test_labels) = fashion_mnist.load_data()\n",
    "\n",
    "\n",
    "# 2. 데이터 전처리\n",
    "train_images, test_images = train_images / 255.0, test_images / 255.0\n",
    "\n",
    "\n",
    "# 3. 모델 구성\n",
    "model = tf.keras.models.Sequential([\n",
    "    tf.keras.layers.Flatten(input_shape=(28, 28)),\n",
    "    tf.keras.layers.Dense(512, activation='relu'),\n",
    "    tf.keras.layers.Dense(10, activation='softmax')\n",
    "])\n",
    "\n",
    "\n",
    "# 4. 모델 컴파일\n",
    "model.compile(optimizer='adam',\n",
    "              loss='sparse_categorical_crossentropy',\n",
    "              metrics=['accuracy'])\n",
    "\n",
    "\n",
    "# 5. 모델 훈련\n",
    "model.fit(train_images, train_labels, epochs=5)\n",
    "\n",
    "\n",
    "# 6. 정확도 평가하기\n",
    "loss, accuracy = model.evaluate(test_images, test_labels)\n",
    "print(loss, accuracy)\n",
    "\n",
    "\n",
    "# 7. 예측하기\n",
    "predictions = model.predict(test_images)\n",
    "prob_label = predictions.argmax(axis=-1)\n",
    "np.savetxt('submit.txt', prob_label,fmt='%d') # 예측한 인덱스를 담은 txt 파일을 만듦.\n",
    "\n",
    "print(predictions[0])\n",
    "print(np.argmax(predictions[0]))"
   ]
  }
 ],
 "metadata": {
  "interpreter": {
   "hash": "916268a5c6dcd25200736720d94968f5c0533c421c8ed3589928c0deacd85b5f"
  },
  "kernelspec": {
   "display_name": "Python 3.10.0 ('tf_pt')",
   "language": "python",
   "name": "python3"
  },
  "language_info": {
   "codemirror_mode": {
    "name": "ipython",
    "version": 3
   },
   "file_extension": ".py",
   "mimetype": "text/x-python",
   "name": "python",
   "nbconvert_exporter": "python",
   "pygments_lexer": "ipython3",
   "version": "3.10.0"
  },
  "orig_nbformat": 4
 },
 "nbformat": 4,
 "nbformat_minor": 2
}
