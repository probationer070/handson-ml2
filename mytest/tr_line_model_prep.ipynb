{
 "cells": [
  {
   "cell_type": "markdown",
   "metadata": {},
   "source": [
    "# 모델 훈련"
   ]
  },
  {
   "cell_type": "markdown",
   "metadata": {},
   "source": [
    "그 전까지는 머신러닝 모델과 훈련 알고리즘을 블랙박스 취급.\n",
    "\n",
    "실제 어떻게 구현되는지는 몰라도 구현했지만 지금부터는 구현의 상세 사항을 실제로 알아야 함.\n",
    "\n",
    "|\n",
    "\n",
    "작동원리를 이해하고 있다면 디버깅이나 에러를 효율적으로 분석하는데 도움이 될 것.\n",
    "\n",
    "이번 장에서 언급하는 대부분의 주제는 2부에서 다룰 신경망을 이해하고 구축하고 훈련시키는데 필수.\n",
    "\n",
    "|\n",
    "\n",
    "이번 장은 선형 회귀부터 시작함. 이 모델은 훈련시키는 2가지 방법을 설명하자면\n",
    "\n",
    "* 직접 계산 가능한 공식을 사용해 훈련 세트에 가장 적합한 모델 파라미터(훈련세트에 대해\n",
    "\n",
    "  비용함수를 최소화하는 모델 파라미터)를 해석적으로 구함\n",
    "\n",
    "* 경사하강법(gradient Descent)라고 불리는 반복적 최적화 방식을 사용해 모델 파라미터를\n",
    "\n",
    "  조금씩 바꾸면서 비용함수를 훈련 세트에 대해 최소화 시킴. 결국은 앞에 방법과 동일한 파라미터로 수렴.\n",
    "\n",
    "-> 배치 경사하강법, 미니배치 경사하강법, 확률적 경사하강법도 살펴봄."
   ]
  },
  {
   "cell_type": "markdown",
   "metadata": {},
   "source": [
    "### ! CAUTION\n",
    "\n",
    "이 장에는 기초적인 선형대수와 미분 기호를 사용한 수학 방정식이 꽤 나옴.\n",
    "\n",
    "이 식들을 이해하려면 행렬, 전치, 점곱, 역행렬, 편미분에 대해 알아야 함.\n",
    "\n",
    "잘모르겠다면 깃허브에서 잘 살펴볼 것."
   ]
  },
  {
   "cell_type": "markdown",
   "metadata": {},
   "source": [
    "# 선형회귀"
   ]
  },
  {
   "cell_type": "markdown",
   "metadata": {},
   "source": [
    "삶의 만족도 $= \\theta_0 + \\theta_1 * $ 1인당_GDP"
   ]
  },
  {
   "cell_type": "markdown",
   "metadata": {},
   "source": [
    "**Equation 4-1: Linear Regression model prediction**\n",
    "\n",
    "$\n",
    "\\hat{y} = \\theta_0 + \\theta_1 x_1 + \\theta_2 x_2 + \\dots + \\theta_n x_n\n",
    "$\n",
    "\n",
    "\n",
    "**Equation 4-2: Linear Regression model prediction (vectorized form)**\n",
    "\n",
    "$\n",
    "\\hat{y} = h_{\\boldsymbol{\\theta}}(\\mathbf{x}) = \\boldsymbol{\\theta} \\cdot \\mathbf{x}\n",
    "$\n",
    "\n",
    "이것이 선형 회귀 모델입니다. 그러면 이제 훈련시켜볼까요? 모델을 훈련시킨다는 것은\n",
    "\n",
    "모델이 훈련 세트에 가장 잘 맞도록 모델 파라미터를 설정하는 것.\n",
    "\n",
    " \n",
    "\n",
    "2장에서 회귀에 가장 널리 사용되는 지표는 RMSE(평균제곱근오차)라고 언급했었고,\n",
    "\n",
    "그러므로 선형 회귀 모델을 훈련시키려면 RMSE를 최소화하는 $/theta$ 를 찾아야 함.\n",
    "\n",
    " \n",
    "\n",
    "훈련 세트 X에 대한 선형 회귀 가설 $h_{\\boldsymbol{\\theta}}$ 의 MSE는 위의 식처럼 계산함.\n",
    "\n",
    "**Equation 4-3: MSE cost function for a Linear Regression model**\n",
    "\n",
    "$\n",
    "\\text{MSE}(\\mathbf{X}, h_{\\boldsymbol{\\theta}}) = \\dfrac{1}{m} \\sum\\limits_{i=1}^{m}{(\\boldsymbol{\\theta}^T \\mathbf{x}^{(i)} - y^{(i)})^2}\n",
    "$\n",
    "\n",
    "이 표기의 대부분은 2장에서 설명했고 딱 하나의 차이는 벡터 $\\theta$ 를 가진다는 것임.\n",
    "\n",
    "간단하게 표시하기 위해 $\\text{MSE}(\\mathbf{X}, h_{\\boldsymbol{\\theta}})$ 대신\n",
    "\n",
    "$\\text{MSE}(\\theta)$ 라고 쓰겠습니다.\n"
   ]
  },
  {
   "cell_type": "markdown",
   "metadata": {},
   "source": [
    "## 정규방정식\n",
    "\n",
    "**Equation 4-4: Normal Equation**\n",
    "\n",
    "$\n",
    "\\hat{\\boldsymbol{\\theta}} = (\\mathbf{X}^T \\mathbf{X})^{-1} \\mathbf{X}^T \\mathbf{y}\n",
    "$"
   ]
  },
  {
   "cell_type": "code",
   "execution_count": 3,
   "metadata": {},
   "outputs": [],
   "source": [
    "import os\n",
    "\n",
    "PROJECT_ROOT_DIR = \".\"\n",
    "CHAPTER_ID = \"classification\"\n",
    "IMAGES_PATH = os.path.join(PROJECT_ROOT_DIR, \"images\", CHAPTER_ID)\n",
    "os.makedirs(IMAGES_PATH, exist_ok=True)\n",
    "\n",
    "def save_fig(fig_id, tight_layout=True, fig_extension=\"png\", resolution=300):\n",
    "    path = os.path.join(IMAGES_PATH, fig_id + \".\" + fig_extension)\n",
    "    print(\"그림 저장:\", fig_id)\n",
    "    if tight_layout:\n",
    "        plt.tight_layout()\n",
    "    plt.savefig(path, format=fig_extension, dpi=resolution)"
   ]
  },
  {
   "cell_type": "code",
   "execution_count": 4,
   "metadata": {},
   "outputs": [
    {
     "name": "stdout",
     "output_type": "stream",
     "text": [
      "그림 저장: generated_data_plot\n"
     ]
    },
    {
     "data": {
      "image/png": "[encoded data removed]",
      "text/plain": [
       "<Figure size 432x288 with 1 Axes>"
      ]
     },
     "metadata": {
      "needs_background": "light"
     },
     "output_type": "display_data"
    }
   ],
   "source": [
    "import matplotlib.pyplot as plt\n",
    "\n",
    "plt.plot(X, y, \"b.\")\n",
    "plt.xlabel(\"$x_1$\", fontsize=18)\n",
    "plt.ylabel(\"$y$\", rotation=0, fontsize=18)\n",
    "plt.axis([0, 2, 0, 15])\n",
    "save_fig(\"generated_data_plot\")\n",
    "plt.show()"
   ]
  },
  {
   "cell_type": "markdown",
   "metadata": {},
   "source": [
    "그럼 이제 정규방정식을 사용해 $\\hat{\\theta}$ 를 계산해봅시다.\n",
    "\n",
    "넘파이 선형대수 모듈 (np.linalg) 에 있는 inv()를 사용해 역행렬을 계산하고 \n",
    "\n",
    "dot()을 사용해 행렬곱셈을 하겠습니다."
   ]
  },
  {
   "cell_type": "code",
   "execution_count": 32,
   "metadata": {},
   "outputs": [],
   "source": [
    "import numpy as np\n",
    "\n",
    "X = 2 * np.random.rand(100, 1)        # (0~1)난수생성 100 * 1\n",
    "y = 4 + 3 * X + np.random.randn(100, 1) # 난수생성 100 * 1"
   ]
  },
  {
   "cell_type": "markdown",
   "metadata": {},
   "source": [
    "#### random 함수 ***\n",
    "\n",
    "* np.random.seed seed를 통한 난수 생성\n",
    "\n",
    "* np.random.randint 균일 분포의 정수 난수 1개 생성\n",
    "\n",
    "* np.random.rand 0부터 1사이의 균일 분포에서 난수 matrix array생성\n",
    "\n",
    "* np.random.randn 가우시안 표준 정규 분포에서 난수 matrix array생성\n",
    "\n",
    "* np.random.shuffle 기존의 데이터의 순서 바꾸기\n",
    "\n",
    "* np.random.choice 기존의 데이터에서 sampling\n",
    "\n",
    "* np.unique 데이터에서 중복된 값을 제거하고 중복되지 않는 값의 리스트를 출력\n",
    "\n",
    "* np.bincount 발생하지 않은 사건에 대해서도 카운트를 해준다"
   ]
  },
  {
   "cell_type": "code",
   "execution_count": 33,
   "metadata": {},
   "outputs": [],
   "source": [
    "X_b = np.c_[np.ones((100, 1)), X]  # 모든 샘플에 x0 = 1을 추가합니다.\n",
    "theta_best = np.linalg.inv(X_b.T.dot(X_b)).dot(X_b.T).dot(y)"
   ]
  },
  {
   "cell_type": "markdown",
   "metadata": {},
   "source": [
    "이 데이터를 생성하기 위해 사용한 함수는 $\\text{y} = 4 + 3 x_1 + $ 가우시안_잡음\n",
    "\n",
    "정규방정식으로 계산한 값을 확인해봅시다."
   ]
  },
  {
   "cell_type": "code",
   "execution_count": 34,
   "metadata": {},
   "outputs": [
    {
     "data": {
      "text/plain": [
       "array([[3.86501051],\n",
       "       [3.13916179]])"
      ]
     },
     "execution_count": 34,
     "metadata": {},
     "output_type": "execute_result"
    }
   ],
   "source": [
    "theta_best"
   ]
  },
  {
   "cell_type": "markdown",
   "metadata": {},
   "source": [
    "$\\theta_0 = 3.83$ 과 $\\theta_1 = 3.07$ 대신 $\\theta_0 = 4$ 와 $\\theta_1 = 3$ 을 기대했으나 약간의 오차\n",
    "\n",
    "매우 비슷하지만 잡음 때문에 원래 함수의 파라미터를 정확하게 재현하지 못함.\n",
    "\n",
    "$\\hat{\\theta}$ 를 사용해 예측해봅시다."
   ]
  },
  {
   "cell_type": "code",
   "execution_count": 35,
   "metadata": {},
   "outputs": [
    {
     "data": {
      "text/plain": [
       "array([[ 3.86501051],\n",
       "       [10.14333409]])"
      ]
     },
     "execution_count": 35,
     "metadata": {},
     "output_type": "execute_result"
    }
   ],
   "source": [
    "X_new = np.array([[0], [2]])            # 2차원 행렬\n",
    "X_new_b = np.c_[np.ones((2, 1)), X_new] # X_new 행렬과 2*1 행렬을 왼쪽에서 오른쪽으로 합침\n",
    "                                        # c_ 왼쪽에서 오른쪽으로 합치기\n",
    "                                        # r_위에서 아래로 합치기\n",
    "                                        # ones, zeros, empty 각각 제목의 원소를 가진 행렬 생성\n",
    "y_predict = X_new_b.dot(theta_best)\n",
    "y_predict"
   ]
  },
  {
   "cell_type": "markdown",
   "metadata": {},
   "source": [
    "모델 예측을 위해 그래프를 그려봅시다."
   ]
  },
  {
   "cell_type": "code",
   "execution_count": 36,
   "metadata": {},
   "outputs": [
    {
     "data": {
      "image/png": "[encoded data removed]",
      "text/plain": [
       "<Figure size 432x288 with 1 Axes>"
      ]
     },
     "metadata": {
      "needs_background": "light"
     },
     "output_type": "display_data"
    }
   ],
   "source": [
    "plt.plot(X_new, y_predict, \"r-\", label=\"predict\")   # 선의 이름은 여기서 설정\n",
    "plt.legend(loc=\"upper left\", fontsize=12)   # 범례 위치\n",
    "plt.xlabel(\"$x_1$\", fontsize=18)            # x축 이름\n",
    "plt.ylabel(\"$y$\", rotation=0, fontsize=18)              # y축 이름\n",
    "plt.plot(X, y, \"b.\")          # 파란색 포인트 마커\n",
    "plt.axis([0, 2, 0, 15])       # x범위 (0 ~ 2.00), y범위 (0 ~ 15.00)\n",
    "\n",
    "plt.show()"
   ]
  },
  {
   "cell_type": "markdown",
   "metadata": {},
   "source": [
    "사이킷런에서 선형 회귀를 수행하는 것은 간단."
   ]
  },
  {
   "cell_type": "code",
   "execution_count": 37,
   "metadata": {},
   "outputs": [
    {
     "data": {
      "text/plain": [
       "(array([3.86501051]), array([[3.13916179]]))"
      ]
     },
     "execution_count": 37,
     "metadata": {},
     "output_type": "execute_result"
    }
   ],
   "source": [
    "from sklearn.linear_model import LinearRegression\n",
    "\n",
    "lin_reg = LinearRegression()\n",
    "lin_reg.fit(X, y)\n",
    "lin_reg.intercept_, lin_reg.coef_"
   ]
  },
  {
   "cell_type": "markdown",
   "metadata": {},
   "source": [
    "LinearRegression 클래스는 scipy.linalg.lstsq()를 기반으로 함. 직접 호출도 가능"
   ]
  },
  {
   "cell_type": "code",
   "execution_count": 38,
   "metadata": {},
   "outputs": [
    {
     "data": {
      "text/plain": [
       "array([[3.86501051],\n",
       "       [3.13916179]])"
      ]
     },
     "execution_count": 38,
     "metadata": {},
     "output_type": "execute_result"
    }
   ],
   "source": [
    "theta_best_svd, residuals, rank, s = np.linalg.lstsq(X_b, y, rcond=1e-6)\n",
    "theta_best_svd"
   ]
  },
  {
   "cell_type": "markdown",
   "metadata": {},
   "source": [
    "이 함수는 $\\mathbf{X}^+\\mathbf{y}$을 계산합니다. $\\mathbf{X}^{+}$는 \n",
    "\n",
    "$\\mathbf{X}$의 _유사역행렬_ (pseudoinverse)입니다(Moore–Penrose 유사역행렬입니다). \n",
    "\n",
    "`np.linalg.pinv()`을 사용해서 유사역행렬을 직접 계산할 수 있습니다:"
   ]
  },
  {
   "cell_type": "code",
   "execution_count": 39,
   "metadata": {},
   "outputs": [
    {
     "data": {
      "text/plain": [
       "array([[3.86501051],\n",
       "       [3.13916179]])"
      ]
     },
     "execution_count": 39,
     "metadata": {},
     "output_type": "execute_result"
    }
   ],
   "source": [
    "np.linalg.pinv(X_b).dot(y)"
   ]
  },
  {
   "cell_type": "markdown",
   "metadata": {},
   "source": [
    "유사역행렬 자체는 특잇값분해(Singular Value Decomposition)라 부르는 표준 행렬 분해 기법을\n",
    "\n",
    "사용해 계산되고, SVD는 훈련세트행렬 X를 3개의 행렬곱셈 $\\mathbf{U} \\mathbf{\\sum\\limits} \\mathbf{V}^T$\n",
    "\n",
    "로 분해 (numpy.linalg.svd() 참고) 유사역행렬은 $\\text{X}^+ = \\text{V} \\mathbf{\\sum\\limits}^+ \\mathbf{U}^T $ 로 계산됨\n",
    "\n",
    "알고리즘이 먼저 $\\mathbf{\\sum\\limits}$ 를 먼저 구하고 그다음 어떤 낮은 임곗값보다 \n",
    "\n",
    "작은 모든 수를 0으로 바꿈. 그 다음 0이 아닌 모든 값은 역수로 치환함.\n",
    "\n",
    "\\\n",
    "\n",
    "마지막으로 만들어진 행렬을 전치함. 정규방정식을 계산하는 것보다 이 방식이 효율적\n",
    "\n",
    "또한 극단적인 경우도 처리할 수 있음. 실제로 m < n 이거나 어떤 특성이 중복되어 \n",
    "\n",
    "행렬 $\\mathbf{X}^T \\mathbf{X}$ 의 역행렬이 없다면 정규방정식이 작동 안 함. 하지만 유사역행렬은 항상 구할 수 있음."
   ]
  },
  {
   "cell_type": "markdown",
   "metadata": {},
   "source": [
    "## 계산복잡도\n",
    "\n",
    "정규방정식은 $(\\mathbf{n}+1)*(\\mathbf{n}+1)$ 크기가 되는  $\\mathbf{X}^T \\mathbf{X}$ 의 역행렬을 계산\n",
    "\n",
    "(n은 특성 수) 역행렬 계산하는 계산 복잡도는 일반적으로 $\\mathbf{O}(\\mathbf{n^{2.4}})$ ~ $\\mathbf{O}(\\mathbf{n^{3}})$ 사이\n",
    "\n",
    "다시 말해 특성 수가 2배로 늘어나면 계산 시간이 대략 5.3배에서 8배 증가\n",
    "\n",
    " \n",
    "\n",
    "사이킷런의 LinearRegression 클래스가 사용하는 SVD 방법은 약 $\\mathbf{O}(\\mathbf{n^{2}})$ 임.\n",
    "\n",
    "특성 수 2배 -> 계산시간 4배"
   ]
  },
  {
   "cell_type": "markdown",
   "metadata": {},
   "source": [
    "### ! CAUTION\n",
    "\n",
    "정규방정식과 SVD방법 모두 특성 수가 많아지면 (대략 100,000) 매우 느려짐.\n",
    "\n",
    "다행인 것은 훈련세트의 샘플 수에 대해서는 선형적으로 증가함.(둘 다 $\\mathbf{O}(\\mathbf{m})$)\n",
    "\n",
    "따라서 메모리 공간만 허락된다면 큰 훈련 세트도 효율적으로 처리가능."
   ]
  },
  {
   "cell_type": "markdown",
   "metadata": {},
   "source": [
    "또한 학습된 선형모델은 예측이 매우 빠름. 예측 계산복잡도는 샘플 수와 특성 수에 선형적임.\n",
    "\n",
    "다시 말해 예측하려는 샘플이 2배로 늘어나면 걸리는 시간도 2배"
   ]
  },
  {
   "cell_type": "markdown",
   "metadata": {},
   "source": [
    "# 경사하강법 (GD)\n",
    "\n",
    "이제는 아주 다른 방법으로 선형회귀모델을 훈련 실습을 해보도록함.\n",
    "\n",
    "이 방법은 특성이 매우 많고 훈련 샘플이 너무 많아 메모리에 모두 담을 수 없을 때 적합.\n",
    "\n",
    "|\n",
    "\n",
    "파라미터 벡터 $\\theta$ 에 대해 비용함수의 현재 그레디언트를 계산.\n",
    "\n",
    "그리고 그레디언트가 감소하는 방향으로 진행. 그레디언트가 0이면 최솟값에 도달.\n",
    "\n",
    "구체적으로 보면 $\\theta$ 값을 무작위 초기화함. 그리고 조금씩 비용함수가 감소되는 방향으로 진행해\n",
    "\n",
    "알고리즘이 최솟값에 수렴할 때까지 점진적으로 수행.\n",
    "\n",
    "|\n",
    "\n",
    "GD의 중요한 파라미터는 학습률(Learning rate)로 결정됨. \n",
    "\n",
    "학습률이 작으면 반복을 많이 해야하므로 시간이 오래걸림.\n",
    "\n",
    "반대로 학습률이 너무 크면 골짜기를 가로질러 반대편으로 건너뛰게 되서 더 큰 값으로 발산됨.\n",
    "\n",
    "|\n",
    "\n",
    "그렇다고 모든 비용함수가 매끈한 그릇같지는 않기 때문에 패인곳이나 산마루, 평지과 같은\n",
    "\n",
    "특이한 지형이 있으면 최솟값으로 수렴하기 어려움. 전역최솟값과 지역최솟값 때문에 문제가 될 수 있음.\n",
    "\n",
    "|\n",
    "\n",
    "다행히 선형 회귀를 위한 MSE 비용함수는 곡선에서 어떤 두 점을 선택해 선을 그어도 곡선을 \n",
    "\n",
    "가로지르지 않는 볼록함수임. -> 지역최솟값이 없고 전역최솟값만 존재\n",
    "\n",
    "또한 연속함수이며 기울기가 갑자기 변하지도 않음.\n",
    "\n",
    "=> 이 두 사실로부터 경사하강법(Gradient Descent)이 전역 최솟값에 가깝게 접근 가능함을 보장.\n",
    "\n",
    "|\n",
    "\n",
    "사실 비용 함수는 그릇모양을 하고 있지만 특성들의 스케일이 매우 다르면 길쭉한 모양일 수 있음.\n",
    "\n",
    "### ! CAUTION\n",
    "\n",
    "경사하강법을 사용할 때는 반드시 모든 특성이 같은 스케일을 갖도록 만들어야 함.\n",
    "\n",
    "그렇지 않으면 수렴하는데 오래 걸림. (사이킷런의 도구 StandardScalar)"
   ]
  },
  {
   "cell_type": "markdown",
   "metadata": {},
   "source": [
    "## 배치 경사 하강법\n",
    "\n",
    "경사 하강법을 구현하려면 각 모델 파라미터 $\\theta_\\mathbf{j}$ 에 대해 비용함수의 그레디언트를 계산함.\n",
    "\n",
    "다시 말해 $\\theta_\\mathbf{j}$ 가 조금 변경될 때 비용함수가 얼마나 바뀌는지 계산해야함.\n",
    "\n",
    "이를 편도함수라고함. 이는 '동쪽을 바라봤을 때 발밑에 느껴지는 산의 기울기는 얼마인가?'와 같은 질문임.\n",
    "\n",
    "|\n",
    "\n",
    "그리고 같은 질문을 북쪽에 대해서도 함.\n",
    "\n",
    "[식 4-5]는 파라미터 $\\theta_\\mathbf{j}$ 에 대한 비용함수의 편도함수 $\\dfrac{\\partial}{\\partial \\theta_j} \\text{MSE}(\\boldsymbol{\\theta})$ 임\n",
    "\n",
    "|\n",
    "\n",
    "**Equation 4-5: Partial derivatives of the cost function**\n",
    "\n",
    "$\n",
    "\\dfrac{\\partial}{\\partial \\theta_j} \\text{MSE}(\\boldsymbol{\\theta}) = \\dfrac{2}{m}\\sum\\limits_{i=1}^{m}(\\boldsymbol{\\theta}^T \\mathbf{x}^{(i)} - y^{(i)})\\, x_j^{(i)}\n",
    "$\n",
    "\n",
    "\n",
    "**Equation 4-6: Gradient vector of the cost function**\n",
    "\n",
    "$\n",
    "\\nabla_{\\boldsymbol{\\theta}}\\, \\text{MSE}(\\boldsymbol{\\theta}) =\n",
    "\\begin{pmatrix}\n",
    " \\frac{\\partial}{\\partial \\theta_0} \\text{MSE}(\\boldsymbol{\\theta}) \\\\\n",
    " \\frac{\\partial}{\\partial \\theta_1} \\text{MSE}(\\boldsymbol{\\theta}) \\\\\n",
    " \\vdots \\\\\n",
    " \\frac{\\partial}{\\partial \\theta_n} \\text{MSE}(\\boldsymbol{\\theta})\n",
    "\\end{pmatrix}\n",
    " = \\dfrac{2}{m} \\mathbf{X}^T (\\mathbf{X} \\boldsymbol{\\theta} - \\mathbf{y})\n",
    "$\n"
   ]
  },
  {
   "cell_type": "markdown",
   "metadata": {},
   "source": [
    "### ! CAUTION \n",
    "\n",
    "이 공식은 매 경사하강법 스텝에서 전체 훈련 세트 X에 대해 계산합니다.\n",
    "\n",
    "그래서 이 알고리즘을 '배치경사하강법'이라고 함. 즉 매 스텝에서 훈련데이터 전체를 사용. \n",
    "\n",
    "(사실 전체경사하강법이 더 어울림)\n",
    "\n",
    "|\n",
    "\n",
    "그러나 경사하강법은 특성 수에 민감하지 않음. 이런 이유로 매우 큰 훈련세트에서는 아주 느림.\n",
    "\n",
    "경사하강법은 특성 수에 민감하지 않음. 수십만 개의 특성에서 선형회귀를 훈련시키려면 \n",
    "\n",
    "정규방정식이나 SVD분해보다 경사하강법을 사용하는 편이 훨씬 빠름."
   ]
  },
  {
   "cell_type": "markdown",
   "metadata": {},
   "source": [
    "**Equation 4-7: Gradient Descent step**\n",
    "\n",
    "$\n",
    "\\boldsymbol{\\theta}^{(\\text{next step})} = \\boldsymbol{\\theta} - \\eta \\nabla_{\\boldsymbol{\\theta}}\\, \\text{MSE}(\\boldsymbol{\\theta})\n",
    "$\n",
    "\n",
    "\n",
    "$ O(\\frac{1}{\\text{iterations}}) $\n",
    "\n",
    "\n",
    "$ \\hat{y} = 0.56 x_1^2 + 0.93 x_1 + 1.78 $\n",
    "\n",
    "\n",
    "$ y = 0.5 x_1^2 + 1.0 x_1 + 2.0 + \\text{Gaussian noise} $\n",
    "\n",
    "\n",
    "$ \\dfrac{(n+d)!}{d!\\,n!} $\n",
    "\n",
    "\n",
    "$ \\alpha \\sum_{i=1}^{n}{{\\theta_i}^2}$\\\n",
    "\n",
    "위로 향하는 그레디언트 벡터가 구해지면 반대 방향인 아래로 가야함.\n",
    "\n",
    "$\\theta$ 에서 $\\nabla_{\\boldsymbol{\\theta}}\\, \\text{MSE}(\\boldsymbol{\\theta})$ 를 빼야한다는 뜻. 여기서 학습률\n",
    "$\\eta$ 가 사용됨. \n",
    "\n",
    "내려가는 스텝의 크기를 결정하기 위해 그레디언트 벡터에 $\\eta$ 를 곱함."
   ]
  },
  {
   "cell_type": "code",
   "execution_count": 40,
   "metadata": {},
   "outputs": [],
   "source": [
    "eta = 0.1  # 학습률\n",
    "n_iterations = 1000     # 반복 횟수\n",
    "m = 100\n",
    "\n",
    "theta = np.random.randn(2,1)  # 랜덤 초기화\n",
    "\n",
    "for iteration in range(n_iterations):\n",
    "    gradients = 2/m * X_b.T.dot(X_b.dot(theta) - y)     # T는 전치행렬\n",
    "    theta = theta - eta * gradients"
   ]
  },
  {
   "cell_type": "code",
   "execution_count": 41,
   "metadata": {},
   "outputs": [
    {
     "data": {
      "text/plain": [
       "array([[3.86501051],\n",
       "       [3.13916179]])"
      ]
     },
     "execution_count": 41,
     "metadata": {},
     "output_type": "execute_result"
    }
   ],
   "source": [
    "# theta 확인\n",
    "theta"
   ]
  },
  {
   "cell_type": "markdown",
   "metadata": {},
   "source": [
    "정규방정식으로 찾은 것과 정확히 같음. 학습률 $\\eta$ 를 바꿔보면 어떨까?\n",
    "\n",
    "아래 그림은 3가지 다른 학습률을 사용해 진행한 경사하강법의 스텝 처음 10개를 보여줌."
   ]
  },
  {
   "cell_type": "code",
   "execution_count": 42,
   "metadata": {},
   "outputs": [],
   "source": [
    "theta_path_bgd = []\n",
    "\n",
    "def plot_gradient_descent(theta, eta, theta_path=None):\n",
    "    m = len(X_b)\n",
    "    plt.plot(X, y, \"b.\")\n",
    "    n_iterations = 1000\n",
    "    for iteration in range(n_iterations):\n",
    "        if iteration < 10:\n",
    "            y_predict = X_new_b.dot(theta)\n",
    "            style = \"b-\" if iteration > 0 else \"r--\"\n",
    "            plt.plot(X_new, y_predict, style)\n",
    "        gradients = 2/m * X_b.T.dot(X_b.dot(theta) - y)\n",
    "        theta = theta - eta * gradients\n",
    "        if theta_path is not None:\n",
    "            theta_path.append(theta)\n",
    "    plt.xlabel(\"$x_1$\", fontsize=18)\n",
    "    plt.axis([0, 2, 0, 15])\n",
    "    plt.title(r\"$\\eta = {}$\".format(eta), fontsize=16)"
   ]
  },
  {
   "cell_type": "code",
   "execution_count": 43,
   "metadata": {},
   "outputs": [
    {
     "name": "stdout",
     "output_type": "stream",
     "text": [
      "그림 저장: gradient_descent_plot\n"
     ]
    },
    {
     "data": {
      "image/png": "[encoded data removed]",
      "text/plain": [
       "<Figure size 720x288 with 3 Axes>"
      ]
     },
     "metadata": {
      "needs_background": "light"
     },
     "output_type": "display_data"
    }
   ],
   "source": [
    "np.random.seed(42)\n",
    "theta = np.random.randn(2,1)  # random initialization\n",
    "\n",
    "plt.figure(figsize=(10,4))\n",
    "plt.subplot(131); plot_gradient_descent(theta, eta=0.02)\n",
    "plt.ylabel(\"$y$\", rotation=0, fontsize=18)\n",
    "plt.subplot(132); plot_gradient_descent(theta, eta=0.1, theta_path=theta_path_bgd)\n",
    "plt.subplot(133); plot_gradient_descent(theta, eta=0.5)\n",
    "\n",
    "save_fig(\"gradient_descent_plot\")\n",
    "plt.show()"
   ]
  },
  {
   "cell_type": "markdown",
   "metadata": {},
   "source": [
    "왼쪽은 학습률이 너무 낮아 최적점에 결국 도달하겠지만 시간이 오래 걸리 것임.\n",
    "\n",
    "가운데는 학습률이 적당해보임. 반복 몇 번만에 최적점에 수렴.\n",
    "\n",
    "오른쪽은 학습륭이 너무 높아 발산, 최적점에서 점점 멀어짐.\n",
    "\n",
    "|\n",
    "\n",
    "적절한 학습률을 찾으려면 그리드 탐색(2장 참고)을 사용.\n",
    "\n",
    "하지만 그리드 탐색에서 수렴하는데 너무 오래걸리는 모델을 막기 위해 반복횟수 제한필요.\n",
    "\n",
    "|\n",
    "\n",
    "반복 횟수를 아주 크게 지정하고 그레디언트 벡터가 아주 작아지면, 즉 벡터의 노름이 어떤 값보다\n",
    "\n",
    "작아지면 경사하강법이 거의 최솟값에 도달한 것이므로 알고리즘을 중지하는 것."
   ]
  },
  {
   "cell_type": "markdown",
   "metadata": {},
   "source": [
    "\n",
    "## 확률적 경사 하강법\n"
   ]
  },
  {
   "cell_type": "markdown",
   "metadata": {},
   "source": [
    "확률적경사하강법은 매 스텝에서 1개의 샘플을 무작위로 선택하고 그 하나의 샘플에 대한 그레디언트를 계산. \n",
    "\n",
    "매 반복에서 다뤄야 할 데이터가 매우 적기 때문에 한번에 하나의 샘플을 처리하면 알고리즘이 \n",
    "\n",
    "확실히 훨씬 빠름. 또한 매 반복에서 하나의 샘플만 메모리에 있으면 되므로 \n",
    "\n",
    "매우 큰 훈련 세트도 훈련시킬 수 있음."
   ]
  },
  {
   "cell_type": "code",
   "execution_count": 44,
   "metadata": {},
   "outputs": [],
   "source": [
    "theta_path_sgd = []\n",
    "m = len(X_b)\n",
    "np.random.seed(42)"
   ]
  },
  {
   "cell_type": "code",
   "execution_count": 45,
   "metadata": {},
   "outputs": [
    {
     "name": "stdout",
     "output_type": "stream",
     "text": [
      "그림 저장: sgd_plot\n"
     ]
    },
    {
     "data": {
      "image/png": "[encoded data removed]",
      "text/plain": [
       "<Figure size 432x288 with 1 Axes>"
      ]
     },
     "metadata": {
      "needs_background": "light"
     },
     "output_type": "display_data"
    }
   ],
   "source": [
    "n_epochs = 50\n",
    "t0, t1 = 5, 50  # 학습 스케줄 하이퍼파라미터\n",
    "\n",
    "def learning_schedule(t):\n",
    "    return t0 / (t + t1)\n",
    "\n",
    "theta = np.random.randn(2,1)  # 랜덤 초기화\n",
    "\n",
    "for epoch in range(n_epochs):\n",
    "    for i in range(m):\n",
    "        if epoch == 0 and i < 20:                    # 책에는 없음 | i는 20미만이고 에포크는 0일 때\n",
    "            y_predict = X_new_b.dot(theta)           # 책에는 없음 | 스칼라 내적 (그냥 행렬 곱)\n",
    "            style = \"b-\" if i > 0 else \"r--\"         # 책에는 없음 | i가 0 이상일때 파란 실선\n",
    "                                                     # 그 외는 붉은 점선\n",
    "            plt.plot(X_new, y_predict, style)        # 책에는 없음 | 반복으로 스타일 지정\n",
    "        random_index = np.random.randint(m)\n",
    "        xi = X_b[random_index:random_index+1]\n",
    "        yi = y[random_index:random_index+1]\n",
    "        gradients = 2 * xi.T.dot(xi.dot(theta) - yi)\n",
    "        eta = learning_schedule(epoch * m + i)\n",
    "        theta = theta - eta * gradients\n",
    "        theta_path_sgd.append(theta)                 # 책에는 없음\n",
    "\n",
    "plt.plot(X, y, \"b.\")                                 # 파란색 점 출력\n",
    "plt.xlabel(\"$x_1$\", fontsize=18)                     # x축 이름\n",
    "plt.ylabel(\"$y$\", rotation=0, fontsize=18)           # y축 이름\n",
    "plt.axis([0, 2, 0, 15])                              # x축 범위 (0~2), y축 범위(0~15)\n",
    "save_fig(\"sgd_plot\")                                 # 그림 저장 함수\n",
    "plt.show()                                           # 그래프 구현"
   ]
  },
  {
   "cell_type": "code",
   "execution_count": 46,
   "metadata": {},
   "outputs": [
    {
     "data": {
      "text/plain": [
       "array([[3.90521218],\n",
       "       [3.15642095]])"
      ]
     },
     "execution_count": 46,
     "metadata": {},
     "output_type": "execute_result"
    }
   ],
   "source": [
    "theta"
   ]
  },
  {
   "cell_type": "markdown",
   "metadata": {},
   "source": [
    "배치경사하강법에서는 전체훈련세트에 대해 1000번 반복하는 동안 이 코드는 훈련세트에서 50번만 반복하고도\n",
    "\n",
    "매우 좋은 값에 도달. 위의 그림은 훈련스텝의 첫 20개를 보여줌.(스텝이 불규칙하게 진행)\n",
    "\n",
    "|\n",
    "\n",
    "샘플을 무작위로 선택하기 때문에 어떤 샘플은 한 에포크에서 여러 번 선택될 수도 있고\n",
    "\n",
    "어떤 샘플은 전혀 선택되지 못할 수도 있음. 알고리즘이 에포크마다 모든 샘플을 사용하게 하려면 훈련세트를 섞은 후\n",
    "\n",
    "(입력 특성과 레이블을 동일하게 섞어야 함.) 차례대로 하나씩 선택하고 다음 에포크에서 다시 섞는 식의 방법을 사용"
   ]
  },
  {
   "cell_type": "markdown",
   "metadata": {},
   "source": [
    "### ! CAUTION \n",
    "\n",
    "확률적 경사 하강법을 사용할 때 훈련 샘플이 IID를 만족해야 평균적으로 파라미터가 전역 최적점을\n",
    "\n",
    "향해 진행한다고 보장할 수 있음. 이렇게 만드는 간단한 방법은 훈련하는 동안 샘플을 섞는 것.\n",
    "\n",
    "(각 샘플을 랜덤하게 선택하거나 에포크를 시작할 때 훈련 세트를 섞음.)\n",
    "\n",
    "|\n",
    "\n",
    "만약 레이블 순서대로 정렬된 샘플처럼 샘플을 섞지 않은 채로 사용하면 \n",
    "\n",
    "확률적 경사하강법이 먼저 한 레이블에 최적화하고 그다음 레이블을 최적화하는 식으로 진행됨.\n",
    "\n",
    "결국 이 모델은 최적점에 도달 못할 것임."
   ]
  },
  {
   "cell_type": "markdown",
   "metadata": {},
   "source": [
    "사이킷런 SGD방식으로 선형회귀를 사용하려면 기본값으로 제곱오차비용함수를 최적화하는\n",
    "\n",
    "SGDRegressor 클래스를 사용함. 다음코드는 최대 1000번 에포크 동안 실행됨.(max_iter=1000)\n",
    "\n",
    "또는 한 에포크에서 0.001보다 적게 손실이 줄어들 때까지 실행됨.(tol=1e-3)\n",
    "\n",
    "학습률 0.1 (eta0=0.1)로 학습 스케줄(이전과는 다른)을 사용함.\n",
    "\n",
    "|\n",
    "\n",
    "규제는 전혀 사용하지 않았음. (penalty=None, 곧 다룸)"
   ]
  },
  {
   "cell_type": "code",
   "execution_count": 47,
   "metadata": {},
   "outputs": [
    {
     "data": {
      "text/plain": [
       "SGDRegressor(eta0=0.1, penalty=None, random_state=42)"
      ]
     },
     "execution_count": 47,
     "metadata": {},
     "output_type": "execute_result"
    }
   ],
   "source": [
    "from sklearn.linear_model import SGDRegressor\n",
    "\n",
    "sgd_reg = SGDRegressor(max_iter=1000, tol=1e-3, penalty=None, eta0=0.1, random_state=42)\n",
    "sgd_reg.fit(X, y.ravel())"
   ]
  },
  {
   "cell_type": "code",
   "execution_count": 48,
   "metadata": {},
   "outputs": [
    {
     "data": {
      "text/plain": [
       "(array([3.86256592]), array([3.15101583]))"
      ]
     },
     "execution_count": 48,
     "metadata": {},
     "output_type": "execute_result"
    }
   ],
   "source": [
    "sgd_reg.intercept_, sgd_reg.coef_"
   ]
  },
  {
   "cell_type": "markdown",
   "metadata": {},
   "source": [
    "여기서도 정규방정식과 비슷한 값을 얻음."
   ]
  },
  {
   "cell_type": "markdown",
   "metadata": {},
   "source": [
    "## 미니배치 경사하강법\n",
    "\n",
    "각 스텝에서 전체훈련세트나 하나의 샘플을 기반으로 그레디언트를 계산하는 것이 아닌 미니배치라\n",
    "\n",
    "부르는 임의의 작은 샘플세트에 대해 그레디언트를 계산함."
   ]
  },
  {
   "cell_type": "code",
   "execution_count": 49,
   "metadata": {},
   "outputs": [],
   "source": [
    "theta_path_mgd = []\n",
    "\n",
    "n_iterations = 50\n",
    "minibatch_size = 20\n",
    "\n",
    "np.random.seed(42)\n",
    "theta = np.random.randn(2,1)  # 랜덤 초기화\n",
    "\n",
    "t0, t1 = 200, 1000\n",
    "def learning_schedule(t):\n",
    "    return t0 / (t + t1)\n",
    "\n",
    "t = 0\n",
    "for epoch in range(n_iterations):\n",
    "    shuffled_indices = np.random.permutation(m)\n",
    "    X_b_shuffled = X_b[shuffled_indices]\n",
    "    y_shuffled = y[shuffled_indices]\n",
    "    for i in range(0, m, minibatch_size):\n",
    "        t += 1\n",
    "        xi = X_b_shuffled[i:i+minibatch_size]\n",
    "        yi = y_shuffled[i:i+minibatch_size]\n",
    "        gradients = 2/minibatch_size * xi.T.dot(xi.dot(theta) - yi)\n",
    "        eta = learning_schedule(t)\n",
    "        theta = theta - eta * gradients\n",
    "        theta_path_mgd.append(theta)"
   ]
  },
  {
   "cell_type": "markdown",
   "metadata": {},
   "source": []
  },
  {
   "cell_type": "code",
   "execution_count": 50,
   "metadata": {},
   "outputs": [
    {
     "name": "stdout",
     "output_type": "stream",
     "text": [
      "그림 저장: gradient_descent_paths_plot\n"
     ]
    },
    {
     "data": {
      "image/png": "[encoded data removed]",
      "text/plain": [
       "<Figure size 504x288 with 1 Axes>"
      ]
     },
     "metadata": {
      "needs_background": "light"
     },
     "output_type": "display_data"
    }
   ],
   "source": [
    "theta_path_bgd = np.array(theta_path_bgd)\n",
    "theta_path_sgd = np.array(theta_path_sgd)\n",
    "theta_path_mgd = np.array(theta_path_mgd)\n",
    "\n",
    "plt.figure(figsize=(7,4))\n",
    "plt.plot(theta_path_sgd[:, 0], theta_path_sgd[:, 1], \"r-s\", linewidth=1, label=\"Stochastic\")\n",
    "plt.plot(theta_path_mgd[:, 0], theta_path_mgd[:, 1], \"g-+\", linewidth=2, label=\"Mini-batch\")\n",
    "plt.plot(theta_path_bgd[:, 0], theta_path_bgd[:, 1], \"b-o\", linewidth=3, label=\"Batch\")\n",
    "plt.legend(loc=\"upper left\", fontsize=16)\n",
    "plt.xlabel(r\"$\\theta_0$\", fontsize=20)\n",
    "plt.ylabel(r\"$\\theta_1$   \", fontsize=20, rotation=0)\n",
    "plt.axis([2.5, 4.5, 2.3, 3.9])\n",
    "save_fig(\"gradient_descent_paths_plot\")\n",
    "plt.show()"
   ]
  },
  {
   "cell_type": "markdown",
   "metadata": {},
   "source": [
    "특히 미니배치를 어느정도 크게 하면 이 알고리즘은 파라미터 공간에서 SGD보다 덜 불규칙하게\n",
    "\n",
    "움직임. 결국 미니배치 경사하강법 SGD보다 최솟값에 더 가까이 도달하게 될 것.\n",
    "\n",
    "|\n",
    "\n",
    "하지만 지역 최솟값에서 빠져나오는 것을 어려울지도 모름.\n",
    "\n",
    "위 그림은 3가지 경사하강법 알고리즘이 훈련과정동안 파라미터 공간에서 움직인 경로\n",
    "\n",
    "모두 최솟값 근처에 도달했지만 배치경사하강법의 경로가 실제로 최솟값에 멈춘반면\n",
    "\n",
    "확률적, 미니배치 경사하강법은 근처에서 맴돎.\n",
    "\n",
    "|\n",
    "\n",
    "하지만 배치경사하강법은 스텝에 너무 많은 시간 소요됨.\n",
    "\n",
    "확률적, 미니배치 경사하강법도 적절한 학습 스케줄을 사용하면 최솟값에 도달가능함."
   ]
  },
  {
   "cell_type": "markdown",
   "metadata": {},
   "source": [
    "## 다항 회귀\n",
    "\n",
    "각 특성의 거듭제곱을 새로운 특성으로 추가하고, 이 확장된 특성을 포함한 데이터셋에 선형모델을\n",
    "\n",
    "훈련시키는 것. 먼저 간단한 2차방정식으로 비선형 데이터 생성"
   ]
  },
  {
   "cell_type": "code",
   "execution_count": 51,
   "metadata": {},
   "outputs": [],
   "source": [
    "import numpy as np\n",
    "import numpy.random as rnd\n",
    "\n",
    "np.random.seed(42)\n",
    "\n",
    "m = 100\n",
    "X = 6 * np.random.rand(m, 1) - 3\n",
    "y = 0.5 * X**2 + X + 2 + np.random.randn(m, 1)"
   ]
  },
  {
   "cell_type": "code",
   "execution_count": 52,
   "metadata": {},
   "outputs": [
    {
     "name": "stdout",
     "output_type": "stream",
     "text": [
      "그림 저장: quadratic_data_plot\n"
     ]
    },
    {
     "data": {
      "image/png": "[encoded data removed]",
      "text/plain": [
       "<Figure size 432x288 with 1 Axes>"
      ]
     },
     "metadata": {
      "needs_background": "light"
     },
     "output_type": "display_data"
    }
   ],
   "source": [
    "plt.plot(X, y, \"b.\")\n",
    "plt.xlabel(\"$x_1$\", fontsize=18)\n",
    "plt.ylabel(\"$y$\", rotation=0, fontsize=18)\n",
    "plt.axis([-3, 3, 0, 10])\n",
    "save_fig(\"quadratic_data_plot\")\n",
    "plt.show()"
   ]
  },
  {
   "cell_type": "markdown",
   "metadata": {},
   "source": [
    "사이킷런의 PolynomialFeatures를 사용해 훈련데이터를 변환해보겠습니다.\n",
    "\n",
    "훈련세트에 있는 각 특성을 제곱하여 새로운 특성으로 추가합니다.(여기서는 특성 하나 추가됨.)"
   ]
  },
  {
   "cell_type": "code",
   "execution_count": 53,
   "metadata": {},
   "outputs": [
    {
     "data": {
      "text/plain": [
       "array([-0.75275929])"
      ]
     },
     "execution_count": 53,
     "metadata": {},
     "output_type": "execute_result"
    }
   ],
   "source": [
    "from sklearn.preprocessing import PolynomialFeatures\n",
    "\n",
    "poly_features = PolynomialFeatures(degree=2, include_bias=False)\n",
    "X_poly = poly_features.fit_transform(X)\n",
    "X[0]"
   ]
  },
  {
   "cell_type": "markdown",
   "metadata": {},
   "source": [
    "X_poly는 이제 원래 특성X와 이 특서으이 제곱을 포함함. 이 확장된 훈련데이터에 LinearRegression을 적용해봄."
   ]
  },
  {
   "cell_type": "code",
   "execution_count": 54,
   "metadata": {},
   "outputs": [
    {
     "data": {
      "text/plain": [
       "(array([1.78134581]), array([[0.93366893, 0.56456263]]))"
      ]
     },
     "execution_count": 54,
     "metadata": {},
     "output_type": "execute_result"
    }
   ],
   "source": [
    "lin_reg = LinearRegression()\n",
    "lin_reg.fit(X_poly, y)\n",
    "lin_reg.intercept_, lin_reg.coef_"
   ]
  },
  {
   "cell_type": "code",
   "execution_count": 55,
   "metadata": {},
   "outputs": [
    {
     "name": "stdout",
     "output_type": "stream",
     "text": [
      "그림 저장: quadratic_predictions_plot\n"
     ]
    },
    {
     "data": {
      "image/png": "[encoded data removed]",
      "text/plain": [
       "<Figure size 432x288 with 1 Axes>"
      ]
     },
     "metadata": {
      "needs_background": "light"
     },
     "output_type": "display_data"
    }
   ],
   "source": [
    "X_new=np.linspace(-3, 3, 100).reshape(100, 1)\n",
    "X_new_poly = poly_features.transform(X_new)\n",
    "y_new = lin_reg.predict(X_new_poly)\n",
    "plt.plot(X, y, \"b.\")\n",
    "plt.plot(X_new, y_new, \"r-\", linewidth=2, label=\"Predictions\")\n",
    "plt.xlabel(\"$x_1$\", fontsize=18)\n",
    "plt.ylabel(\"$y$\", rotation=0, fontsize=18)\n",
    "plt.legend(loc=\"upper left\", fontsize=14)\n",
    "plt.axis([-3, 3, 0, 10])\n",
    "save_fig(\"quadratic_predictions_plot\")\n",
    "plt.show()"
   ]
  },
  {
   "cell_type": "markdown",
   "metadata": {},
   "source": [
    "## 학습 곡선\n",
    "\n",
    "고차 다항 회귀를 적용하면 보통의 선형회귀에서보다 훨씬 더 훈련데이터에 잘 맞추려 할 것.\n",
    "\n",
    "예를 들어 밑의 그래프는 300차 다항 회귀 모델을 이전의 훈련 데이터에 적용한 것."
   ]
  },
  {
   "cell_type": "code",
   "execution_count": 56,
   "metadata": {},
   "outputs": [
    {
     "name": "stdout",
     "output_type": "stream",
     "text": [
      "그림 저장: high_degree_polynomials_plot\n"
     ]
    },
    {
     "data": {
      "image/png": "[encoded data removed]",
      "text/plain": [
       "<Figure size 432x288 with 1 Axes>"
      ]
     },
     "metadata": {
      "needs_background": "light"
     },
     "output_type": "display_data"
    }
   ],
   "source": [
    "from sklearn.preprocessing import StandardScaler\n",
    "from sklearn.pipeline import Pipeline\n",
    "\n",
    "for style, width, degree in ((\"g-\", 1, 300), (\"b--\", 2, 2), (\"r-+\", 2, 1)):\n",
    "    polybig_features = PolynomialFeatures(degree=degree, include_bias=False)\n",
    "    std_scaler = StandardScaler()\n",
    "    lin_reg = LinearRegression()\n",
    "    polynomial_regression = Pipeline([\n",
    "            (\"poly_features\", polybig_features),\n",
    "            (\"std_scaler\", std_scaler),\n",
    "            (\"lin_reg\", lin_reg),\n",
    "        ])\n",
    "    polynomial_regression.fit(X, y)\n",
    "    y_newbig = polynomial_regression.predict(X_new)\n",
    "    plt.plot(X_new, y_newbig, style, label=str(degree), linewidth=width)\n",
    "\n",
    "plt.plot(X, y, \"b.\", linewidth=3)\n",
    "plt.legend(loc=\"upper left\")\n",
    "plt.xlabel(\"$x_1$\", fontsize=18)\n",
    "plt.ylabel(\"$y$\", rotation=0, fontsize=18)\n",
    "plt.axis([-3, 3, 0, 10])\n",
    "save_fig(\"high_degree_polynomials_plot\")\n",
    "plt.show()"
   ]
  },
  {
   "cell_type": "markdown",
   "metadata": {},
   "source": [
    "이 고차 다항모델은 심각하게 훈련데이터가 과대적합됨. 반면 선형모델은 과소적합됨.\n",
    "\n",
    "이 경우 가장 일반화가 잘된 모델은 2차 다항회귀. 2차방정식으로 생성한 데이터이기 때문에 당연한 결과지만\n",
    "\n",
    "일반적으로 어떤 함수가 데이터로 생성됬는지 알 수 없음.\n",
    "\n",
    "|\n",
    "\n",
    "2정에서 성능 측정하기 위해 교차 검증을 사용. \n",
    "\n",
    "훈련데이터에서 성능이 좋으나 교차검증점수가 낮다면 과대적합. 둘 다 낮다면 과소적합.\n",
    "\n",
    "이 때 모델이 너무 복잡하다고 말함. \n",
    "\n",
    "|\n",
    "\n",
    "또 다른 방법으로 학습 곡선이 있음. 이 그래프는 훈련세트와 검증세트의 모델 성능을 훈련 세트크기의 함수로\n",
    "\n",
    "나타냄. 이 그래프를 생성하기 위해선 단순히 훈련세트에서 크기가 다른 서브세트를 만들어 여러번 훈련하면 됨."
   ]
  },
  {
   "cell_type": "code",
   "execution_count": 58,
   "metadata": {},
   "outputs": [],
   "source": [
    "from sklearn.metrics import mean_squared_error\n",
    "from sklearn.model_selection import train_test_split\n",
    "\n",
    "def plot_learning_curves(model, X, y):\n",
    "    X_train, X_val, y_train, y_val = train_test_split(X, y, test_size=0.2, random_state=10)\n",
    "    train_errors, val_errors = [], []\n",
    "    for m in range(1, len(X_train) + 1):\n",
    "        model.fit(X_train[:m], y_train[:m])\n",
    "        y_train_predict = model.predict(X_train[:m])\n",
    "        y_val_predict = model.predict(X_val)\n",
    "        train_errors.append(mean_squared_error(y_train[:m], y_train_predict))\n",
    "        val_errors.append(mean_squared_error(y_val, y_val_predict))\n",
    "\n",
    "    plt.plot(np.sqrt(train_errors), \"r-+\", linewidth=2, label=\"train\")\n",
    "    plt.plot(np.sqrt(val_errors), \"b-\", linewidth=3, label=\"val\")\n",
    "    plt.legend(loc=\"upper right\", fontsize=14)   # 책에는 없음\n",
    "    plt.xlabel(\"Training set size\", fontsize=14) # 책에는 없음\n",
    "    plt.ylabel(\"RMSE\", fontsize=14)              # 책에는 없음"
   ]
  },
  {
   "cell_type": "code",
   "execution_count": 59,
   "metadata": {},
   "outputs": [
    {
     "name": "stdout",
     "output_type": "stream",
     "text": [
      "그림 저장: underfitting_learning_curves_plot\n"
     ]
    },
    {
     "data": {
      "image/png": "[encoded data removed]",
      "text/plain": [
       "<Figure size 432x288 with 1 Axes>"
      ]
     },
     "metadata": {
      "needs_background": "light"
     },
     "output_type": "display_data"
    }
   ],
   "source": [
    "lin_reg = LinearRegression()\n",
    "plot_learning_curves(lin_reg, X, y)\n",
    "plt.axis([0, 80, 0, 3])                         # 책에는 없음\n",
    "save_fig(\"underfitting_learning_curves_plot\")   # 책에는 없음\n",
    "plt.show()  "
   ]
  },
  {
   "cell_type": "markdown",
   "metadata": {},
   "source": [
    "과소적합된 이 모델은 설명이 좀 필요함. 먼저 훈련데이터의 성능을 보면 그래프가 0에서\n",
    "\n",
    "시작하므로 훈련세트에 하나 혹은 2개의 샘플이 있을땐 모델이 완벽하게 작동함.\n",
    "\n",
    "하지만 훈련세트가 추가됨에 따라 잡음도 있고 비선형이기 때문에 \n",
    "\n",
    "모델이 훈련데이터를 완벽히 학습하는 것이 불가능. \n",
    "\n",
    "그래서 곡선이 어느정도 평편해질 때까지 오차가 계속 상승\n",
    "\n",
    "|\n",
    "\n",
    "검증 데이터에 대한 모델은 모델이 적은 수의 훈련샘플로 훈련될 때는 제대로 일반화될 수 없어\n",
    "\n",
    "검증 오차가 초기에 매우 큼. 훈련샘플이 추가됨에 따라 학습이 되고 검증 오차가 천천히 감소\n",
    "\n",
    "하지만 선형회귀의 직선은 데이터를 잘 모델링할 수 없으므로 오차의 감소가 완만해져서 \n",
    "\n",
    "훈련세트의 그래프와 가까워짐.\n",
    "\n",
    "|\n",
    "\n",
    "=> 이 학습 곡선이 과소적합된 모델의 전형적인 모습임.\n",
    "\n",
    "- 해결방안으로는 더 복잡한 모델을 시도하거나 더 나은 특성을 선택해야함."
   ]
  },
  {
   "cell_type": "code",
   "execution_count": 60,
   "metadata": {},
   "outputs": [
    {
     "name": "stdout",
     "output_type": "stream",
     "text": [
      "그림 저장: learning_curves_plot\n"
     ]
    },
    {
     "data": {
      "image/png": "[encoded data removed]",
      "text/plain": [
       "<Figure size 432x288 with 1 Axes>"
      ]
     },
     "metadata": {
      "needs_background": "light"
     },
     "output_type": "display_data"
    }
   ],
   "source": [
    "from sklearn.pipeline import Pipeline\n",
    "\n",
    "# 10차 다항 회귀의 학습 곡선\n",
    "polynomial_regression = Pipeline([\n",
    "        (\"poly_features\", PolynomialFeatures(degree=10, include_bias=False)),\n",
    "        (\"lin_reg\", LinearRegression()),\n",
    "    ])\n",
    "\n",
    "plot_learning_curves(polynomial_regression, X, y)\n",
    "plt.axis([0, 80, 0, 3])           # 책에는 없음\n",
    "save_fig(\"learning_curves_plot\")  # 책에는 없음\n",
    "plt.show()                        # 책에는 없음"
   ]
  },
  {
   "cell_type": "markdown",
   "metadata": {},
   "source": [
    "이 학습곡선은 이전과 비슷해 보이지만 2가지 매우 중요한 차이점이 있음.\n",
    "\n",
    "- 훈련데이터의 오차가 선형 회귀모델보다 훨씬 낮음.\n",
    "\n",
    "- 두 곡선 사이에 공간 존재. -> 훈련데이터에서의 모델성능이 검증데이터에서보다 훨씬 낫다는 뜻.\n",
    "\n",
    "  이는 과대적합 모델의 특징. 그러나 더 큰 훈련세트를 사용하면 2 곡선이 점점 가까워짐.\n",
    "\n",
    "|\n",
    "\n",
    "=> 한가지 개선방법으로는 검증오차가 훈련오차에 근접할 때까지 더 많은 훈련데이터 추가하는 것"
   ]
  },
  {
   "cell_type": "markdown",
   "metadata": {},
   "source": [
    "### 편향/분산 트레이드오프\n",
    "\n",
    "통계학과 머신러닝에서 나온 중요한 이론 하나는 모델의 일반화오차는 3가지 다른 종류의 오차의 합으로 표현할 수 있다는 사실.\n",
    "\n",
    "- 편향\n",
    "\n",
    "일반화 오차 중 편향은 잘못된 가정으로 인한 것. -> 과소적합되기 쉬움(편향이 큰 모델은)\n",
    "\n",
    "(ex. 실제데이터가 2차인데 선형으로 가정하는 경우)\n",
    "\n",
    "- 분산\n",
    "\n",
    "훈련데이터에 있는 작은 변동에 모델이 과도하게 민감하기 때문에 나타남. -> 자유도가 높은 모델이\n",
    "\n",
    "(ex. 고차 다항 모델) 높은 분산을 가지기 쉬워 훈련데이터에 과대적합되기 쉬움.\n",
    "\n",
    "- 줄일 수 없는 오차\n",
    "\n",
    "데이터 자체에 있는 잡읍 때문에 발생. 이 오차를 줄일 수 있는 유일한 방법은 데이터에서 잡음을\n",
    "\n",
    "제거하는 것 (이상치 감지, 고장난 데이터 소스)\n"
   ]
  },
  {
   "cell_type": "markdown",
   "metadata": {},
   "source": [
    "# 규제가 있는 선형 모델"
   ]
  },
  {
   "cell_type": "markdown",
   "metadata": {},
   "source": [
    "## 릿지 회귀"
   ]
  },
  {
   "cell_type": "markdown",
   "metadata": {},
   "source": [
    "## 라쏘 회귀"
   ]
  },
  {
   "cell_type": "markdown",
   "metadata": {},
   "source": [
    "## 엘라스틱넷"
   ]
  },
  {
   "cell_type": "markdown",
   "metadata": {},
   "source": [
    "## 조기 종료"
   ]
  },
  {
   "cell_type": "markdown",
   "metadata": {},
   "source": [
    "# 로지스틱 회귀"
   ]
  },
  {
   "cell_type": "markdown",
   "metadata": {},
   "source": [
    "## 확률 추정"
   ]
  },
  {
   "cell_type": "markdown",
   "metadata": {},
   "source": [
    "## 훈련과 비용 함수"
   ]
  },
  {
   "cell_type": "markdown",
   "metadata": {},
   "source": [
    "## 결정 경계"
   ]
  },
  {
   "cell_type": "markdown",
   "metadata": {},
   "source": [
    "## 소프트맥스 회귀"
   ]
  }
 ],
 "metadata": {
  "interpreter": {
   "hash": "916268a5c6dcd25200736720d94968f5c0533c421c8ed3589928c0deacd85b5f"
  },
  "kernelspec": {
   "display_name": "Python 3.10.0 ('tf_pt')",
   "language": "python",
   "name": "python3"
  },
  "language_info": {
   "codemirror_mode": {
    "name": "ipython",
    "version": 3
   },
   "file_extension": ".py",
   "mimetype": "text/x-python",
   "name": "python",
   "nbconvert_exporter": "python",
   "pygments_lexer": "ipython3",
   "version": "3.10.0"
  },
  "orig_nbformat": 4
 },
 "nbformat": 4,
 "nbformat_minor": 2
}
