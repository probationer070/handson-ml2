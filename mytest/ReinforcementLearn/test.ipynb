{
 "cells": [
  {
   "cell_type": "code",
   "execution_count": 1,
   "metadata": {},
   "outputs": [],
   "source": [
    "import numpy as np\n",
    "import os\n",
    "import sklearn\n",
    "import tensorflow as tf\n",
    "from tensorflow import keras\n",
    "import matplotlib as mpl\n",
    "import matplotlib.pyplot as plt\n",
    "\n",
    "# 부드러운 애니메이션을 위해\n",
    "import matplotlib.animation as animation\n",
    "mpl.rc('animation', html='jshtml')\n"
   ]
  },
  {
   "cell_type": "code",
   "execution_count": 2,
   "metadata": {},
   "outputs": [],
   "source": [
    "import gym\n",
    "env = gym.make('CartPole-v1')"
   ]
  },
  {
   "cell_type": "code",
   "execution_count": 6,
   "metadata": {},
   "outputs": [
    {
     "name": "stdout",
     "output_type": "stream",
     "text": [
      "FileNotFoundError: [WinError 2] 지정된 파일을 찾을 수 없습니다\n"
     ]
    }
   ],
   "source": [
    "from pyvirtualdisplay import Display\n",
    "\n",
    "try:\n",
    "    import pyvirtualdisplay\n",
    "    display = pyvirtualdisplay.Display(visible=0, size=(1400, 900))\n",
    "    display.start()\n",
    "except ImportError:\n",
    "    pass\n",
    "except FileNotFoundError:\n",
    "    print(\"FileNotFoundError: [WinError 2] 지정된 파일을 찾을 수 없습니다\") # 와 씨 먼데, 가망이 없는데?"
   ]
  },
  {
   "cell_type": "markdown",
   "metadata": {},
   "source": [
    "### ffmpeg  설치 고려해 볼 것"
   ]
  },
  {
   "cell_type": "markdown",
   "metadata": {},
   "source": [
    "PyVirtualDisplay (Xvfb 용 Python 래퍼)를 사용 :"
   ]
  },
  {
   "cell_type": "code",
   "execution_count": 7,
   "metadata": {},
   "outputs": [],
   "source": [
    "# #!/usr/bin/env python\n",
    "\n",
    "# from pyvirtualdisplay import Display\n",
    "# from selenium import webdriver\n",
    "\n",
    "# display = Display(visible=0, size=(800, 600))\n",
    "# display.start()\n",
    "\n",
    "# # now Firefox will run in a virtual display. \n",
    "# # you will not see the browser.\n",
    "# browser = webdriver.Firefox()\n",
    "# browser.get('http://www.google.com')\n",
    "# print browser.title\n",
    "# browser.quit()\n",
    "\n",
    "# display.stop()"
   ]
  },
  {
   "cell_type": "markdown",
   "metadata": {},
   "source": [
    "유사한 모듈이지만 외부 종속성이없는 xvfbwrapper 를 사용 :"
   ]
  },
  {
   "cell_type": "markdown",
   "metadata": {},
   "source": [
    "# 이거 원도우 지원할 계획이 없덴다"
   ]
  },
  {
   "cell_type": "code",
   "execution_count": 8,
   "metadata": {},
   "outputs": [
    {
     "data": {
      "text/plain": [
       "'from xvfbwrapper import Xvfb\\n\\nvdisplay = Xvfb()\\nvdisplay.start()\\n\\n# launch stuff inside virtual display here\\n\\nvdisplay.stop()'"
      ]
     },
     "execution_count": 8,
     "metadata": {},
     "output_type": "execute_result"
    }
   ],
   "source": [
    "'''from xvfbwrapper import Xvfb\n",
    "\n",
    "vdisplay = Xvfb()\n",
    "vdisplay.start()\n",
    "\n",
    "# launch stuff inside virtual display here\n",
    "\n",
    "vdisplay.stop()'''"
   ]
  },
  {
   "cell_type": "markdown",
   "metadata": {},
   "source": [
    "### 1. solution\n",
    "PATH 확인도 해주고 anaconda를 지웠다 다시 깔아보고 터미널에 conda init 도 해봐도 결과는 똑같았다.\n",
    "\n",
    "\n",
    "그런데!!\n",
    "\n",
    "\n",
    "주피터 노트북 커널이 잘못된 경로에 있는 파이썬을 가리키고 있는게 문제였다.\n",
    "아나콘다 프롬프트에서 다음을 입력하여 파이썬 환경의 커널 경로를 확인한다.\n",
    "\n",
    "jupyter kernelspec list\n",
    "나 같은 경우는 아래와 같은 절대경로가 출력됬다.\n",
    "\n",
    "C:\\Users\\jeonj\\AppData\\Roaming\\jupyter\\kernels\\python3\n",
    "해당 경로로 이동 후 kernel.json 파일을 열고 argv 에 적힌 절대경로를 \"python.exe\" 로 바꾼다.\n",
    "그리고 다시 쥬피터 노트북을 들어갔더니 커널에러가 사라져있고 numpy도 잘 돌아간다."
   ]
  },
  {
   "cell_type": "markdown",
   "metadata": {},
   "source": [
    "### 2. solution\n",
    "https://github.com/jupyter/notebook/issues/4079 여기를 참고해서\n",
    "\n",
    "Anaconda3 Promt를 열어 아래를 실행하니 정상적으로 된다.\n",
    "\n",
    "python -m ipykernel install --user\n",
    "\n",
    "출처: https://wiblee.tistory.com/entry/Anaconda3-Jupyter-Notebook-실행-시-Kernel-Error [Wiblee Note]"
   ]
  },
  {
   "cell_type": "markdown",
   "metadata": {},
   "source": [
    "he reason you can not run PyVirtualDisplay on Windows is that PyVirtualDisplay uses Xvfb as it's display and Xvfb is a headless display server for the X Window System, Windows does not use the X Window System.\n",
    "\n",
    "not recommended\n",
    "\n",
    "So... what you can do if you insist on working with PyVirtualDisplay is to change the Display(visible=True) Or you can set the backend as is shown in the API here.\n",
    "\n",
    "My recommendation\n",
    "\n",
    "Don't use PyVirtualDisplay you can use any webdriver such as Chrome driver and just add ChromeOptions with --headless.\n",
    "\n",
    "Or in your case you use firefox so it would look something like:\n",
    "\n",
    "from selenium import webdriver\n",
    "from selenium.webdriver.firefox.options import Options\n",
    "\n",
    "```options = Options()\n",
    "options.add_argument(\"--headless\")\n",
    "driver = webdriver.Firefox(firefox_options=options, executable_path=\"C:\\\\Utility\\\\BrowserDrivers\\\\geckodriver.exe\")\n",
    "print(\"Firefox Headless Browser Invoked\")\n",
    "driver.get('http://google.com/')\n",
    "driver.quit()\n",
    "```\n",
    "\n",
    "\n",
    "For more updated info just have a look here."
   ]
  }
 ],
 "metadata": {
  "interpreter": {
   "hash": "fa33c4a6c31e56ff04393d7dde2f7225bbbd2efac9c2659bb022c733a7bdafcf"
  },
  "kernelspec": {
   "display_name": "Python 3.10.4 ('tf_pt2')",
   "language": "python",
   "name": "python3"
  },
  "language_info": {
   "codemirror_mode": {
    "name": "ipython",
    "version": 3
   },
   "file_extension": ".py",
   "mimetype": "text/x-python",
   "name": "python",
   "nbconvert_exporter": "python",
   "pygments_lexer": "ipython3",
   "version": "3.10.4"
  },
  "orig_nbformat": 4
 },
 "nbformat": 4,
 "nbformat_minor": 2
}
