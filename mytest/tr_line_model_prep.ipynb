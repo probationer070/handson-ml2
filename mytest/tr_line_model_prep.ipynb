{
 "cells": [
  {
   "cell_type": "markdown",
   "metadata": {},
   "source": [
    "# 모델 훈련"
   ]
  },
  {
   "cell_type": "markdown",
   "metadata": {},
   "source": [
    "그 전까지는 머신러닝 모델과 훈련 알고리즘을 블랙박스 취급.\n",
    "\n",
    "실제 어떻게 구현되는지는 몰라도 구현했지만 지금부터는 구현의 상세 사항을 실제로 알아야 함.\n",
    "\n",
    "|\n",
    "\n",
    "작동원리를 이해하고 있다면 디버깅이나 에러를 효율적으로 분석하는데 도움이 될 것.\n",
    "\n",
    "이번 장에서 언급하는 대부분의 주제는 2부에서 다룰 신경망을 이해하고 구축하고 훈련시키는데 필수.\n",
    "\n",
    "|\n",
    "\n",
    "이번 장은 선형 회귀부터 시작함. 이 모델은 훈련시키는 2가지 방법을 설명하자면\n",
    "\n",
    "* 직접 계산 가능한 공식을 사용해 훈련 세트에 가장 적합한 모델 파라미터(훈련세트에 대해\n",
    "\n",
    "  비용함수를 최소화하는 모델 파라미터)를 해석적으로 구함\n",
    "\n",
    "* 경사하강법(gradient Descent)라고 불리는 반복적 최적화 방식을 사용해 모델 파라미터를\n",
    "\n",
    "  조금씩 바꾸면서 비용함수를 훈련 세트에 대해 최소화 시킴. 결국은 앞에 방법과 동일한 파라미터로 수렴.\n",
    "\n",
    "-> 배치 경사하강법, 미니배치 경사하강법, 확률적 경사하강법도 살펴봄."
   ]
  },
  {
   "cell_type": "markdown",
   "metadata": {},
   "source": [
    "### ! CAUTION\n",
    "\n",
    "이 장에는 기초적인 선형대수와 미분 기호를 사용한 수학 방정식이 꽤 나옴.\n",
    "\n",
    "이 식들을 이해하려면 행렬, 전치, 점곱, 역행렬, 편미분에 대해 알아야 함.\n",
    "\n",
    "잘모르겠다면 깃허브에서 잘 살펴볼 것."
   ]
  },
  {
   "cell_type": "markdown",
   "metadata": {},
   "source": [
    "# 선형회귀"
   ]
  },
  {
   "cell_type": "markdown",
   "metadata": {},
   "source": [
    "삶의 만족도 $= \\theta_0 + \\theta_1 * $ 1인당_GDP"
   ]
  },
  {
   "cell_type": "markdown",
   "metadata": {},
   "source": [
    "**Equation 4-1: Linear Regression model prediction**\n",
    "\n",
    "$\n",
    "\\hat{y} = \\theta_0 + \\theta_1 x_1 + \\theta_2 x_2 + \\dots + \\theta_n x_n\n",
    "$\n",
    "\n",
    "\n",
    "**Equation 4-2: Linear Regression model prediction (vectorized form)**\n",
    "\n",
    "$\n",
    "\\hat{y} = h_{\\boldsymbol{\\theta}}(\\mathbf{x}) = \\boldsymbol{\\theta} \\cdot \\mathbf{x}\n",
    "$\n",
    "\n",
    "이것이 선형 회귀 모델입니다. 그러면 이제 훈련시켜볼까요? 모델을 훈련시킨다는 것은\n",
    "\n",
    "모델이 훈련 세트에 가장 잘 맞도록 모델 파라미터를 설정하는 것.\n",
    "\n",
    " \n",
    "\n",
    "2장에서 회귀에 가장 널리 사용되는 지표는 RMSE(평균제곱근오차)라고 언급했었고,\n",
    "\n",
    "그러므로 선형 회귀 모델을 훈련시키려면 RMSE를 최소화하는 $/theta$ 를 찾아야 함.\n",
    "\n",
    " \n",
    "\n",
    "훈련 세트 X에 대한 선형 회귀 가설 $h_{\\boldsymbol{\\theta}}$ 의 MSE는 위의 식처럼 계산함.\n",
    "\n",
    "**Equation 4-3: MSE cost function for a Linear Regression model**\n",
    "\n",
    "$\n",
    "\\text{MSE}(\\mathbf{X}, h_{\\boldsymbol{\\theta}}) = \\dfrac{1}{m} \\sum\\limits_{i=1}^{m}{(\\boldsymbol{\\theta}^T \\mathbf{x}^{(i)} - y^{(i)})^2}\n",
    "$\n",
    "\n",
    "이 표기의 대부분은 2장에서 설명했고 딱 하나의 차이는 벡터 $\\theta$ 를 가진다는 것임.\n",
    "\n",
    "간단하게 표시하기 위해 $\\text{MSE}(\\mathbf{X}, h_{\\boldsymbol{\\theta}})$ 대신\n",
    "\n",
    "$\\text{MSE}(\\theta)$ 라고 쓰겠습니다.\n"
   ]
  },
  {
   "cell_type": "markdown",
   "metadata": {},
   "source": [
    "## 정규방정식\n",
    "\n",
    "**Equation 4-4: Normal Equation**\n",
    "\n",
    "$\n",
    "\\hat{\\boldsymbol{\\theta}} = (\\mathbf{X}^T \\mathbf{X})^{-1} \\mathbf{X}^T \\mathbf{y}\n",
    "$"
   ]
  },
  {
   "cell_type": "code",
   "execution_count": 1,
   "metadata": {},
   "outputs": [],
   "source": [
    "import os\n",
    "\n",
    "PROJECT_ROOT_DIR = \".\"\n",
    "CHAPTER_ID = \"classification\"\n",
    "IMAGES_PATH = os.path.join(PROJECT_ROOT_DIR, \"images\", CHAPTER_ID)\n",
    "os.makedirs(IMAGES_PATH, exist_ok=True)\n",
    "\n",
    "def save_fig(fig_id, tight_layout=True, fig_extension=\"png\", resolution=300):\n",
    "    path = os.path.join(IMAGES_PATH, fig_id + \".\" + fig_extension)\n",
    "    print(\"그림 저장:\", fig_id)\n",
    "    if tight_layout:\n",
    "        plt.tight_layout()\n",
    "    plt.savefig(path, format=fig_extension, dpi=resolution)"
   ]
  },
  {
   "cell_type": "code",
   "execution_count": 3,
   "metadata": {},
   "outputs": [],
   "source": [
    "import numpy as np\n",
    "\n",
    "X = 2 * np.random.rand(100, 1)        # (0~1)난수생성 100 * 1\n",
    "y = 4 + 3 * X + np.random.randn(100, 1) # 난수생성 100 * 1"
   ]
  },
  {
   "cell_type": "code",
   "execution_count": 4,
   "metadata": {},
   "outputs": [
    {
     "name": "stdout",
     "output_type": "stream",
     "text": [
      "그림 저장: generated_data_plot\n"
     ]
    },
    {
     "data": {
      "image/png": "[encoded data removed]",
      "text/plain": [
       "<Figure size 432x288 with 1 Axes>"
      ]
     },
     "metadata": {
      "needs_background": "light"
     },
     "output_type": "display_data"
    }
   ],
   "source": [
    "import matplotlib.pyplot as plt\n",
    "\n",
    "plt.plot(X, y, \"b.\")\n",
    "plt.xlabel(\"$x_1$\", fontsize=18)\n",
    "plt.ylabel(\"$y$\", rotation=0, fontsize=18)\n",
    "plt.axis([0, 2, 0, 15])\n",
    "save_fig(\"generated_data_plot\")\n",
    "plt.show()"
   ]
  },
  {
   "cell_type": "markdown",
   "metadata": {},
   "source": [
    "그럼 이제 정규방정식을 사용해 $\\hat{\\theta}$ 를 계산해봅시다.\n",
    "\n",
    "넘파이 선형대수 모듈 (np.linalg) 에 있는 inv()를 사용해 역행렬을 계산하고 \n",
    "\n",
    "dot()을 사용해 행렬곱셈을 하겠습니다."
   ]
  },
  {
   "cell_type": "markdown",
   "metadata": {},
   "source": [
    "#### random 함수 ***\n",
    "\n",
    "* np.random.seed seed를 통한 난수 생성\n",
    "\n",
    "* np.random.randint 균일 분포의 정수 난수 1개 생성\n",
    "\n",
    "* np.random.rand 0부터 1사이의 균일 분포에서 난수 matrix array생성\n",
    "\n",
    "* np.random.randn 가우시안 표준 정규 분포에서 난수 matrix array생성\n",
    "\n",
    "* np.random.shuffle 기존의 데이터의 순서 바꾸기\n",
    "\n",
    "* np.random.choice 기존의 데이터에서 sampling\n",
    "\n",
    "* np.unique 데이터에서 중복된 값을 제거하고 중복되지 않는 값의 리스트를 출력\n",
    "\n",
    "* np.bincount 발생하지 않은 사건에 대해서도 카운트를 해준다"
   ]
  },
  {
   "cell_type": "code",
   "execution_count": 5,
   "metadata": {},
   "outputs": [],
   "source": [
    "X_b = np.c_[np.ones((100, 1)), X]  # 모든 샘플에 x0 = 1을 추가합니다.\n",
    "theta_best = np.linalg.inv(X_b.T.dot(X_b)).dot(X_b.T).dot(y)"
   ]
  },
  {
   "cell_type": "markdown",
   "metadata": {},
   "source": [
    "이 데이터를 생성하기 위해 사용한 함수는 $\\text{y} = 4 + 3 x_1 + $ 가우시안_잡음\n",
    "\n",
    "정규방정식으로 계산한 값을 확인해봅시다."
   ]
  },
  {
   "cell_type": "code",
   "execution_count": 6,
   "metadata": {},
   "outputs": [
    {
     "data": {
      "text/plain": [
       "array([[3.91928436],\n",
       "       [3.01203907]])"
      ]
     },
     "execution_count": 6,
     "metadata": {},
     "output_type": "execute_result"
    }
   ],
   "source": [
    "theta_best"
   ]
  },
  {
   "cell_type": "markdown",
   "metadata": {},
   "source": [
    "$\\theta_0 = 3.83$ 과 $\\theta_1 = 3.07$ 대신 $\\theta_0 = 4$ 와 $\\theta_1 = 3$ 을 기대했으나 약간의 오차\n",
    "\n",
    "매우 비슷하지만 잡음 때문에 원래 함수의 파라미터를 정확하게 재현하지 못함.\n",
    "\n",
    "$\\hat{\\theta}$ 를 사용해 예측해봅시다."
   ]
  },
  {
   "cell_type": "code",
   "execution_count": 7,
   "metadata": {},
   "outputs": [
    {
     "data": {
      "text/plain": [
       "array([[3.91928436],\n",
       "       [9.94336249]])"
      ]
     },
     "execution_count": 7,
     "metadata": {},
     "output_type": "execute_result"
    }
   ],
   "source": [
    "X_new = np.array([[0], [2]])            # 2차원 행렬\n",
    "X_new_b = np.c_[np.ones((2, 1)), X_new] # X_new 행렬과 2*1 행렬을 왼쪽에서 오른쪽으로 합침\n",
    "                                        # c_ 왼쪽에서 오른쪽으로 합치기\n",
    "                                        # r_위에서 아래로 합치기\n",
    "                                        # ones, zeros, empty 각각 제목의 원소를 가진 행렬 생성\n",
    "y_predict = X_new_b.dot(theta_best)\n",
    "y_predict"
   ]
  },
  {
   "cell_type": "markdown",
   "metadata": {},
   "source": [
    "모델 예측을 위해 그래프를 그려봅시다."
   ]
  },
  {
   "cell_type": "code",
   "execution_count": 8,
   "metadata": {},
   "outputs": [
    {
     "data": {
      "image/png": "[encoded data removed]",
      "text/plain": [
       "<Figure size 432x288 with 1 Axes>"
      ]
     },
     "metadata": {
      "needs_background": "light"
     },
     "output_type": "display_data"
    }
   ],
   "source": [
    "plt.plot(X_new, y_predict, \"r-\", label=\"predict\")   # 선의 이름은 여기서 설정\n",
    "plt.legend(loc=\"upper left\", fontsize=12)   # 범례 위치\n",
    "plt.xlabel(\"$x_1$\", fontsize=18)            # x축 이름\n",
    "plt.ylabel(\"$y$\", rotation=0, fontsize=18)              # y축 이름\n",
    "plt.plot(X, y, \"b.\")          # 파란색 포인트 마커\n",
    "plt.axis([0, 2, 0, 15])       # x범위 (0 ~ 2.00), y범위 (0 ~ 15.00)\n",
    "\n",
    "plt.show()"
   ]
  },
  {
   "cell_type": "markdown",
   "metadata": {},
   "source": [
    "사이킷런에서 선형 회귀를 수행하는 것은 간단."
   ]
  },
  {
   "cell_type": "code",
   "execution_count": 9,
   "metadata": {},
   "outputs": [
    {
     "data": {
      "text/plain": [
       "(array([3.91928436]), array([[3.01203907]]))"
      ]
     },
     "execution_count": 9,
     "metadata": {},
     "output_type": "execute_result"
    }
   ],
   "source": [
    "from sklearn.linear_model import LinearRegression\n",
    "\n",
    "lin_reg = LinearRegression()\n",
    "lin_reg.fit(X, y)\n",
    "lin_reg.intercept_, lin_reg.coef_"
   ]
  },
  {
   "cell_type": "markdown",
   "metadata": {},
   "source": [
    "LinearRegression 클래스는 scipy.linalg.lstsq()를 기반으로 함. 직접 호출도 가능"
   ]
  },
  {
   "cell_type": "code",
   "execution_count": 10,
   "metadata": {},
   "outputs": [
    {
     "data": {
      "text/plain": [
       "array([[3.91928436],\n",
       "       [3.01203907]])"
      ]
     },
     "execution_count": 10,
     "metadata": {},
     "output_type": "execute_result"
    }
   ],
   "source": [
    "theta_best_svd, residuals, rank, s = np.linalg.lstsq(X_b, y, rcond=1e-6)\n",
    "theta_best_svd"
   ]
  },
  {
   "cell_type": "markdown",
   "metadata": {},
   "source": [
    "이 함수는 $\\mathbf{X}^+\\mathbf{y}$을 계산합니다. $\\mathbf{X}^{+}$는 \n",
    "\n",
    "$\\mathbf{X}$의 _유사역행렬_ (pseudoinverse)입니다(Moore–Penrose 유사역행렬입니다). \n",
    "\n",
    "`np.linalg.pinv()`을 사용해서 유사역행렬을 직접 계산할 수 있습니다:"
   ]
  },
  {
   "cell_type": "code",
   "execution_count": 11,
   "metadata": {},
   "outputs": [
    {
     "data": {
      "text/plain": [
       "array([[3.91928436],\n",
       "       [3.01203907]])"
      ]
     },
     "execution_count": 11,
     "metadata": {},
     "output_type": "execute_result"
    }
   ],
   "source": [
    "np.linalg.pinv(X_b).dot(y)"
   ]
  },
  {
   "cell_type": "markdown",
   "metadata": {},
   "source": [
    "유사역행렬 자체는 특잇값분해(Singular Value Decomposition)라 부르는 표준 행렬 분해 기법을\n",
    "\n",
    "사용해 계산되고, SVD는 훈련세트행렬 X를 3개의 행렬곱셈 $\\mathbf{U} \\mathbf{\\sum\\limits} \\mathbf{V}^T$\n",
    "\n",
    "로 분해 (numpy.linalg.svd() 참고) 유사역행렬은 $\\text{X}^+ = \\text{V} \\mathbf{\\sum\\limits}^+ \\mathbf{U}^T $ 로 계산됨\n",
    "\n",
    "알고리즘이 먼저 $\\mathbf{\\sum\\limits}$ 를 먼저 구하고 그다음 어떤 낮은 임곗값보다 \n",
    "\n",
    "작은 모든 수를 0으로 바꿈. 그 다음 0이 아닌 모든 값은 역수로 치환함.\n",
    "\n",
    "\\\n",
    "\n",
    "마지막으로 만들어진 행렬을 전치함. 정규방정식을 계산하는 것보다 이 방식이 효율적\n",
    "\n",
    "또한 극단적인 경우도 처리할 수 있음. 실제로 m < n 이거나 어떤 특성이 중복되어 \n",
    "\n",
    "행렬 $\\mathbf{X}^T \\mathbf{X}$ 의 역행렬이 없다면 정규방정식이 작동 안 함. 하지만 유사역행렬은 항상 구할 수 있음."
   ]
  },
  {
   "cell_type": "markdown",
   "metadata": {},
   "source": [
    "## 계산복잡도\n",
    "\n",
    "정규방정식은 $(\\mathbf{n}+1)*(\\mathbf{n}+1)$ 크기가 되는  $\\mathbf{X}^T \\mathbf{X}$ 의 역행렬을 계산\n",
    "\n",
    "(n은 특성 수) 역행렬 계산하는 계산 복잡도는 일반적으로 $\\mathbf{O}(\\mathbf{n^{2.4}})$ ~ $\\mathbf{O}(\\mathbf{n^{3}})$ 사이\n",
    "\n",
    "다시 말해 특성 수가 2배로 늘어나면 계산 시간이 대략 5.3배에서 8배 증가\n",
    "\n",
    " \n",
    "\n",
    "사이킷런의 LinearRegression 클래스가 사용하는 SVD 방법은 약 $\\mathbf{O}(\\mathbf{n^{2}})$ 임.\n",
    "\n",
    "특성 수 2배 -> 계산시간 4배"
   ]
  },
  {
   "cell_type": "markdown",
   "metadata": {},
   "source": [
    "### ! CAUTION\n",
    "\n",
    "정규방정식과 SVD방법 모두 특성 수가 많아지면 (대략 100,000) 매우 느려짐.\n",
    "\n",
    "다행인 것은 훈련세트의 샘플 수에 대해서는 선형적으로 증가함.(둘 다 $\\mathbf{O}(\\mathbf{m})$)\n",
    "\n",
    "따라서 메모리 공간만 허락된다면 큰 훈련 세트도 효율적으로 처리가능."
   ]
  },
  {
   "cell_type": "markdown",
   "metadata": {},
   "source": [
    "또한 학습된 선형모델은 예측이 매우 빠름. 예측 계산복잡도는 샘플 수와 특성 수에 선형적임.\n",
    "\n",
    "다시 말해 예측하려는 샘플이 2배로 늘어나면 걸리는 시간도 2배"
   ]
  },
  {
   "cell_type": "markdown",
   "metadata": {},
   "source": [
    "# 경사하강법 (GD)\n",
    "\n",
    "이제는 아주 다른 방법으로 선형회귀모델을 훈련 실습을 해보도록함.\n",
    "\n",
    "이 방법은 특성이 매우 많고 훈련 샘플이 너무 많아 메모리에 모두 담을 수 없을 때 적합.\n",
    "\n",
    "|\n",
    "\n",
    "파라미터 벡터 $\\theta$ 에 대해 비용함수의 현재 그레디언트를 계산.\n",
    "\n",
    "그리고 그레디언트가 감소하는 방향으로 진행. 그레디언트가 0이면 최솟값에 도달.\n",
    "\n",
    "구체적으로 보면 $\\theta$ 값을 무작위 초기화함. 그리고 조금씩 비용함수가 감소되는 방향으로 진행해\n",
    "\n",
    "알고리즘이 최솟값에 수렴할 때까지 점진적으로 수행.\n",
    "\n",
    "|\n",
    "\n",
    "GD의 중요한 파라미터는 학습률(Learning rate)로 결정됨. \n",
    "\n",
    "학습률이 작으면 반복을 많이 해야하므로 시간이 오래걸림.\n",
    "\n",
    "반대로 학습률이 너무 크면 골짜기를 가로질러 반대편으로 건너뛰게 되서 더 큰 값으로 발산됨.\n",
    "\n",
    "|\n",
    "\n",
    "그렇다고 모든 비용함수가 매끈한 그릇같지는 않기 때문에 패인곳이나 산마루, 평지과 같은\n",
    "\n",
    "특이한 지형이 있으면 최솟값으로 수렴하기 어려움. 전역최솟값과 지역최솟값 때문에 문제가 될 수 있음.\n",
    "\n",
    "|\n",
    "\n",
    "다행히 선형 회귀를 위한 MSE 비용함수는 곡선에서 어떤 두 점을 선택해 선을 그어도 곡선을 \n",
    "\n",
    "가로지르지 않는 볼록함수임. -> 지역최솟값이 없고 전역최솟값만 존재\n",
    "\n",
    "또한 연속함수이며 기울기가 갑자기 변하지도 않음.\n",
    "\n",
    "=> 이 두 사실로부터 경사하강법(Gradient Descent)이 전역 최솟값에 가깝게 접근 가능함을 보장.\n",
    "\n",
    "|\n",
    "\n",
    "사실 비용 함수는 그릇모양을 하고 있지만 특성들의 스케일이 매우 다르면 길쭉한 모양일 수 있음.\n",
    "\n",
    "### ! CAUTION\n",
    "\n",
    "경사하강법을 사용할 때는 반드시 모든 특성이 같은 스케일을 갖도록 만들어야 함.\n",
    "\n",
    "그렇지 않으면 수렴하는데 오래 걸림. (사이킷런의 도구 StandardScalar)"
   ]
  },
  {
   "cell_type": "markdown",
   "metadata": {},
   "source": [
    "## 배치 경사 하강법\n",
    "\n",
    "경사 하강법을 구현하려면 각 모델 파라미터 $\\theta_\\mathbf{j}$ 에 대해 비용함수의 그레디언트를 계산함.\n",
    "\n",
    "다시 말해 $\\theta_\\mathbf{j}$ 가 조금 변경될 때 비용함수가 얼마나 바뀌는지 계산해야함.\n",
    "\n",
    "이를 편도함수라고함. 이는 '동쪽을 바라봤을 때 발밑에 느껴지는 산의 기울기는 얼마인가?'와 같은 질문임.\n",
    "\n",
    "|\n",
    "\n",
    "그리고 같은 질문을 북쪽에 대해서도 함.\n",
    "\n",
    "[식 4-5]는 파라미터 $\\theta_\\mathbf{j}$ 에 대한 비용함수의 편도함수 $\\dfrac{\\partial}{\\partial \\theta_j} \\text{MSE}(\\boldsymbol{\\theta})$ 임\n",
    "\n",
    "|\n",
    "\n",
    "**Equation 4-5: Partial derivatives of the cost function**\n",
    "\n",
    "$\n",
    "\\dfrac{\\partial}{\\partial \\theta_j} \\text{MSE}(\\boldsymbol{\\theta}) = \\dfrac{2}{m}\\sum\\limits_{i=1}^{m}(\\boldsymbol{\\theta}^T \\mathbf{x}^{(i)} - y^{(i)})\\, x_j^{(i)}\n",
    "$\n",
    "\n",
    "\n",
    "**Equation 4-6: Gradient vector of the cost function**\n",
    "\n",
    "$\n",
    "\\nabla_{\\boldsymbol{\\theta}}\\, \\text{MSE}(\\boldsymbol{\\theta}) =\n",
    "\\begin{pmatrix}\n",
    " \\frac{\\partial}{\\partial \\theta_0} \\text{MSE}(\\boldsymbol{\\theta}) \\\\\n",
    " \\frac{\\partial}{\\partial \\theta_1} \\text{MSE}(\\boldsymbol{\\theta}) \\\\\n",
    " \\vdots \\\\\n",
    " \\frac{\\partial}{\\partial \\theta_n} \\text{MSE}(\\boldsymbol{\\theta})\n",
    "\\end{pmatrix}\n",
    " = \\dfrac{2}{m} \\mathbf{X}^T (\\mathbf{X} \\boldsymbol{\\theta} - \\mathbf{y})\n",
    "$\n"
   ]
  },
  {
   "cell_type": "markdown",
   "metadata": {},
   "source": [
    "### ! CAUTION \n",
    "\n",
    "이 공식은 매 경사하강법 스텝에서 전체 훈련 세트 X에 대해 계산합니다.\n",
    "\n",
    "그래서 이 알고리즘을 '배치경사하강법'이라고 함. 즉 매 스텝에서 훈련데이터 전체를 사용. \n",
    "\n",
    "(사실 전체경사하강법이 더 어울림)\n",
    "\n",
    "|\n",
    "\n",
    "그러나 경사하강법은 특성 수에 민감하지 않음. 이런 이유로 매우 큰 훈련세트에서는 아주 느림.\n",
    "\n",
    "경사하강법은 특성 수에 민감하지 않음. 수십만 개의 특성에서 선형회귀를 훈련시키려면 \n",
    "\n",
    "정규방정식이나 SVD분해보다 경사하강법을 사용하는 편이 훨씬 빠름."
   ]
  },
  {
   "cell_type": "markdown",
   "metadata": {},
   "source": [
    "**Equation 4-7: Gradient Descent step**\n",
    "\n",
    "$\n",
    "\\boldsymbol{\\theta}^{(\\text{next step})} = \\boldsymbol{\\theta} - \\eta \\nabla_{\\boldsymbol{\\theta}}\\, \\text{MSE}(\\boldsymbol{\\theta})\n",
    "$\n",
    "\n",
    "\n",
    "$ O(\\frac{1}{\\text{iterations}}) $\n",
    "\n",
    "\n",
    "$ \\hat{y} = 0.56 x_1^2 + 0.93 x_1 + 1.78 $\n",
    "\n",
    "\n",
    "$ y = 0.5 x_1^2 + 1.0 x_1 + 2.0 + \\text{Gaussian noise} $\n",
    "\n",
    "\n",
    "$ \\dfrac{(n+d)!}{d!\\,n!} $\n",
    "\n",
    "\n",
    "$ \\alpha \\sum_{i=1}^{n}{{\\theta_i}^2}$\\\n",
    "\n",
    "위로 향하는 그레디언트 벡터가 구해지면 반대 방향인 아래로 가야함.\n",
    "\n",
    "$\\theta$ 에서 $\\nabla_{\\boldsymbol{\\theta}}\\, \\text{MSE}(\\boldsymbol{\\theta})$ 를 빼야한다는 뜻. 여기서 학습률\n",
    "$\\eta$ 가 사용됨. \n",
    "\n",
    "내려가는 스텝의 크기를 결정하기 위해 그레디언트 벡터에 $\\eta$ 를 곱함."
   ]
  },
  {
   "cell_type": "code",
   "execution_count": 12,
   "metadata": {},
   "outputs": [],
   "source": [
    "eta = 0.1  # 학습률\n",
    "n_iterations = 1000     # 반복 횟수\n",
    "m = 100\n",
    "\n",
    "theta = np.random.randn(2,1)  # 랜덤 초기화\n",
    "\n",
    "for iteration in range(n_iterations):\n",
    "    gradients = 2/m * X_b.T.dot(X_b.dot(theta) - y)     # T는 전치행렬\n",
    "    theta = theta - eta * gradients"
   ]
  },
  {
   "cell_type": "code",
   "execution_count": 13,
   "metadata": {},
   "outputs": [
    {
     "data": {
      "text/plain": [
       "array([[3.91928436],\n",
       "       [3.01203907]])"
      ]
     },
     "execution_count": 13,
     "metadata": {},
     "output_type": "execute_result"
    }
   ],
   "source": [
    "# theta 확인\n",
    "theta"
   ]
  },
  {
   "cell_type": "markdown",
   "metadata": {},
   "source": [
    "정규방정식으로 찾은 것과 정확히 같음. 학습률 $\\eta$ 를 바꿔보면 어떨까?\n",
    "\n",
    "아래 그림은 3가지 다른 학습률을 사용해 진행한 경사하강법의 스텝 처음 10개를 보여줌."
   ]
  },
  {
   "cell_type": "code",
   "execution_count": 14,
   "metadata": {},
   "outputs": [],
   "source": [
    "theta_path_bgd = []\n",
    "\n",
    "def plot_gradient_descent(theta, eta, theta_path=None):\n",
    "    m = len(X_b)\n",
    "    plt.plot(X, y, \"b.\")\n",
    "    n_iterations = 1000\n",
    "    for iteration in range(n_iterations):\n",
    "        if iteration < 10:\n",
    "            y_predict = X_new_b.dot(theta)\n",
    "            style = \"b-\" if iteration > 0 else \"r--\"\n",
    "            plt.plot(X_new, y_predict, style)\n",
    "        gradients = 2/m * X_b.T.dot(X_b.dot(theta) - y)\n",
    "        theta = theta - eta * gradients\n",
    "        if theta_path is not None:\n",
    "            theta_path.append(theta)\n",
    "    plt.xlabel(\"$x_1$\", fontsize=18)\n",
    "    plt.axis([0, 2, 0, 15])\n",
    "    plt.title(r\"$\\eta = {}$\".format(eta), fontsize=16)"
   ]
  },
  {
   "cell_type": "code",
   "execution_count": 15,
   "metadata": {},
   "outputs": [
    {
     "name": "stdout",
     "output_type": "stream",
     "text": [
      "그림 저장: gradient_descent_plot\n"
     ]
    },
    {
     "data": {
      "image/png": "[encoded data removed]",
      "text/plain": [
       "<Figure size 720x288 with 3 Axes>"
      ]
     },
     "metadata": {
      "needs_background": "light"
     },
     "output_type": "display_data"
    }
   ],
   "source": [
    "np.random.seed(42)\n",
    "theta = np.random.randn(2,1)  # random initialization\n",
    "\n",
    "plt.figure(figsize=(10,4))\n",
    "plt.subplot(131); plot_gradient_descent(theta, eta=0.02)\n",
    "plt.ylabel(\"$y$\", rotation=0, fontsize=18)\n",
    "plt.subplot(132); plot_gradient_descent(theta, eta=0.1, theta_path=theta_path_bgd)\n",
    "plt.subplot(133); plot_gradient_descent(theta, eta=0.5)\n",
    "\n",
    "save_fig(\"gradient_descent_plot\")\n",
    "plt.show()"
   ]
  },
  {
   "cell_type": "markdown",
   "metadata": {},
   "source": [
    "왼쪽은 학습률이 너무 낮아 최적점에 결국 도달하겠지만 시간이 오래 걸리 것임.\n",
    "\n",
    "가운데는 학습률이 적당해보임. 반복 몇 번만에 최적점에 수렴.\n",
    "\n",
    "오른쪽은 학습륭이 너무 높아 발산, 최적점에서 점점 멀어짐.\n",
    "\n",
    "|\n",
    "\n",
    "적절한 학습률을 찾으려면 그리드 탐색(2장 참고)을 사용.\n",
    "\n",
    "하지만 그리드 탐색에서 수렴하는데 너무 오래걸리는 모델을 막기 위해 반복횟수 제한필요.\n",
    "\n",
    "|\n",
    "\n",
    "반복 횟수를 아주 크게 지정하고 그레디언트 벡터가 아주 작아지면, 즉 벡터의 노름이 어떤 값보다\n",
    "\n",
    "작아지면 경사하강법이 거의 최솟값에 도달한 것이므로 알고리즘을 중지하는 것."
   ]
  },
  {
   "cell_type": "markdown",
   "metadata": {},
   "source": [
    "\n",
    "## 확률적 경사 하강법\n"
   ]
  },
  {
   "cell_type": "markdown",
   "metadata": {},
   "source": [
    "확률적경사하강법은 매 스텝에서 1개의 샘플을 무작위로 선택하고 그 하나의 샘플에 대한 그레디언트를 계산. \n",
    "\n",
    "매 반복에서 다뤄야 할 데이터가 매우 적기 때문에 한번에 하나의 샘플을 처리하면 알고리즘이 \n",
    "\n",
    "확실히 훨씬 빠름. 또한 매 반복에서 하나의 샘플만 메모리에 있으면 되므로 \n",
    "\n",
    "매우 큰 훈련 세트도 훈련시킬 수 있음."
   ]
  },
  {
   "cell_type": "code",
   "execution_count": 16,
   "metadata": {},
   "outputs": [],
   "source": [
    "theta_path_sgd = []\n",
    "m = len(X_b)\n",
    "np.random.seed(42)"
   ]
  },
  {
   "cell_type": "code",
   "execution_count": 17,
   "metadata": {},
   "outputs": [
    {
     "name": "stdout",
     "output_type": "stream",
     "text": [
      "그림 저장: sgd_plot\n"
     ]
    },
    {
     "data": {
      "image/png": "[encoded data removed]",
      "text/plain": [
       "<Figure size 432x288 with 1 Axes>"
      ]
     },
     "metadata": {
      "needs_background": "light"
     },
     "output_type": "display_data"
    }
   ],
   "source": [
    "n_epochs = 50\n",
    "t0, t1 = 5, 50  # 학습 스케줄 하이퍼파라미터\n",
    "\n",
    "def learning_schedule(t):\n",
    "    return t0 / (t + t1)\n",
    "\n",
    "theta = np.random.randn(2,1)  # 랜덤 초기화\n",
    "\n",
    "for epoch in range(n_epochs):\n",
    "    for i in range(m):\n",
    "        if epoch == 0 and i < 20:                    # 책에는 없음 | i는 20미만이고 에포크는 0일 때\n",
    "            y_predict = X_new_b.dot(theta)           # 책에는 없음 | 스칼라 내적 (그냥 행렬 곱)\n",
    "            style = \"b-\" if i > 0 else \"r--\"         # 책에는 없음 | i가 0 이상일때 파란 실선\n",
    "                                                     # 그 외는 붉은 점선\n",
    "            plt.plot(X_new, y_predict, style)        # 책에는 없음 | 반복으로 스타일 지정\n",
    "        random_index = np.random.randint(m)\n",
    "        xi = X_b[random_index:random_index+1]\n",
    "        yi = y[random_index:random_index+1]\n",
    "        gradients = 2 * xi.T.dot(xi.dot(theta) - yi)\n",
    "        eta = learning_schedule(epoch * m + i)\n",
    "        theta = theta - eta * gradients\n",
    "        theta_path_sgd.append(theta)                 # 책에는 없음\n",
    "\n",
    "plt.plot(X, y, \"b.\")                                 # 파란색 점 출력\n",
    "plt.xlabel(\"$x_1$\", fontsize=18)                     # x축 이름\n",
    "plt.ylabel(\"$y$\", rotation=0, fontsize=18)           # y축 이름\n",
    "plt.axis([0, 2, 0, 15])                              # x축 범위 (0~2), y축 범위(0~15)\n",
    "save_fig(\"sgd_plot\")                                 # 그림 저장 함수\n",
    "plt.show()                                           # 그래프 구현"
   ]
  },
  {
   "cell_type": "code",
   "execution_count": 18,
   "metadata": {},
   "outputs": [
    {
     "data": {
      "text/plain": [
       "array([[3.95122819],\n",
       "       [2.97794039]])"
      ]
     },
     "execution_count": 18,
     "metadata": {},
     "output_type": "execute_result"
    }
   ],
   "source": [
    "theta"
   ]
  },
  {
   "cell_type": "markdown",
   "metadata": {},
   "source": [
    "배치경사하강법에서는 전체훈련세트에 대해 1000번 반복하는 동안 이 코드는 훈련세트에서 50번만 반복하고도\n",
    "\n",
    "매우 좋은 값에 도달. 위의 그림은 훈련스텝의 첫 20개를 보여줌.(스텝이 불규칙하게 진행)\n",
    "\n",
    "|\n",
    "\n",
    "샘플을 무작위로 선택하기 때문에 어떤 샘플은 한 에포크에서 여러 번 선택될 수도 있고\n",
    "\n",
    "어떤 샘플은 전혀 선택되지 못할 수도 있음. 알고리즘이 에포크마다 모든 샘플을 사용하게 하려면 훈련세트를 섞은 후\n",
    "\n",
    "(입력 특성과 레이블을 동일하게 섞어야 함.) 차례대로 하나씩 선택하고 다음 에포크에서 다시 섞는 식의 방법을 사용"
   ]
  },
  {
   "cell_type": "markdown",
   "metadata": {},
   "source": [
    "### ! CAUTION \n",
    "\n",
    "확률적 경사 하강법을 사용할 때 훈련 샘플이 IID를 만족해야 평균적으로 파라미터가 전역 최적점을\n",
    "\n",
    "향해 진행한다고 보장할 수 있음. 이렇게 만드는 간단한 방법은 훈련하는 동안 샘플을 섞는 것.\n",
    "\n",
    "(각 샘플을 랜덤하게 선택하거나 에포크를 시작할 때 훈련 세트를 섞음.)\n",
    "\n",
    "|\n",
    "\n",
    "만약 레이블 순서대로 정렬된 샘플처럼 샘플을 섞지 않은 채로 사용하면 \n",
    "\n",
    "확률적 경사하강법이 먼저 한 레이블에 최적화하고 그다음 레이블을 최적화하는 식으로 진행됨.\n",
    "\n",
    "결국 이 모델은 최적점에 도달 못할 것임."
   ]
  },
  {
   "cell_type": "markdown",
   "metadata": {},
   "source": [
    "사이킷런 SGD방식으로 선형회귀를 사용하려면 기본값으로 제곱오차비용함수를 최적화하는\n",
    "\n",
    "SGDRegressor 클래스를 사용함. 다음코드는 최대 1000번 에포크 동안 실행됨.(max_iter=1000)\n",
    "\n",
    "또는 한 에포크에서 0.001보다 적게 손실이 줄어들 때까지 실행됨.(tol=1e-3)\n",
    "\n",
    "학습률 0.1 (eta0=0.1)로 학습 스케줄(이전과는 다른)을 사용함.\n",
    "\n",
    "|\n",
    "\n",
    "규제는 전혀 사용하지 않았음. (penalty=None, 곧 다룸)"
   ]
  },
  {
   "cell_type": "code",
   "execution_count": 19,
   "metadata": {},
   "outputs": [
    {
     "data": {
      "text/plain": [
       "SGDRegressor(eta0=0.1, penalty=None, random_state=42)"
      ]
     },
     "execution_count": 19,
     "metadata": {},
     "output_type": "execute_result"
    }
   ],
   "source": [
    "from sklearn.linear_model import SGDRegressor\n",
    "\n",
    "sgd_reg = SGDRegressor(max_iter=1000, tol=1e-3, penalty=None, eta0=0.1, random_state=42)\n",
    "sgd_reg.fit(X, y.ravel())"
   ]
  },
  {
   "cell_type": "code",
   "execution_count": 20,
   "metadata": {},
   "outputs": [
    {
     "data": {
      "text/plain": [
       "(array([3.82360488]), array([3.02957383]))"
      ]
     },
     "execution_count": 20,
     "metadata": {},
     "output_type": "execute_result"
    }
   ],
   "source": [
    "sgd_reg.intercept_, sgd_reg.coef_"
   ]
  },
  {
   "cell_type": "markdown",
   "metadata": {},
   "source": [
    "여기서도 정규방정식과 비슷한 값을 얻음."
   ]
  },
  {
   "cell_type": "markdown",
   "metadata": {},
   "source": [
    "## 미니배치 경사하강법\n",
    "\n",
    "각 스텝에서 전체훈련세트나 하나의 샘플을 기반으로 그레디언트를 계산하는 것이 아닌 미니배치라\n",
    "\n",
    "부르는 임의의 작은 샘플세트에 대해 그레디언트를 계산함."
   ]
  },
  {
   "cell_type": "code",
   "execution_count": 21,
   "metadata": {},
   "outputs": [],
   "source": [
    "theta_path_mgd = []\n",
    "\n",
    "n_iterations = 50\n",
    "minibatch_size = 20\n",
    "\n",
    "np.random.seed(42)\n",
    "theta = np.random.randn(2,1)  # 랜덤 초기화\n",
    "\n",
    "t0, t1 = 200, 1000\n",
    "def learning_schedule(t):\n",
    "    return t0 / (t + t1)\n",
    "\n",
    "t = 0\n",
    "for epoch in range(n_iterations):\n",
    "    shuffled_indices = np.random.permutation(m)\n",
    "    X_b_shuffled = X_b[shuffled_indices]\n",
    "    y_shuffled = y[shuffled_indices]\n",
    "    for i in range(0, m, minibatch_size):\n",
    "        t += 1\n",
    "        xi = X_b_shuffled[i:i+minibatch_size]\n",
    "        yi = y_shuffled[i:i+minibatch_size]\n",
    "        gradients = 2/minibatch_size * xi.T.dot(xi.dot(theta) - yi)\n",
    "        eta = learning_schedule(t)\n",
    "        theta = theta - eta * gradients\n",
    "        theta_path_mgd.append(theta)"
   ]
  },
  {
   "cell_type": "markdown",
   "metadata": {},
   "source": []
  },
  {
   "cell_type": "code",
   "execution_count": 33,
   "metadata": {},
   "outputs": [
    {
     "name": "stdout",
     "output_type": "stream",
     "text": [
      "그림 저장: gradient_descent_paths_plot\n"
     ]
    },
    {
     "data": {
      "image/png": "[encoded data removed]",
      "text/plain": [
       "<Figure size 504x288 with 1 Axes>"
      ]
     },
     "metadata": {
      "needs_background": "light"
     },
     "output_type": "display_data"
    }
   ],
   "source": [
    "theta_path_bgd = np.array(theta_path_bgd)\n",
    "theta_path_sgd = np.array(theta_path_sgd)\n",
    "theta_path_mgd = np.array(theta_path_mgd)\n",
    "\n",
    "plt.figure(figsize=(7,4))\n",
    "plt.plot(theta_path_sgd[:, 0], theta_path_sgd[:, 1], \"r-s\", linewidth=1, label=\"Stochastic\")\n",
    "plt.plot(theta_path_mgd[:, 0], theta_path_mgd[:, 1], \"g-+\", linewidth=2, label=\"Mini-batch\")\n",
    "plt.plot(theta_path_bgd[:, 0], theta_path_bgd[:, 1], \"b-o\", linewidth=3, label=\"Batch\")\n",
    "plt.legend(loc=\"upper left\", fontsize=10)\n",
    "plt.xlabel(r\"$\\theta_0$\", fontsize=20)\n",
    "plt.ylabel(r\"$\\theta_1$   \", fontsize=20, rotation=0)\n",
    "plt.axis([2.5, 4.5, 2.3, 3.9])\n",
    "save_fig(\"gradient_descent_paths_plot\")\n",
    "plt.show()"
   ]
  },
  {
   "cell_type": "markdown",
   "metadata": {},
   "source": [
    "특히 미니배치를 어느정도 크게 하면 이 알고리즘은 파라미터 공간에서 SGD보다 덜 불규칙하게\n",
    "\n",
    "움직임. 결국 미니배치 경사하강법 SGD보다 최솟값에 더 가까이 도달하게 될 것.\n",
    "\n",
    "|\n",
    "\n",
    "하지만 지역 최솟값에서 빠져나오는 것을 어려울지도 모름.\n",
    "\n",
    "위 그림은 3가지 경사하강법 알고리즘이 훈련과정동안 파라미터 공간에서 움직인 경로\n",
    "\n",
    "모두 최솟값 근처에 도달했지만 배치경사하강법의 경로가 실제로 최솟값에 멈춘반면\n",
    "\n",
    "확률적, 미니배치 경사하강법은 근처에서 맴돎.\n",
    "\n",
    "|\n",
    "\n",
    "하지만 배치경사하강법은 스텝에 너무 많은 시간 소요됨.\n",
    "\n",
    "확률적, 미니배치 경사하강법도 적절한 학습 스케줄을 사용하면 최솟값에 도달가능함."
   ]
  },
  {
   "cell_type": "markdown",
   "metadata": {},
   "source": [
    "## 다항 회귀\n",
    "\n",
    "각 특성의 거듭제곱을 새로운 특성으로 추가하고, 이 확장된 특성을 포함한 데이터셋에 선형모델을\n",
    "\n",
    "훈련시키는 것. 먼저 간단한 2차방정식으로 비선형 데이터 생성"
   ]
  },
  {
   "cell_type": "code",
   "execution_count": 34,
   "metadata": {},
   "outputs": [],
   "source": [
    "import numpy as np\n",
    "import numpy.random as rnd\n",
    "\n",
    "np.random.seed(42)\n",
    "\n",
    "m = 100\n",
    "X = 6 * np.random.rand(m, 1) - 3\n",
    "y = 0.5 * X**2 + X + 2 + np.random.randn(m, 1)"
   ]
  },
  {
   "cell_type": "code",
   "execution_count": 35,
   "metadata": {},
   "outputs": [
    {
     "name": "stdout",
     "output_type": "stream",
     "text": [
      "그림 저장: quadratic_data_plot\n"
     ]
    },
    {
     "data": {
      "image/png": "[encoded data removed]",
      "text/plain": [
       "<Figure size 432x288 with 1 Axes>"
      ]
     },
     "metadata": {
      "needs_background": "light"
     },
     "output_type": "display_data"
    }
   ],
   "source": [
    "plt.plot(X, y, \"b.\")\n",
    "plt.xlabel(\"$x_1$\", fontsize=18)\n",
    "plt.ylabel(\"$y$\", rotation=0, fontsize=18)\n",
    "plt.axis([-3, 3, 0, 10])\n",
    "save_fig(\"quadratic_data_plot\")\n",
    "plt.show()"
   ]
  },
  {
   "cell_type": "markdown",
   "metadata": {},
   "source": [
    "사이킷런의 PolynomialFeatures를 사용해 훈련데이터를 변환해보겠습니다.\n",
    "\n",
    "훈련세트에 있는 각 특성을 제곱하여 새로운 특성으로 추가합니다.(여기서는 특성 하나 추가됨.)"
   ]
  },
  {
   "cell_type": "code",
   "execution_count": 36,
   "metadata": {},
   "outputs": [
    {
     "data": {
      "text/plain": [
       "array([-0.75275929])"
      ]
     },
     "execution_count": 36,
     "metadata": {},
     "output_type": "execute_result"
    }
   ],
   "source": [
    "from sklearn.preprocessing import PolynomialFeatures\n",
    "\n",
    "poly_features = PolynomialFeatures(degree=2, include_bias=False)\n",
    "X_poly = poly_features.fit_transform(X)\n",
    "X[0]"
   ]
  },
  {
   "cell_type": "markdown",
   "metadata": {},
   "source": [
    "X_poly는 이제 원래 특성X와 이 특서으이 제곱을 포함함. 이 확장된 훈련데이터에 LinearRegression을 적용해봄."
   ]
  },
  {
   "cell_type": "code",
   "execution_count": 37,
   "metadata": {},
   "outputs": [
    {
     "data": {
      "text/plain": [
       "(array([1.78134581]), array([[0.93366893, 0.56456263]]))"
      ]
     },
     "execution_count": 37,
     "metadata": {},
     "output_type": "execute_result"
    }
   ],
   "source": [
    "lin_reg = LinearRegression()\n",
    "lin_reg.fit(X_poly, y)\n",
    "lin_reg.intercept_, lin_reg.coef_"
   ]
  },
  {
   "cell_type": "code",
   "execution_count": 38,
   "metadata": {},
   "outputs": [
    {
     "name": "stdout",
     "output_type": "stream",
     "text": [
      "그림 저장: quadratic_predictions_plot\n"
     ]
    },
    {
     "data": {
      "image/png": "[encoded data removed]",
      "text/plain": [
       "<Figure size 432x288 with 1 Axes>"
      ]
     },
     "metadata": {
      "needs_background": "light"
     },
     "output_type": "display_data"
    }
   ],
   "source": [
    "X_new=np.linspace(-3, 3, 100).reshape(100, 1)\n",
    "X_new_poly = poly_features.transform(X_new)\n",
    "y_new = lin_reg.predict(X_new_poly)\n",
    "plt.plot(X, y, \"b.\")\n",
    "plt.plot(X_new, y_new, \"r-\", linewidth=2, label=\"Predictions\")\n",
    "plt.xlabel(\"$x_1$\", fontsize=18)\n",
    "plt.ylabel(\"$y$\", rotation=0, fontsize=18)\n",
    "plt.legend(loc=\"upper left\", fontsize=14)\n",
    "plt.axis([-3, 3, 0, 10])\n",
    "save_fig(\"quadratic_predictions_plot\")\n",
    "plt.show()"
   ]
  },
  {
   "cell_type": "markdown",
   "metadata": {},
   "source": [
    "## 학습 곡선\n",
    "\n",
    "고차 다항 회귀를 적용하면 보통의 선형회귀에서보다 훨씬 더 훈련데이터에 잘 맞추려 할 것.\n",
    "\n",
    "예를 들어 밑의 그래프는 300차 다항 회귀 모델을 이전의 훈련 데이터에 적용한 것."
   ]
  },
  {
   "cell_type": "code",
   "execution_count": 39,
   "metadata": {},
   "outputs": [
    {
     "name": "stdout",
     "output_type": "stream",
     "text": [
      "그림 저장: high_degree_polynomials_plot\n"
     ]
    },
    {
     "data": {
      "image/png": "[encoded data removed]",
      "text/plain": [
       "<Figure size 432x288 with 1 Axes>"
      ]
     },
     "metadata": {
      "needs_background": "light"
     },
     "output_type": "display_data"
    }
   ],
   "source": [
    "from sklearn.preprocessing import StandardScaler\n",
    "from sklearn.pipeline import Pipeline\n",
    "\n",
    "for style, width, degree in ((\"g-\", 1, 300), (\"b--\", 2, 2), (\"r-+\", 2, 1)):\n",
    "    polybig_features = PolynomialFeatures(degree=degree, include_bias=False)\n",
    "    std_scaler = StandardScaler()\n",
    "    lin_reg = LinearRegression()\n",
    "    polynomial_regression = Pipeline([\n",
    "            (\"poly_features\", polybig_features),\n",
    "            (\"std_scaler\", std_scaler),\n",
    "            (\"lin_reg\", lin_reg),\n",
    "        ])\n",
    "    polynomial_regression.fit(X, y)\n",
    "    y_newbig = polynomial_regression.predict(X_new)\n",
    "    plt.plot(X_new, y_newbig, style, label=str(degree), linewidth=width)\n",
    "\n",
    "plt.plot(X, y, \"b.\", linewidth=3)\n",
    "plt.legend(loc=\"upper left\")\n",
    "plt.xlabel(\"$x_1$\", fontsize=18)\n",
    "plt.ylabel(\"$y$\", rotation=0, fontsize=18)\n",
    "plt.axis([-3, 3, 0, 10])\n",
    "save_fig(\"high_degree_polynomials_plot\")\n",
    "plt.show()"
   ]
  },
  {
   "cell_type": "markdown",
   "metadata": {},
   "source": [
    "이 고차 다항모델은 심각하게 훈련데이터가 과대적합됨. 반면 선형모델은 과소적합됨.\n",
    "\n",
    "이 경우 가장 일반화가 잘된 모델은 2차 다항회귀. 2차방정식으로 생성한 데이터이기 때문에 당연한 결과지만\n",
    "\n",
    "일반적으로 어떤 함수가 데이터로 생성됬는지 알 수 없음.\n",
    "\n",
    "|\n",
    "\n",
    "2정에서 성능 측정하기 위해 교차 검증을 사용. \n",
    "\n",
    "훈련데이터에서 성능이 좋으나 교차검증점수가 낮다면 과대적합. 둘 다 낮다면 과소적합.\n",
    "\n",
    "이 때 모델이 너무 복잡하다고 말함. \n",
    "\n",
    "|\n",
    "\n",
    "또 다른 방법으로 학습 곡선이 있음. 이 그래프는 훈련세트와 검증세트의 모델 성능을 훈련 세트크기의 함수로\n",
    "\n",
    "나타냄. 이 그래프를 생성하기 위해선 단순히 훈련세트에서 크기가 다른 서브세트를 만들어 여러번 훈련하면 됨."
   ]
  },
  {
   "cell_type": "code",
   "execution_count": 40,
   "metadata": {},
   "outputs": [],
   "source": [
    "from sklearn.metrics import mean_squared_error\n",
    "from sklearn.model_selection import train_test_split\n",
    "\n",
    "def plot_learning_curves(model, X, y):\n",
    "    X_train, X_val, y_train, y_val = train_test_split(X, y, test_size=0.2, random_state=10)\n",
    "    train_errors, val_errors = [], []\n",
    "    for m in range(1, len(X_train) + 1):\n",
    "        model.fit(X_train[:m], y_train[:m])\n",
    "        y_train_predict = model.predict(X_train[:m])\n",
    "        y_val_predict = model.predict(X_val)\n",
    "        train_errors.append(mean_squared_error(y_train[:m], y_train_predict))\n",
    "        val_errors.append(mean_squared_error(y_val, y_val_predict))\n",
    "\n",
    "    plt.plot(np.sqrt(train_errors), \"r-+\", linewidth=2, label=\"train\")\n",
    "    plt.plot(np.sqrt(val_errors), \"b-\", linewidth=3, label=\"val\")\n",
    "    plt.legend(loc=\"upper right\", fontsize=14)   # 책에는 없음\n",
    "    plt.xlabel(\"Training set size\", fontsize=14) # 책에는 없음\n",
    "    plt.ylabel(\"RMSE\", fontsize=14)              # 책에는 없음"
   ]
  },
  {
   "cell_type": "code",
   "execution_count": 41,
   "metadata": {},
   "outputs": [
    {
     "name": "stdout",
     "output_type": "stream",
     "text": [
      "그림 저장: underfitting_learning_curves_plot\n"
     ]
    },
    {
     "data": {
      "image/png": "[encoded data removed]",
      "text/plain": [
       "<Figure size 432x288 with 1 Axes>"
      ]
     },
     "metadata": {
      "needs_background": "light"
     },
     "output_type": "display_data"
    }
   ],
   "source": [
    "lin_reg = LinearRegression()\n",
    "plot_learning_curves(lin_reg, X, y)\n",
    "plt.axis([0, 80, 0, 3])                         # 책에는 없음\n",
    "save_fig(\"underfitting_learning_curves_plot\")   # 책에는 없음\n",
    "plt.show()  "
   ]
  },
  {
   "cell_type": "markdown",
   "metadata": {},
   "source": [
    "과소적합된 이 모델은 설명이 좀 필요함. 먼저 훈련데이터의 성능을 보면 그래프가 0에서\n",
    "\n",
    "시작하므로 훈련세트에 하나 혹은 2개의 샘플이 있을땐 모델이 완벽하게 작동함.\n",
    "\n",
    "하지만 훈련세트가 추가됨에 따라 잡음도 있고 비선형이기 때문에 \n",
    "\n",
    "모델이 훈련데이터를 완벽히 학습하는 것이 불가능. \n",
    "\n",
    "그래서 곡선이 어느정도 평편해질 때까지 오차가 계속 상승\n",
    "\n",
    "|\n",
    "\n",
    "검증 데이터에 대한 모델은 모델이 적은 수의 훈련샘플로 훈련될 때는 제대로 일반화될 수 없어\n",
    "\n",
    "검증 오차가 초기에 매우 큼. 훈련샘플이 추가됨에 따라 학습이 되고 검증 오차가 천천히 감소\n",
    "\n",
    "하지만 선형회귀의 직선은 데이터를 잘 모델링할 수 없으므로 오차의 감소가 완만해져서 \n",
    "\n",
    "훈련세트의 그래프와 가까워짐.\n",
    "\n",
    "|\n",
    "\n",
    "=> 이 학습 곡선이 과소적합된 모델의 전형적인 모습임.\n",
    "\n",
    "- 해결방안으로는 더 복잡한 모델을 시도하거나 더 나은 특성을 선택해야함."
   ]
  },
  {
   "cell_type": "code",
   "execution_count": 42,
   "metadata": {},
   "outputs": [
    {
     "name": "stdout",
     "output_type": "stream",
     "text": [
      "그림 저장: learning_curves_plot\n"
     ]
    },
    {
     "data": {
      "image/png": "[encoded data removed]",
      "text/plain": [
       "<Figure size 432x288 with 1 Axes>"
      ]
     },
     "metadata": {
      "needs_background": "light"
     },
     "output_type": "display_data"
    }
   ],
   "source": [
    "from sklearn.pipeline import Pipeline\n",
    "\n",
    "# 10차 다항 회귀의 학습 곡선\n",
    "polynomial_regression = Pipeline([\n",
    "        (\"poly_features\", PolynomialFeatures(degree=10, include_bias=False)),\n",
    "        (\"lin_reg\", LinearRegression()),\n",
    "    ])\n",
    "\n",
    "plot_learning_curves(polynomial_regression, X, y)\n",
    "plt.axis([0, 80, 0, 3])           # 책에는 없음\n",
    "save_fig(\"learning_curves_plot\")  # 책에는 없음\n",
    "plt.show()                        # 책에는 없음"
   ]
  },
  {
   "cell_type": "markdown",
   "metadata": {},
   "source": [
    "이 학습곡선은 이전과 비슷해 보이지만 2가지 매우 중요한 차이점이 있음.\n",
    "\n",
    "- 훈련데이터의 오차가 선형 회귀모델보다 훨씬 낮음.\n",
    "\n",
    "- 두 곡선 사이에 공간 존재. -> 훈련데이터에서의 모델성능이 검증데이터에서보다 훨씬 낫다는 뜻.\n",
    "\n",
    "  이는 과대적합 모델의 특징. 그러나 더 큰 훈련세트를 사용하면 2 곡선이 점점 가까워짐.\n",
    "\n",
    "|\n",
    "\n",
    "=> 한가지 개선방법으로는 검증오차가 훈련오차에 근접할 때까지 더 많은 훈련데이터 추가하는 것"
   ]
  },
  {
   "cell_type": "markdown",
   "metadata": {},
   "source": [
    "### 편향/분산 트레이드오프\n",
    "\n",
    "통계학과 머신러닝에서 나온 중요한 이론 하나는 모델의 일반화오차는 3가지 다른 종류의 오차의 합으로 표현할 수 있다는 사실.\n",
    "\n",
    "- 편향\n",
    "\n",
    "일반화 오차 중 편향은 잘못된 가정으로 인한 것. -> 과소적합되기 쉬움(편향이 큰 모델은)\n",
    "\n",
    "(ex. 실제데이터가 2차인데 선형으로 가정하는 경우)\n",
    "\n",
    "- 분산\n",
    "\n",
    "훈련데이터에 있는 작은 변동에 모델이 과도하게 민감하기 때문에 나타남. -> 자유도가 높은 모델이\n",
    "\n",
    "(ex. 고차 다항 모델) 높은 분산을 가지기 쉬워 훈련데이터에 과대적합되기 쉬움.\n",
    "\n",
    "- 줄일 수 없는 오차\n",
    "\n",
    "데이터 자체에 있는 잡읍 때문에 발생. 이 오차를 줄일 수 있는 유일한 방법은 데이터에서 잡음을\n",
    "\n",
    "제거하는 것 (이상치 감지, 고장난 데이터 소스)\n"
   ]
  },
  {
   "cell_type": "markdown",
   "metadata": {},
   "source": [
    "# 규제가 있는 선형 모델"
   ]
  },
  {
   "cell_type": "markdown",
   "metadata": {},
   "source": [
    "## 릿지 회귀\n",
    "\n",
    "릿지회귀(또는 티호노프 규제)는 규제가 추가된 선형회귀버전. 규제항 $\\alpha \\sum\\limits_{i=1}^{n}{\\theta_i}^2$ 이 비용함수에 추가됨.\n",
    "\n",
    "이는 학습알고리즘을 데이터에 맞출 뿐만아니라 모데르이 가중치도 가능한 작게 유지시켜줌.\n",
    "\n",
    "규제항은 훈련하는 동안에만 비용함수에 추가됨. 모델훈련이 완료시 모델성능을 규제없는 성능지표로 평가.\n",
    "\n",
    "|\n",
    "\n",
    "하이퍼파라미터 $\\alpha$ 는 모델의 규제 정도를 조절, $\\alpha = 0$ 이면 릿지회귀는 선형회귀와 같아짐.\n",
    "\n",
    "반대로 매우 커지면 모든 가중치가 0에 가까워지고 결국 데이터의 평균을 지나는 수평선이 됨."
   ]
  },
  {
   "cell_type": "code",
   "execution_count": 52,
   "metadata": {},
   "outputs": [],
   "source": [
    "np.random.seed(42)\n",
    "m = 20\n",
    "X = 3 * np.random.rand(m, 1)\n",
    "y = 1 + 0.5 * X + np.random.randn(m, 1) / 1.5\n",
    "X_new = np.linspace(0, 3, 100).reshape(100, 1)"
   ]
  },
  {
   "cell_type": "markdown",
   "metadata": {},
   "source": [
    "**Equation 4-8: Ridge Regression cost function**\n",
    "\n",
    "$\n",
    "J(\\boldsymbol{\\theta}) = \\text{MSE}(\\boldsymbol{\\theta}) + \\alpha \\dfrac{1}{2}\\sum\\limits_{i=1}^{n}{\\theta_i}^2\n",
    "$\n"
   ]
  },
  {
   "cell_type": "markdown",
   "metadata": {},
   "source": [
    "편향 $\\theta_0$ 는 규제되지 않음.(합 기호가 i=0이 아니고 i=1에서 시작).\n",
    "\n",
    "$\\text{w}$ 를 특성의 가중치벡터($\\theta_1$ 에서 $\\theta_n$)라고 정의하면 규제항은 $\\mathbf{\\dfrac{1}{2}}(\\left\\|\\text{w}\\right\\|_2)^2 $ 와 같음.\n",
    "\n",
    "여기서 $\\left\\|\\text{*}\\right\\|^2$ 가 가중치 벡터의 $\\ell_2$ 노름.\n",
    "\n",
    "경사하강법에 적용하려면 MSE 그레디언트 벡터에 $\\alpha w$ 를 더하면 됨.\n"
   ]
  },
  {
   "cell_type": "markdown",
   "metadata": {},
   "source": [
    "### CAUTION\n",
    "\n",
    "릿지회귀는 입력특성의 스케일에 민감하기 때문에 수행전에 데이터의 스케일을 맞추는 것이 중요함.\n",
    "\n",
    "(ex. StandardScaler를 사용) 규제가 있는 모델은 대부분 마찬가지임.\n",
    "\n",
    "|\n",
    "\n",
    "아래 그래프는 선형데이터에 몇가지 다른 $\\alpha$ 를 사용해 릿지모델을 훈련시킨 결과.\n",
    "\n",
    "왼쪽 그래프는 평범한 릿지모델을 사용해 선형적인 예측을 만듦.\n",
    "\n",
    "오른쪽 그래프는 PolynomialFeatures(degree=10)을 사용해 먼저 데이터를 확장하고 \n",
    "\n",
    "StandardScaler를 사용해 스케일 조정후 릿지모델을 적용."
   ]
  },
  {
   "cell_type": "code",
   "execution_count": 53,
   "metadata": {},
   "outputs": [
    {
     "name": "stdout",
     "output_type": "stream",
     "text": [
      "그림 저장: ridge_regression_plot\n"
     ]
    },
    {
     "data": {
      "image/png": "[encoded data removed]",
      "text/plain": [
       "<Figure size 576x288 with 2 Axes>"
      ]
     },
     "metadata": {
      "needs_background": "light"
     },
     "output_type": "display_data"
    }
   ],
   "source": [
    "from sklearn.linear_model import Ridge\n",
    "\n",
    "def plot_model(model_class, polynomial, alphas, **model_kargs):\n",
    "    for alpha, style in zip(alphas, (\"b-\", \"g--\", \"r:\")):\n",
    "        model = model_class(alpha, **model_kargs) if alpha > 0 else LinearRegression()\n",
    "        if polynomial:\n",
    "            model = Pipeline([\n",
    "                    (\"poly_features\", PolynomialFeatures(degree=10, include_bias=False)),\n",
    "                    (\"std_scaler\", StandardScaler()),\n",
    "                    (\"regul_reg\", model),\n",
    "                ])\n",
    "        model.fit(X, y)\n",
    "        y_new_regul = model.predict(X_new)\n",
    "        lw = 2 if alpha > 0 else 1\n",
    "        plt.plot(X_new, y_new_regul, style, linewidth=lw, label=r\"$\\alpha = {}$\".format(alpha))\n",
    "    plt.plot(X, y, \"b.\", linewidth=3)\n",
    "    plt.legend(loc=\"upper left\", fontsize=15)\n",
    "    plt.xlabel(\"$x_1$\", fontsize=18)\n",
    "    plt.axis([0, 3, 0, 4])\n",
    "\n",
    "plt.figure(figsize=(8,4))\n",
    "plt.subplot(121)\n",
    "plot_model(Ridge, polynomial=False, alphas=(0, 10, 100), random_state=42)\n",
    "plt.ylabel(\"$y$\", rotation=0, fontsize=18)\n",
    "plt.subplot(122)\n",
    "plot_model(Ridge, polynomial=True, alphas=(0, 10**-5, 1), random_state=42)\n",
    "\n",
    "save_fig(\"ridge_regression_plot\")\n",
    "plt.show()"
   ]
  },
  {
   "cell_type": "markdown",
   "metadata": {},
   "source": [
    "$\\alpha$ 를 증가시킬수록 직선에 가까워지는 것을 볼 수 있음. 모델의 분산은 줄어드나 편향은 커짐. "
   ]
  },
  {
   "cell_type": "markdown",
   "metadata": {},
   "source": [
    "선형회귀와 마찬가지로 릿지회귀를 계산하기위해 정규방정식을 사용할 수도 있고 \n",
    "\n",
    "경사하강법을 사용할 수도 있음. 장단점은 이전과 같음. 아래는 정규방정식의 해."
   ]
  },
  {
   "cell_type": "markdown",
   "metadata": {},
   "source": [
    "**Equation 4-9: Ridge Regression closed-form solution**\n",
    "\n",
    "$\n",
    "\\hat{\\boldsymbol{\\theta}} = (\\mathbf{X}^T \\mathbf{X} + \\alpha \\mathbf{A})^{-1} \\mathbf{X}^T \\mathbf{y}\n",
    "$"
   ]
  },
  {
   "cell_type": "markdown",
   "metadata": {},
   "source": [
    "아래는 사이킷런에서 정규방정식을 사용한 릿지회귀를 적용하는 예.\n",
    "\n",
    "(안드레 루이 숄레스키가 발견한 행렬분해를 사용해 변형한 방정식을 사용함.)"
   ]
  },
  {
   "cell_type": "code",
   "execution_count": 56,
   "metadata": {},
   "outputs": [
    {
     "data": {
      "text/plain": [
       "array([[1.55071465]])"
      ]
     },
     "execution_count": 56,
     "metadata": {},
     "output_type": "execute_result"
    }
   ],
   "source": [
    "from sklearn.linear_model import Ridge\n",
    "ridge_reg = Ridge(alpha=1, solver=\"cholesky\", random_state=42)\n",
    "ridge_reg.fit(X, y)\n",
    "ridge_reg.predict([[1.5]])"
   ]
  },
  {
   "cell_type": "markdown",
   "metadata": {},
   "source": [
    "다음은 확률적 경사하강법을 사용했을 때"
   ]
  },
  {
   "cell_type": "code",
   "execution_count": 57,
   "metadata": {},
   "outputs": [
    {
     "data": {
      "text/plain": [
       "array([[1.5507201]])"
      ]
     },
     "execution_count": 57,
     "metadata": {},
     "output_type": "execute_result"
    }
   ],
   "source": [
    "ridge_reg = Ridge(alpha=1, solver=\"sag\", random_state=42)\n",
    "ridge_reg.fit(X, y)\n",
    "ridge_reg.predict([[1.5]])"
   ]
  },
  {
   "cell_type": "markdown",
   "metadata": {},
   "source": [
    "**노트**: 향후 버전이 바뀌더라도 동일한 결과를 만들기 위해 사이킷런 0.21 버전의 기본값인 `max_iter=1000`과 `tol=1e-3`으로 지정합니다."
   ]
  },
  {
   "cell_type": "code",
   "execution_count": 58,
   "metadata": {},
   "outputs": [
    {
     "data": {
      "text/plain": [
       "array([1.47012588])"
      ]
     },
     "execution_count": 58,
     "metadata": {},
     "output_type": "execute_result"
    }
   ],
   "source": [
    "sgd_reg = SGDRegressor(penalty=\"l2\", max_iter=1000, tol=1e-3, random_state=42)\n",
    "sgd_reg.fit(X, y.ravel())\n",
    "sgd_reg.predict([[1.5]])"
   ]
  },
  {
   "cell_type": "markdown",
   "metadata": {},
   "source": [
    "## 라쏘 회귀\n",
    "\n",
    "**Equation 4-10: Lasso Regression cost function**\n",
    "\n",
    "$\n",
    "J(\\boldsymbol{\\theta}) = \\text{MSE}(\\boldsymbol{\\theta}) + \\alpha \\sum\\limits_{i=1}^{n}\\left| \\theta_i \\right|\n",
    "$"
   ]
  },
  {
   "cell_type": "markdown",
   "metadata": {},
   "source": [
    "그림은 릿지모델과 비슷하지만 라쏘모델이 좀 더 작은 $\\alpha$ 값을 사용함."
   ]
  },
  {
   "cell_type": "code",
   "execution_count": 59,
   "metadata": {},
   "outputs": [
    {
     "name": "stderr",
     "output_type": "stream",
     "text": [
      "C:\\Anaconda3\\envs\\tf_pt\\lib\\site-packages\\sklearn\\linear_model\\_coordinate_descent.py:647: ConvergenceWarning: Objective did not converge. You might want to increase the number of iterations, check the scale of the features or consider increasing regularisation. Duality gap: 2.803e+00, tolerance: 9.295e-04\n",
      "  model = cd_fast.enet_coordinate_descent(\n"
     ]
    },
    {
     "name": "stdout",
     "output_type": "stream",
     "text": [
      "그림 저장: lasso_regression_plot\n"
     ]
    },
    {
     "data": {
      "image/png": "[encoded data removed]",
      "text/plain": [
       "<Figure size 576x288 with 2 Axes>"
      ]
     },
     "metadata": {
      "needs_background": "light"
     },
     "output_type": "display_data"
    }
   ],
   "source": [
    "from sklearn.linear_model import Lasso\n",
    "\n",
    "plt.figure(figsize=(8,4))\n",
    "plt.subplot(121)\n",
    "plot_model(Lasso, polynomial=False, alphas=(0, 0.1, 1), random_state=42)\n",
    "plt.ylabel(\"$y$\", rotation=0, fontsize=18)\n",
    "plt.subplot(122)\n",
    "plot_model(Lasso, polynomial=True, alphas=(0, 10**-7, 1), random_state=42)\n",
    "\n",
    "save_fig(\"lasso_regression_plot\")\n",
    "plt.show()"
   ]
  },
  {
   "cell_type": "markdown",
   "metadata": {},
   "source": [
    "라쏘 회귀의 특징은 덜 중요한 특성의 가중치를 제거하려함. (즉, 가중치가 0이 됨)\n",
    "\n",
    "ex. 오른쪽 그래프에서 점선($\\alpha = 1e-7$)은 3차방정식처럼 보임.\n",
    "\n",
    "차수가 높은 다항특성의 가중치가 모두 0 됨. 다시 말해 라쏘회귀는 자동으로 특성선택을 하고 희소모델을 만듦.\n",
    "\n",
    "(즉, 0이 아닌 특성의 가중치가 적음.)"
   ]
  },
  {
   "cell_type": "markdown",
   "metadata": {},
   "source": [
    "[좌측상단 그래프]의 등고선은 $\\ell_1$ 손실 $(|\\ell_1| + |\\ell_2|)$ 을 나타냄 축에 가까워지면서\n",
    "\n",
    "선형적으로 줄어듦. \n",
    "\n",
    "ex. 모델 파라미터를 $\\theta_1 = 2$ , $\\theta_2 = 0.5$ 로 초기화하고 경사하강법을 실행하면 두 파라미터가\n",
    "\n",
    "동일하게 감소될 것임(노란점선). 따라서 $\\theta_2$ 가 먼저 0에 도달함.\n",
    "\n",
    "($\\theta_2$ 가 시작할 때 0에 더 가깝기 때문)\n",
    "\n",
    "|\n",
    "\n",
    "그다음 경사하강법이 $\\theta_1=0$ 도달할 때까지 축을 따라내려감.\n",
    "\n",
    "($\\ell_1$ 의 그레디언트는 0에서 정의되지 않기 때문에 진동이 조금 있음. 이 지점에서 그레디언트는 \n",
    "\n",
    "-1 또는 1임). [우측상단 그래프]의 등고선은 라쏘 손실함수를 나타냄(즉, $\\theta_1$ 손실을 더한 MSE 손실함수).\n",
    "\n",
    "|\n",
    "\n",
    "하얀 작은 원이 경사하강법이 $\\theta_1 = 0.25$ , $\\theta_2 = -1$ 로 초기화된 모델 파라미터를\n",
    "\n",
    "최적화하는 과정을 보여줌. 여기에서도 $\\theta_2 = 0$ 으로 빠르게 줄어들고 그다음 축을 따라 진동하면서\n",
    "\n",
    "전역 최적점(빨간 사각형)에 도달.\n",
    "\n",
    "|\n",
    "\n",
    "$\\alpha$ 가 증가하면 전역최적점이 노란점선을 따라 왼쪽으로 이동. \n",
    "\n",
    "$\\alpha$ 가 감소하면 전역최적점이 오른쪽으로 이동.\n",
    "\n",
    "(이 예에서 규제가 없는 최적의 파라미터는 $\\theta_1 = 2$ , $\\theta_2 = 0.5$)"
   ]
  },
  {
   "cell_type": "code",
   "execution_count": 65,
   "metadata": {},
   "outputs": [],
   "source": [
    "t1a, t1b, t2a, t2b = -1, 3, -1.5, 1.5\n",
    "\n",
    "t1s = np.linspace(t1a, t1b, 500)\n",
    "t2s = np.linspace(t2a, t2b, 500)\n",
    "t1, t2 = np.meshgrid(t1s, t2s)\n",
    "T = np.c_[t1.ravel(), t2.ravel()]\n",
    "Xr = np.array([[1, 1], [1, -1], [1, 0.5]])\n",
    "yr = 2 * Xr[:, :1] + 0.5 * Xr[:, 1:]\n",
    "\n",
    "J = (1/len(Xr) * np.sum((T.dot(Xr.T) - yr.T)**2, axis=1)).reshape(t1.shape)\n",
    "\n",
    "N1 = np.linalg.norm(T, ord=1, axis=1).reshape(t1.shape)\n",
    "N2 = np.linalg.norm(T, ord=2, axis=1).reshape(t1.shape)\n",
    "\n",
    "t_min_idx = np.unravel_index(np.argmin(J), J.shape)\n",
    "t1_min, t2_min = t1[t_min_idx], t2[t_min_idx]\n",
    "\n",
    "t_init = np.array([[0.25], [-1]])"
   ]
  },
  {
   "cell_type": "code",
   "execution_count": 66,
   "metadata": {},
   "outputs": [
    {
     "name": "stdout",
     "output_type": "stream",
     "text": [
      "그림 저장: lasso_vs_ridge_plot\n"
     ]
    },
    {
     "data": {
      "image/png": "[encoded data removed]",
      "text/plain": [
       "<Figure size 727.2x576 with 4 Axes>"
      ]
     },
     "metadata": {
      "needs_background": "light"
     },
     "output_type": "display_data"
    }
   ],
   "source": [
    "def bgd_path(theta, X, y, l1, l2, core = 1, eta = 0.05, n_iterations = 200):\n",
    "    path = [theta]\n",
    "    for iteration in range(n_iterations):\n",
    "        gradients = core * 2/len(X) * X.T.dot(X.dot(theta) - y) + l1 * np.sign(theta) + l2 * theta\n",
    "        theta = theta - eta * gradients\n",
    "        path.append(theta)\n",
    "    return np.array(path)\n",
    "\n",
    "fig, axes = plt.subplots(2, 2, sharex=True, sharey=True, figsize=(10.1, 8))\n",
    "for i, N, l1, l2, title in ((0, N1, 2., 0, \"Lasso\"), (1, N2, 0,  2., \"Ridge\")):\n",
    "    JR = J + l1 * N1 + l2 * 0.5 * N2**2\n",
    "    \n",
    "    tr_min_idx = np.unravel_index(np.argmin(JR), JR.shape)\n",
    "    t1r_min, t2r_min = t1[tr_min_idx], t2[tr_min_idx]\n",
    "\n",
    "    levelsJ=(np.exp(np.linspace(0, 1, 20)) - 1) * (np.max(J) - np.min(J)) + np.min(J)\n",
    "    levelsJR=(np.exp(np.linspace(0, 1, 20)) - 1) * (np.max(JR) - np.min(JR)) + np.min(JR)\n",
    "    levelsN=np.linspace(0, np.max(N), 10)\n",
    "    \n",
    "    path_J = bgd_path(t_init, Xr, yr, l1=0, l2=0)\n",
    "    path_JR = bgd_path(t_init, Xr, yr, l1, l2)\n",
    "    path_N = bgd_path(np.array([[2.0], [0.5]]), Xr, yr, np.sign(l1)/3, np.sign(l2), core=0)\n",
    "\n",
    "    ax = axes[i, 0]\n",
    "    ax.grid(True)\n",
    "    ax.axhline(y=0, color='k')\n",
    "    ax.axvline(x=0, color='k')\n",
    "    ax.contourf(t1, t2, N / 2., levels=levelsN)\n",
    "    ax.plot(path_N[:, 0], path_N[:, 1], \"y--\")\n",
    "    ax.plot(0, 0, \"ys\")\n",
    "    ax.plot(t1_min, t2_min, \"ys\")\n",
    "    ax.set_title(r\"$\\ell_{}$ penalty\".format(i + 1), fontsize=16)\n",
    "    ax.axis([t1a, t1b, t2a, t2b])\n",
    "    if i == 1:\n",
    "        ax.set_xlabel(r\"$\\theta_1$\", fontsize=16)\n",
    "    ax.set_ylabel(r\"$\\theta_2$\", fontsize=16, rotation=0)\n",
    "\n",
    "    ax = axes[i, 1]\n",
    "    ax.grid(True)\n",
    "    ax.axhline(y=0, color='k')\n",
    "    ax.axvline(x=0, color='k')\n",
    "    ax.contourf(t1, t2, JR, levels=levelsJR, alpha=0.9)\n",
    "    ax.plot(path_JR[:, 0], path_JR[:, 1], \"w-o\")\n",
    "    ax.plot(path_N[:, 0], path_N[:, 1], \"y--\")\n",
    "    ax.plot(0, 0, \"ys\")\n",
    "    ax.plot(t1_min, t2_min, \"ys\")\n",
    "    ax.plot(t1r_min, t2r_min, \"rs\")\n",
    "    ax.set_title(title, fontsize=16)\n",
    "    ax.axis([t1a, t1b, t2a, t2b])\n",
    "    if i == 1:\n",
    "        ax.set_xlabel(r\"$\\theta_1$\", fontsize=16)\n",
    "\n",
    "save_fig(\"lasso_vs_ridge_plot\")\n",
    "plt.show()"
   ]
  },
  {
   "cell_type": "markdown",
   "metadata": {},
   "source": [
    "아래 2 개의 그래프도 동일하지만 $\\ell_2$ 패널티를 사용.\n",
    "\n",
    "[좌측하단 그래프]에서 $\\ell_2$ 손실은 원점에서 가까울수록 줄어드는 것을 볼 수 있음.\n",
    "\n",
    "따라서 경사하강법이 원점까지 직선 경로를 따라감. [우측하단 그래프]의 등고선은 릿지회귀의 비용함수를 나타냄.\n",
    "\n",
    "(즉 $\\ell_2$ 손실을 더한 MSE 손실함수).\n",
    "\n",
    "|\n",
    "\n",
    "라쏘와 다른점은 크게 2가지 :\n",
    "\n",
    "1. 첫번째 파라미터가 전역최적점에 가까워질수록 그레디언트 작아짐. \n",
    "\n",
    "   따라서 경사하강법으로 자동으로 느려지고 수렴에 도움이 됨(진동 없음)\n",
    "\n",
    "2. $\\alpha$ 를 증가시킬수록 최적의 파라미터(빨간 사각형)가 원점에 더 가까워짐. 완전히 0이 되지는 않음."
   ]
  },
  {
   "cell_type": "markdown",
   "metadata": {},
   "source": [
    "#### TIP\n",
    "\n",
    "라쏘를 사용할 시 경사하강법이 최적점 근처에서 진동하는 것을 막으려면 훈련하는 동안 \n",
    "\n",
    "점진적으로 학습률을 감소시켜야 함. (여전히 최적점 근처에서 진동하겠지만 스텝이 갈수록 작아지므로 수렴하게 될 것.)"
   ]
  },
  {
   "cell_type": "markdown",
   "metadata": {},
   "source": [
    "라쏘의 비용함수는 $\\theta_i(\\text{i=1,2,...,n 일때})$ 에서 미분불가능.\n",
    "\n",
    "하지만 $\\theta_i = 0$ 일 때 서브그레디언트 벡터 $\\mathbf{g}$ 를 사용하면 경사하강법을 적용하는 데 문제없음.\n",
    "\n",
    "아래식은 경사하강법을 위해 라쏘 비용 함수에 사용할 수 있는 서브그레디언트 벡터 공식.\n",
    "\n",
    "|\n",
    "\n",
    "**Equation 4-11: Lasso Regression subgradient vector**\n",
    "\n",
    "\n",
    "$\n",
    "g(\\boldsymbol{\\theta}, J) = \\nabla_{\\boldsymbol{\\theta}} \\text{MSE}(\\boldsymbol{\\theta}) + \\alpha *\n",
    "$\n",
    "\n",
    "$\n",
    "\n",
    "\\begin{pmatrix}\n",
    "  \\operatorname{sign}(\\theta_1) \\\\\n",
    "  \\operatorname{sign}(\\theta_2) \\\\\n",
    "  \\vdots \\\\\n",
    "  \\operatorname{sign}(\\theta_n) \\\\\n",
    "\\end{pmatrix} \\quad \\text{where }                                                                           \\operatorname{sign}(\\theta_i) =\n",
    "\\begin{cases}\n",
    "-1 & \\text{if } \\theta_i < 0 \\\\\n",
    "0 & \\text{if } \\theta_i = 0 \\\\\n",
    "+1 & \\text{if } \\theta_i > 0\n",
    "\\end{cases}\n",
    "$\n"
   ]
  },
  {
   "cell_type": "markdown",
   "metadata": {},
   "source": [
    "Lasso 클래스를 사용한 간단한 사이킷런 예제 \n",
    "\n",
    "(Lasso 대신 SGDRegressor(penalty=\"l1\")을 사용할 수도 있음.)"
   ]
  },
  {
   "cell_type": "code",
   "execution_count": 67,
   "metadata": {},
   "outputs": [
    {
     "data": {
      "text/plain": [
       "array([1.53788174])"
      ]
     },
     "execution_count": 67,
     "metadata": {},
     "output_type": "execute_result"
    }
   ],
   "source": [
    "from sklearn.linear_model import Lasso\n",
    "lasso_reg = Lasso(alpha=0.1)\n",
    "lasso_reg.fit(X, y)\n",
    "lasso_reg.predict([[1.5]])"
   ]
  },
  {
   "cell_type": "markdown",
   "metadata": {},
   "source": [
    "## 엘라스틱넷\n",
    "\n",
    "\n",
    "\n",
    "엘라스틱넷은 릿지회귀와 라쏘회귀를 절충한 모델로, 규제항은 릿지와 회귀의 규제항을 단순히 더해 사용하며,\n",
    "\n",
    "혼합정도는 혼합비율은 r을 사용해 조절. r=0이면 엘라스틱넷은 릿지회귀와 같고 r=1이면 라쏘회귀와 같음.\n",
    "\n",
    "|\n",
    "\n",
    "**Equation 4-12: Elastic Net cost function**\n",
    "\n",
    "$\n",
    "J(\\boldsymbol{\\theta}) = \\text{MSE}(\\boldsymbol{\\theta}) + r \\alpha \\sum\\limits_{i=1}^{n}\\left| \\theta_i \\right| + \\dfrac{1 - r}{2} \\alpha \\sum\\limits_{i=1}^{n}{{\\theta_i}^2}\n",
    "$\n"
   ]
  },
  {
   "cell_type": "markdown",
   "metadata": {},
   "source": [
    "그럼 보통 선형회귀(즉, 규제없는 모델), 릿지, 라쏘, 엘라스틱넷은 언제 사용해야 하는가?\n",
    "\n",
    "적어도 약간의 규제가 있는 것이 좋으므로 일반적인 선형회귀를 피해야함.\n",
    "\n",
    "릿지가 기본이지만 특성이 몇 개뿐이라고 의심되면 라쏘나 엘라스틱넷이 좋음.\n",
    "\n",
    "|\n",
    "\n",
    "이 모델들은 이전에 예기한 것처럼 불필요한 가중치를 0으로 만들어줌.\n",
    "\n",
    "특성 수가 훈련 샘플 수보다 많거나 특성 몇 개가 강하게 연관되어 있을 때는 \n",
    "\n",
    "보통 라쏘가 문제를 일으키므로 엘라스틱넷을 선호"
   ]
  },
  {
   "cell_type": "markdown",
   "metadata": {},
   "source": [
    "아래 코드는 사이킷런의 ElasticNet을 사용함 (l1_ratio 는 혼합 비율 r)"
   ]
  },
  {
   "cell_type": "code",
   "execution_count": 68,
   "metadata": {},
   "outputs": [
    {
     "data": {
      "text/plain": [
       "array([1.54333232])"
      ]
     },
     "execution_count": 68,
     "metadata": {},
     "output_type": "execute_result"
    }
   ],
   "source": [
    "from sklearn.linear_model import ElasticNet\n",
    "elastic_net = ElasticNet(alpha=0.1, l1_ratio=0.5, random_state=42)\n",
    "elastic_net.fit(X, y)\n",
    "elastic_net.predict([[1.5]])"
   ]
  },
  {
   "cell_type": "markdown",
   "metadata": {},
   "source": [
    "## 조기 종료"
   ]
  },
  {
   "cell_type": "markdown",
   "metadata": {},
   "source": [
    "검증에러가 최솟값에 도달시 훈련을 중지시키는 것.\n",
    "\n",
    "아래 그래프는 배치 경사하강법으로 훈련시킨 복잡한 모델을 보여줌.\n",
    "\n",
    "에포크가 진행될수록 점차 학습되어 훈련세트에 대한 예측 에러(RMSE)와 검증세트에 대한 예측에러가 줄어듦.\n",
    "\n",
    "|\n",
    "\n",
    "그러나 잠시 후 감소하던 검즈엥러가 멈추었다가 다시 상승함.\n",
    "\n",
    "=> 모델이 훈련세트에 과대적합되기 시작\n",
    "\n",
    "=> 조기 종료는 검증 에러가 최소에 도달하는 즉시 훈련을 멈추는 것."
   ]
  },
  {
   "cell_type": "code",
   "execution_count": 73,
   "metadata": {},
   "outputs": [],
   "source": [
    "np.random.seed(42)\n",
    "m = 100\n",
    "X = 6 * np.random.rand(m, 1) - 3\n",
    "y = 2 + X + 0.5 * X**2 + np.random.randn(m, 1)\n",
    "\n",
    "X_train, X_val, y_train, y_val = train_test_split(X[:50], y[:50].ravel(), test_size=0.5, random_state=10)"
   ]
  },
  {
   "cell_type": "code",
   "execution_count": 74,
   "metadata": {},
   "outputs": [
    {
     "name": "stdout",
     "output_type": "stream",
     "text": [
      "그림 저장: early_stopping_plot\n"
     ]
    },
    {
     "data": {
      "image/png": "[encoded data removed]",
      "text/plain": [
       "<Figure size 432x288 with 1 Axes>"
      ]
     },
     "metadata": {
      "needs_background": "light"
     },
     "output_type": "display_data"
    }
   ],
   "source": [
    "sgd_reg = SGDRegressor(max_iter=1, tol=-np.infty, warm_start=True,\n",
    "                       penalty=None, learning_rate=\"constant\", eta0=0.0005, random_state=42)\n",
    "\n",
    "n_epochs = 500\n",
    "train_errors, val_errors = [], []\n",
    "for epoch in range(n_epochs):\n",
    "    sgd_reg.fit(X_train_poly_scaled, y_train)\n",
    "    y_train_predict = sgd_reg.predict(X_train_poly_scaled)\n",
    "    y_val_predict = sgd_reg.predict(X_val_poly_scaled)\n",
    "    train_errors.append(mean_squared_error(y_train, y_train_predict))\n",
    "    val_errors.append(mean_squared_error(y_val, y_val_predict))\n",
    "\n",
    "best_epoch = np.argmin(val_errors)\n",
    "best_val_rmse = np.sqrt(val_errors[best_epoch])\n",
    "\n",
    "plt.annotate('Best model',\n",
    "             xy=(best_epoch, best_val_rmse),\n",
    "             xytext=(best_epoch, best_val_rmse + 1),\n",
    "             ha=\"center\",\n",
    "             arrowprops=dict(facecolor='black', shrink=0.05),\n",
    "             fontsize=16,\n",
    "            )\n",
    "\n",
    "best_val_rmse -= 0.03  # just to make the graph look better\n",
    "plt.plot([0, n_epochs], [best_val_rmse, best_val_rmse], \"k:\", linewidth=2)\n",
    "plt.plot(np.sqrt(val_errors), \"b-\", linewidth=3, label=\"Validation set\")\n",
    "plt.plot(np.sqrt(train_errors), \"r--\", linewidth=2, label=\"Training set\")\n",
    "plt.legend(loc=\"upper right\", fontsize=14)\n",
    "plt.xlabel(\"Epoch\", fontsize=14)\n",
    "plt.ylabel(\"RMSE\", fontsize=14)\n",
    "save_fig(\"early_stopping_plot\")\n",
    "plt.show()"
   ]
  },
  {
   "cell_type": "markdown",
   "metadata": {},
   "source": [
    "#### TIP\n",
    "\n",
    "확률적 경사하강법이나 미니배치 경사하강법에서는 곡선이 그리 매끄럽지 않아 최솟값이 도달했는지\n",
    "\n",
    "확신이 어려움. 하나 해결책은 검증 에러가 일정시간 동안 최솟값보다 클 때(더는 성능향상이 안 된다고 확신할 때)\n",
    "\n",
    "학습을 멈추고 검증 에러가 최소일 때로 모델 파라미터로 되돌림."
   ]
  },
  {
   "cell_type": "code",
   "execution_count": 75,
   "metadata": {},
   "outputs": [],
   "source": [
    "from copy import deepcopy\n",
    "\n",
    "poly_scaler = Pipeline([\n",
    "        (\"poly_features\", PolynomialFeatures(degree=90, include_bias=False)),\n",
    "        (\"std_scaler\", StandardScaler())\n",
    "    ])\n",
    "\n",
    "X_train_poly_scaled = poly_scaler.fit_transform(X_train)\n",
    "X_val_poly_scaled = poly_scaler.transform(X_val)\n",
    "\n",
    "sgd_reg = SGDRegressor(max_iter=1, tol=-np.infty, warm_start=True,\n",
    "                       penalty=None, learning_rate=\"constant\", eta0=0.0005, random_state=42)\n",
    "\n",
    "minimum_val_error = float(\"inf\")\n",
    "best_epoch = None\n",
    "best_model = None\n",
    "for epoch in range(1000):\n",
    "    sgd_reg.fit(X_train_poly_scaled, y_train)  # 중지된 곳에서 다시 시작합니다\n",
    "    y_val_predict = sgd_reg.predict(X_val_poly_scaled)\n",
    "    val_error = mean_squared_error(y_val, y_val_predict)\n",
    "    if val_error < minimum_val_error:\n",
    "        minimum_val_error = val_error\n",
    "        best_epoch = epoch\n",
    "        best_model = deepcopy(sgd_reg)"
   ]
  },
  {
   "cell_type": "markdown",
   "metadata": {},
   "source": [
    "warm_start=True로 지정하면 fit() 메서드가 호출될 때 처음부터 다시 시작하지 않고 \n",
    "\n",
    "이전 모델 파라미터에서 훈련을 이어감."
   ]
  },
  {
   "cell_type": "markdown",
   "metadata": {},
   "source": [
    "# 로지스틱 회귀"
   ]
  },
  {
   "cell_type": "markdown",
   "metadata": {},
   "source": [
    "## 확률 추정"
   ]
  },
  {
   "cell_type": "markdown",
   "metadata": {},
   "source": [
    "## 훈련과 비용 함수"
   ]
  },
  {
   "cell_type": "markdown",
   "metadata": {},
   "source": [
    "## 결정 경계"
   ]
  },
  {
   "cell_type": "markdown",
   "metadata": {},
   "source": [
    "## 소프트맥스 회귀"
   ]
  }
 ],
 "metadata": {
  "interpreter": {
   "hash": "916268a5c6dcd25200736720d94968f5c0533c421c8ed3589928c0deacd85b5f"
  },
  "kernelspec": {
   "display_name": "Python 3.10.0 ('tf_pt')",
   "language": "python",
   "name": "python3"
  },
  "language_info": {
   "codemirror_mode": {
    "name": "ipython",
    "version": 3
   },
   "file_extension": ".py",
   "mimetype": "text/x-python",
   "name": "python",
   "nbconvert_exporter": "python",
   "pygments_lexer": "ipython3",
   "version": "3.10.0"
  },
  "orig_nbformat": 4
 },
 "nbformat": 4,
 "nbformat_minor": 2
}
