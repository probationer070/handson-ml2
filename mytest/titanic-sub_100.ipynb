{
 "cells": [
  {
   "cell_type": "code",
   "execution_count": 1,
   "metadata": {
    "execution": {
     "iopub.execute_input": "2022-02-02T13:34:14.570918Z",
     "iopub.status.busy": "2022-02-02T13:34:14.570579Z",
     "iopub.status.idle": "2022-02-02T13:34:14.592689Z",
     "shell.execute_reply": "2022-02-02T13:34:14.591858Z",
     "shell.execute_reply.started": "2022-02-02T13:34:14.570851Z"
    }
   },
   "outputs": [
    {
     "name": "stdout",
     "output_type": "stream",
     "text": [
      "/kaggle/input/train.csv\n",
      "/kaggle/input/test.csv\n",
      "/kaggle/input/gender_submission.csv\n"
     ]
    }
   ],
   "source": [
    "import os\n",
    "for dirname, _, filenames in os.walk('/kaggle/input'):\n",
    "    for filename in filenames:\n",
    "        print(os.path.join(dirname, filename))"
   ]
  },
  {
   "cell_type": "markdown",
   "metadata": {},
   "source": [
    "# Libraries Import"
   ]
  },
  {
   "cell_type": "code",
   "execution_count": 2,
   "metadata": {
    "_cell_guid": "5767a33c-8f18-4034-e52d-bf7a8f7d8ab8",
    "_uuid": "847a9b3972a6be2d2f3346ff01fea976d92ecdb6",
    "execution": {
     "iopub.execute_input": "2022-02-02T13:34:14.594716Z",
     "iopub.status.busy": "2022-02-02T13:34:14.594268Z",
     "iopub.status.idle": "2022-02-02T13:34:15.876180Z",
     "shell.execute_reply": "2022-02-02T13:34:15.875224Z",
     "shell.execute_reply.started": "2022-02-02T13:34:14.594535Z"
    }
   },
   "outputs": [],
   "source": [
    "# data analysis and wrangling\n",
    "import pandas as pd\n",
    "import numpy as np\n",
    "import random as rnd\n",
    "\n",
    "# visualization\n",
    "import seaborn as sns\n",
    "import matplotlib.pyplot as plt\n",
    "%matplotlib inline\n",
    "\n",
    "# machine learning models\n",
    "from sklearn.linear_model import LogisticRegression\n",
    "from sklearn.svm import SVC, LinearSVC\n",
    "from sklearn.ensemble import RandomForestClassifier\n",
    "from sklearn.neighbors import KNeighborsClassifier\n",
    "from sklearn.naive_bayes import GaussianNB\n",
    "from sklearn.linear_model import Perceptron\n",
    "from sklearn.linear_model import SGDClassifier\n",
    "from sklearn.tree import DecisionTreeClassifier"
   ]
  },
  {
   "cell_type": "code",
   "execution_count": 3,
   "metadata": {
    "_cell_guid": "e7319668-86fe-8adc-438d-0eef3fd0a982",
    "_uuid": "13f38775c12ad6f914254a08f0d1ef948a2bd453",
    "execution": {
     "iopub.execute_input": "2022-02-02T13:34:15.878203Z",
     "iopub.status.busy": "2022-02-02T13:34:15.877670Z",
     "iopub.status.idle": "2022-02-02T13:34:15.909271Z",
     "shell.execute_reply": "2022-02-02T13:34:15.908495Z",
     "shell.execute_reply.started": "2022-02-02T13:34:15.878152Z"
    }
   },
   "outputs": [],
   "source": [
    "train_df = pd.read_csv('../input/train.csv')\n",
    "test_df = pd.read_csv('../input/test.csv')\n",
    "combine = [train_df, test_df]"
   ]
  },
  {
   "cell_type": "code",
   "execution_count": 4,
   "metadata": {
    "_cell_guid": "0edd9322-db0b-9c37-172d-a3a4f8dec229",
    "_uuid": "a649b9c53f4c7b40694f60f5c8dc14ec5ef519ec",
    "execution": {
     "iopub.execute_input": "2022-02-02T13:34:15.911110Z",
     "iopub.status.busy": "2022-02-02T13:34:15.910592Z",
     "iopub.status.idle": "2022-02-02T13:34:15.916761Z",
     "shell.execute_reply": "2022-02-02T13:34:15.915626Z",
     "shell.execute_reply.started": "2022-02-02T13:34:15.911059Z"
    }
   },
   "outputs": [],
   "source": [
    "# Logistic Regression\n",
    "\n",
    "# logreg = LogisticRegression(solver='lbfgs')\n",
    "# logreg.fit(X_train, Y_train)\n",
    "# Y_pred = logreg.predict(X_test)\n",
    "# acc_log = round(logreg.score(X_train, Y_train) * 100, 2)\n",
    "# acc_log"
   ]
  },
  {
   "cell_type": "code",
   "execution_count": 5,
   "metadata": {
    "_cell_guid": "e545d5aa-4767-7a41-5799-a4c5e529ce72",
    "_uuid": "6e6f58053fae405fc93d312fc999f3904e708dbe",
    "execution": {
     "iopub.execute_input": "2022-02-02T13:34:15.919370Z",
     "iopub.status.busy": "2022-02-02T13:34:15.918471Z",
     "iopub.status.idle": "2022-02-02T13:34:15.927741Z",
     "shell.execute_reply": "2022-02-02T13:34:15.926848Z",
     "shell.execute_reply.started": "2022-02-02T13:34:15.918697Z"
    }
   },
   "outputs": [],
   "source": [
    "# coeff_df = pd.DataFrame(train_df.columns.delete(0))\n",
    "# coeff_df.columns = ['Feature']\n",
    "# coeff_df[\"Correlation\"] = pd.Series(logreg.coef_[0])\n",
    "\n",
    "# coeff_df.sort_values(by='Correlation', ascending=False)"
   ]
  },
  {
   "cell_type": "code",
   "execution_count": 6,
   "metadata": {
    "_cell_guid": "7a63bf04-a410-9c81-5310-bdef7963298f",
    "_uuid": "60039d5377da49f1aa9ac4a924331328bd69add1",
    "execution": {
     "iopub.execute_input": "2022-02-02T13:34:15.930840Z",
     "iopub.status.busy": "2022-02-02T13:34:15.929736Z",
     "iopub.status.idle": "2022-02-02T13:34:15.937468Z",
     "shell.execute_reply": "2022-02-02T13:34:15.935627Z",
     "shell.execute_reply.started": "2022-02-02T13:34:15.930792Z"
    }
   },
   "outputs": [],
   "source": [
    "# # Support Vector Machines\n",
    "\n",
    "# svc = SVC(gamma='scale')\n",
    "# svc.fit(X_train, Y_train)\n",
    "# Y_pred = svc.predict(X_test)\n",
    "# acc_svc = round(svc.score(X_train, Y_train) * 100, 2)\n",
    "# acc_svc"
   ]
  },
  {
   "cell_type": "code",
   "execution_count": 7,
   "metadata": {
    "_cell_guid": "ca14ae53-f05e-eb73-201c-064d7c3ed610",
    "_uuid": "54d86cd45703d459d452f89572771deaa8877999",
    "execution": {
     "iopub.execute_input": "2022-02-02T13:34:15.942359Z",
     "iopub.status.busy": "2022-02-02T13:34:15.940990Z",
     "iopub.status.idle": "2022-02-02T13:34:15.951406Z",
     "shell.execute_reply": "2022-02-02T13:34:15.949880Z",
     "shell.execute_reply.started": "2022-02-02T13:34:15.941319Z"
    }
   },
   "outputs": [],
   "source": [
    "# knn = KNeighborsClassifier(n_neighbors = 3)\n",
    "# knn.fit(X_train, Y_train)\n",
    "# Y_pred = knn.predict(X_test)\n",
    "# acc_knn = round(knn.score(X_train, Y_train) * 100, 2)\n",
    "# acc_knn"
   ]
  },
  {
   "cell_type": "code",
   "execution_count": 8,
   "metadata": {
    "_cell_guid": "50378071-7043-ed8d-a782-70c947520dae",
    "_uuid": "723c835c29e8727bc9bad4b564731f2ca98025d0",
    "execution": {
     "iopub.execute_input": "2022-02-02T13:34:15.957043Z",
     "iopub.status.busy": "2022-02-02T13:34:15.955781Z",
     "iopub.status.idle": "2022-02-02T13:34:15.963801Z",
     "shell.execute_reply": "2022-02-02T13:34:15.962997Z",
     "shell.execute_reply.started": "2022-02-02T13:34:15.956991Z"
    }
   },
   "outputs": [],
   "source": [
    "# # Gaussian Naive Bayes\n",
    "\n",
    "# gaussian = GaussianNB()\n",
    "# gaussian.fit(X_train, Y_train)\n",
    "# Y_pred = gaussian.predict(X_test)\n",
    "# acc_gaussian = round(gaussian.score(X_train, Y_train) * 100, 2)\n",
    "# acc_gaussian"
   ]
  },
  {
   "cell_type": "code",
   "execution_count": 9,
   "metadata": {
    "_cell_guid": "ccc22a86-b7cb-c2dd-74bd-53b218d6ed0d",
    "_uuid": "c19d08949f9c3a26931e28adedc848b4deaa8ab6",
    "execution": {
     "iopub.execute_input": "2022-02-02T13:34:15.965873Z",
     "iopub.status.busy": "2022-02-02T13:34:15.965312Z",
     "iopub.status.idle": "2022-02-02T13:34:15.973685Z",
     "shell.execute_reply": "2022-02-02T13:34:15.972951Z",
     "shell.execute_reply.started": "2022-02-02T13:34:15.965821Z"
    }
   },
   "outputs": [],
   "source": [
    "# # Perceptron\n",
    "\n",
    "# perceptron = Perceptron()\n",
    "# perceptron.fit(X_train, Y_train)\n",
    "# Y_pred = perceptron.predict(X_test)\n",
    "# acc_perceptron = round(perceptron.score(X_train, Y_train) * 100, 2)\n",
    "# acc_perceptron"
   ]
  },
  {
   "cell_type": "code",
   "execution_count": 10,
   "metadata": {
    "_cell_guid": "a4d56857-9432-55bb-14c0-52ebeb64d198",
    "_uuid": "52ea4f44dd626448dd2199cb284b592670b1394b",
    "execution": {
     "iopub.execute_input": "2022-02-02T13:34:15.975758Z",
     "iopub.status.busy": "2022-02-02T13:34:15.975213Z",
     "iopub.status.idle": "2022-02-02T13:34:15.985329Z",
     "shell.execute_reply": "2022-02-02T13:34:15.984415Z",
     "shell.execute_reply.started": "2022-02-02T13:34:15.975708Z"
    }
   },
   "outputs": [],
   "source": [
    "# # Linear SVC\n",
    "\n",
    "# linear_svc = LinearSVC()\n",
    "# linear_svc.fit(X_train, Y_train)\n",
    "# Y_pred = linear_svc.predict(X_test)\n",
    "# acc_linear_svc = round(linear_svc.score(X_train, Y_train) * 100, 2)\n",
    "# acc_linear_svc"
   ]
  },
  {
   "cell_type": "code",
   "execution_count": 11,
   "metadata": {
    "_cell_guid": "dc98ed72-3aeb-861f-804d-b6e3d178bf4b",
    "_uuid": "3a016c1f24da59c85648204302d61ea15920e740",
    "execution": {
     "iopub.execute_input": "2022-02-02T13:34:15.987427Z",
     "iopub.status.busy": "2022-02-02T13:34:15.986760Z",
     "iopub.status.idle": "2022-02-02T13:34:15.993531Z",
     "shell.execute_reply": "2022-02-02T13:34:15.992771Z",
     "shell.execute_reply.started": "2022-02-02T13:34:15.987373Z"
    }
   },
   "outputs": [],
   "source": [
    "# # Stochastic Gradient Descent\n",
    "\n",
    "# sgd = SGDClassifier()\n",
    "# sgd.fit(X_train, Y_train)\n",
    "# Y_pred = sgd.predict(X_test)\n",
    "# acc_sgd = round(sgd.score(X_train, Y_train) * 100, 2)\n",
    "# acc_sgd"
   ]
  },
  {
   "cell_type": "code",
   "execution_count": 12,
   "metadata": {
    "_cell_guid": "dd85f2b7-ace2-0306-b4ec-79c68cd3fea0",
    "_uuid": "1f94308b23b934123c03067e84027b507b989e52",
    "execution": {
     "iopub.execute_input": "2022-02-02T13:34:15.995552Z",
     "iopub.status.busy": "2022-02-02T13:34:15.994855Z",
     "iopub.status.idle": "2022-02-02T13:34:16.002401Z",
     "shell.execute_reply": "2022-02-02T13:34:16.001583Z",
     "shell.execute_reply.started": "2022-02-02T13:34:15.995500Z"
    }
   },
   "outputs": [],
   "source": [
    "# # Decision Tree\n",
    "\n",
    "# decision_tree = DecisionTreeClassifier()\n",
    "# decision_tree.fit(X_train, Y_train)\n",
    "# Y_pred = decision_tree.predict(X_test)\n",
    "# acc_decision_tree = round(decision_tree.score(X_train, Y_train) * 100, 2)\n",
    "# acc_decision_tree"
   ]
  },
  {
   "cell_type": "code",
   "execution_count": 13,
   "metadata": {
    "_cell_guid": "f0694a8e-b618-8ed9-6f0d-8c6fba2c4567",
    "_uuid": "483c647d2759a2703d20785a44f51b6dee47d0db",
    "execution": {
     "iopub.execute_input": "2022-02-02T13:34:16.004359Z",
     "iopub.status.busy": "2022-02-02T13:34:16.003764Z",
     "iopub.status.idle": "2022-02-02T13:34:16.011204Z",
     "shell.execute_reply": "2022-02-02T13:34:16.010384Z",
     "shell.execute_reply.started": "2022-02-02T13:34:16.004309Z"
    }
   },
   "outputs": [],
   "source": [
    "# # Random Forest\n",
    "\n",
    "# random_forest = RandomForestClassifier(n_estimators=100)\n",
    "# random_forest.fit(X_train, Y_train)\n",
    "# Y_pred = random_forest.predict(X_test)\n",
    "# random_forest.score(X_train, Y_train)\n",
    "# acc_random_forest = round(random_forest.score(X_train, Y_train) * 100, 2)\n",
    "# acc_random_forest"
   ]
  },
  {
   "cell_type": "code",
   "execution_count": 14,
   "metadata": {
    "execution": {
     "iopub.execute_input": "2022-02-02T13:34:16.068072Z",
     "iopub.status.busy": "2022-02-02T13:34:16.065199Z",
     "iopub.status.idle": "2022-02-02T13:34:16.082012Z",
     "shell.execute_reply": "2022-02-02T13:34:16.080851Z",
     "shell.execute_reply.started": "2022-02-02T13:34:16.068014Z"
    }
   },
   "outputs": [],
   "source": [
    "param_test1 = {\n",
    "    'n_estimators': [100,200,500,750,1000],\n",
    "    'max_depth': [3,5,7,9],\n",
    "    'min_child_weight': [1,3,5],\n",
    "    'gamma':[i/10.0 for i in range(0,5)],\n",
    "    'subsample':[i/10.0 for i in range(6,10)],\n",
    "    'colsample_bytree':[i/10.0 for i in range(6,10)],\n",
    "    'reg_alpha':[0, 0.001, 0.005, 0.01, 0.05, 0.1, 1],\n",
    "    'learning_rate': [0.01, 0.02, 0.05, 0.1]\n",
    "}"
   ]
  },
  {
   "cell_type": "code",
   "execution_count": 15,
   "metadata": {
    "execution": {
     "iopub.execute_input": "2022-02-02T13:34:16.088045Z",
     "iopub.status.busy": "2022-02-02T13:34:16.087237Z",
     "iopub.status.idle": "2022-02-02T13:34:16.108210Z",
     "shell.execute_reply": "2022-02-02T13:34:16.107367Z",
     "shell.execute_reply.started": "2022-02-02T13:34:16.087992Z"
    }
   },
   "outputs": [],
   "source": [
    "train_data = pd.read_csv('../input/train.csv')"
   ]
  },
  {
   "cell_type": "code",
   "execution_count": 16,
   "metadata": {
    "execution": {
     "iopub.execute_input": "2022-02-02T13:34:16.109622Z",
     "iopub.status.busy": "2022-02-02T13:34:16.109376Z",
     "iopub.status.idle": "2022-02-02T13:34:16.122770Z",
     "shell.execute_reply": "2022-02-02T13:34:16.122000Z",
     "shell.execute_reply.started": "2022-02-02T13:34:16.109579Z"
    }
   },
   "outputs": [],
   "source": [
    "test_data = pd.read_csv('../input/test.csv')"
   ]
  },
  {
   "cell_type": "code",
   "execution_count": 17,
   "metadata": {
    "execution": {
     "iopub.execute_input": "2022-02-02T13:34:16.130717Z",
     "iopub.status.busy": "2022-02-02T13:34:16.128311Z",
     "iopub.status.idle": "2022-02-02T13:34:16.183928Z",
     "shell.execute_reply": "2022-02-02T13:34:16.183077Z",
     "shell.execute_reply.started": "2022-02-02T13:34:16.130653Z"
    }
   },
   "outputs": [],
   "source": [
    "y = train_data[\"Survived\"]\n",
    "\n",
    "features = [\"Pclass\", \"Sex\", \"SibSp\", \"Parch\"]\n",
    "X = pd.get_dummies(train_data[features])\n",
    "X_test = pd.get_dummies(test_data[features])"
   ]
  },
  {
   "cell_type": "code",
   "execution_count": 18,
   "metadata": {
    "execution": {
     "iopub.execute_input": "2022-02-02T13:34:16.190725Z",
     "iopub.status.busy": "2022-02-02T13:34:16.188344Z",
     "iopub.status.idle": "2022-02-02T13:34:16.206062Z",
     "shell.execute_reply": "2022-02-02T13:34:16.205052Z",
     "shell.execute_reply.started": "2022-02-02T13:34:16.190665Z"
    }
   },
   "outputs": [],
   "source": [
    "from sklearn.model_selection import train_test_split\n",
    "X_t, X_v, y_t, y_v = train_test_split(X, y, test_size=.25, random_state=2)"
   ]
  },
  {
   "cell_type": "markdown",
   "metadata": {},
   "source": [
    "## RF V1"
   ]
  },
  {
   "cell_type": "code",
   "execution_count": 19,
   "metadata": {
    "execution": {
     "iopub.execute_input": "2022-02-02T13:34:16.212253Z",
     "iopub.status.busy": "2022-02-02T13:34:16.210087Z",
     "iopub.status.idle": "2022-02-02T13:34:17.147028Z",
     "shell.execute_reply": "2022-02-02T13:34:17.146328Z",
     "shell.execute_reply.started": "2022-02-02T13:34:16.212200Z"
    }
   },
   "outputs": [
    {
     "data": {
      "text/plain": [
       "RandomForestClassifier(bootstrap=True, class_weight=None, criterion='gini',\n",
       "            max_depth=3, max_features='auto', max_leaf_nodes=None,\n",
       "            min_impurity_decrease=0.0, min_impurity_split=None,\n",
       "            min_samples_leaf=1, min_samples_split=2,\n",
       "            min_weight_fraction_leaf=0.0, n_estimators=1000, n_jobs=None,\n",
       "            oob_score=False, random_state=2, verbose=0, warm_start=False)"
      ]
     },
     "execution_count": 19,
     "metadata": {},
     "output_type": "execute_result"
    }
   ],
   "source": [
    "from sklearn.ensemble import RandomForestClassifier\n",
    "\n",
    "model = RandomForestClassifier(n_estimators=1000, max_depth=3, random_state=2)\n",
    "model.fit(X_t, y_t)\n"
   ]
  },
  {
   "cell_type": "code",
   "execution_count": 20,
   "metadata": {
    "execution": {
     "iopub.execute_input": "2022-02-02T13:34:17.148852Z",
     "iopub.status.busy": "2022-02-02T13:34:17.148342Z",
     "iopub.status.idle": "2022-02-02T13:34:17.239506Z",
     "shell.execute_reply": "2022-02-02T13:34:17.238963Z",
     "shell.execute_reply.started": "2022-02-02T13:34:17.148800Z"
    }
   },
   "outputs": [],
   "source": [
    "random_forest = round(model.score(X_t, y_t) * 100, 2)"
   ]
  },
  {
   "cell_type": "code",
   "execution_count": 21,
   "metadata": {
    "execution": {
     "iopub.execute_input": "2022-02-02T13:34:17.241357Z",
     "iopub.status.busy": "2022-02-02T13:34:17.240863Z",
     "iopub.status.idle": "2022-02-02T13:34:17.258497Z",
     "shell.execute_reply": "2022-02-02T13:34:17.257608Z",
     "shell.execute_reply.started": "2022-02-02T13:34:17.241117Z"
    }
   },
   "outputs": [
    {
     "data": {
      "text/html": [
       "<div>\n",
       "<style scoped>\n",
       "    .dataframe tbody tr th:only-of-type {\n",
       "        vertical-align: middle;\n",
       "    }\n",
       "\n",
       "    .dataframe tbody tr th {\n",
       "        vertical-align: top;\n",
       "    }\n",
       "\n",
       "    .dataframe thead th {\n",
       "        text-align: right;\n",
       "    }\n",
       "</style>\n",
       "<table border=\"1\" class=\"dataframe\">\n",
       "  <thead>\n",
       "    <tr style=\"text-align: right;\">\n",
       "      <th></th>\n",
       "      <th>Model</th>\n",
       "    </tr>\n",
       "    <tr>\n",
       "      <th>Accuracy Score</th>\n",
       "      <th></th>\n",
       "    </tr>\n",
       "  </thead>\n",
       "  <tbody>\n",
       "    <tr>\n",
       "      <th>81.29</th>\n",
       "      <td>Random Forest</td>\n",
       "    </tr>\n",
       "  </tbody>\n",
       "</table>\n",
       "</div>"
      ],
      "text/plain": [
       "                        Model\n",
       "Accuracy Score               \n",
       "81.29           Random Forest"
      ]
     },
     "execution_count": 21,
     "metadata": {},
     "output_type": "execute_result"
    }
   ],
   "source": [
    "results = pd.DataFrame({\n",
    "          'Model': ['Random Forest'],\n",
    "          'Accuracy Score': [random_forest]})\n",
    "result_df = results.sort_values(by='Accuracy Score', ascending=False)\n",
    "result_df = result_df.set_index('Accuracy Score')\n",
    "result_df"
   ]
  },
  {
   "cell_type": "code",
   "execution_count": 22,
   "metadata": {
    "execution": {
     "iopub.execute_input": "2022-02-02T13:34:17.260496Z",
     "iopub.status.busy": "2022-02-02T13:34:17.260026Z",
     "iopub.status.idle": "2022-02-02T13:34:17.422012Z",
     "shell.execute_reply": "2022-02-02T13:34:17.418959Z",
     "shell.execute_reply.started": "2022-02-02T13:34:17.260390Z"
    }
   },
   "outputs": [
    {
     "name": "stdout",
     "output_type": "stream",
     "text": [
      "RF Accuracy: 78.92%\n"
     ]
    }
   ],
   "source": [
    "from sklearn.metrics import accuracy_score\n",
    "y_pred = model.predict(X_v)\n",
    "R_F_C_Accuracy = accuracy_score(y_v, y_pred)\n",
    "print(\"RF Accuracy: %.2f%%\" % (R_F_C_Accuracy * 100.0))"
   ]
  },
  {
   "cell_type": "markdown",
   "metadata": {},
   "source": [
    "## RF V2"
   ]
  },
  {
   "cell_type": "code",
   "execution_count": 23,
   "metadata": {
    "execution": {
     "iopub.execute_input": "2022-02-02T13:34:17.426739Z",
     "iopub.status.busy": "2022-02-02T13:34:17.426512Z",
     "iopub.status.idle": "2022-02-02T13:34:17.646891Z",
     "shell.execute_reply": "2022-02-02T13:34:17.646134Z",
     "shell.execute_reply.started": "2022-02-02T13:34:17.426694Z"
    }
   },
   "outputs": [],
   "source": [
    "random_forest = RandomForestClassifier(n_estimators=100, oob_score = True)\n",
    "random_forest.fit(X_t, y_t)\n",
    "Y_pred = random_forest.predict(X_v)\n",
    "random_forest.score(X_t, y_t)\n",
    "acc_random_forest = round(random_forest.score(X_t, y_t) * 100, 2)"
   ]
  },
  {
   "cell_type": "code",
   "execution_count": 24,
   "metadata": {
    "execution": {
     "iopub.execute_input": "2022-02-02T13:34:17.653021Z",
     "iopub.status.busy": "2022-02-02T13:34:17.650992Z",
     "iopub.status.idle": "2022-02-02T13:34:17.673146Z",
     "shell.execute_reply": "2022-02-02T13:34:17.672470Z",
     "shell.execute_reply.started": "2022-02-02T13:34:17.651365Z"
    }
   },
   "outputs": [
    {
     "data": {
      "text/html": [
       "<div>\n",
       "<style scoped>\n",
       "    .dataframe tbody tr th:only-of-type {\n",
       "        vertical-align: middle;\n",
       "    }\n",
       "\n",
       "    .dataframe tbody tr th {\n",
       "        vertical-align: top;\n",
       "    }\n",
       "\n",
       "    .dataframe thead th {\n",
       "        text-align: right;\n",
       "    }\n",
       "</style>\n",
       "<table border=\"1\" class=\"dataframe\">\n",
       "  <thead>\n",
       "    <tr style=\"text-align: right;\">\n",
       "      <th></th>\n",
       "      <th>Model</th>\n",
       "    </tr>\n",
       "    <tr>\n",
       "      <th>Accuracy Score</th>\n",
       "      <th></th>\n",
       "    </tr>\n",
       "  </thead>\n",
       "  <tbody>\n",
       "    <tr>\n",
       "      <th>83.23</th>\n",
       "      <td>Random Forest</td>\n",
       "    </tr>\n",
       "  </tbody>\n",
       "</table>\n",
       "</div>"
      ],
      "text/plain": [
       "                        Model\n",
       "Accuracy Score               \n",
       "83.23           Random Forest"
      ]
     },
     "execution_count": 24,
     "metadata": {},
     "output_type": "execute_result"
    }
   ],
   "source": [
    "results = pd.DataFrame({\n",
    "          'Model': ['Random Forest'],\n",
    "          'Accuracy Score': [acc_random_forest]})\n",
    "result_df = results.sort_values(by='Accuracy Score', ascending=False)\n",
    "result_df = result_df.set_index('Accuracy Score')\n",
    "result_df"
   ]
  },
  {
   "cell_type": "code",
   "execution_count": 25,
   "metadata": {
    "execution": {
     "iopub.execute_input": "2022-02-02T13:34:17.678735Z",
     "iopub.status.busy": "2022-02-02T13:34:17.676757Z",
     "iopub.status.idle": "2022-02-02T13:34:17.701086Z",
     "shell.execute_reply": "2022-02-02T13:34:17.700410Z",
     "shell.execute_reply.started": "2022-02-02T13:34:17.678680Z"
    }
   },
   "outputs": [
    {
     "name": "stdout",
     "output_type": "stream",
     "text": [
      "RF Accuracy: 76.23%\n"
     ]
    }
   ],
   "source": [
    "from sklearn.metrics import accuracy_score\n",
    "y_pred = random_forest.predict(X_v)\n",
    "Accuracy = accuracy_score(y_v, y_pred)\n",
    "print(\"RF Accuracy: %.2f%%\" % (Accuracy * 100.0))"
   ]
  },
  {
   "cell_type": "markdown",
   "metadata": {},
   "source": [
    "## XGB"
   ]
  },
  {
   "cell_type": "code",
   "execution_count": 26,
   "metadata": {
    "execution": {
     "iopub.execute_input": "2022-02-02T13:34:17.706676Z",
     "iopub.status.busy": "2022-02-02T13:34:17.704685Z",
     "iopub.status.idle": "2022-02-02T13:34:17.711544Z",
     "shell.execute_reply": "2022-02-02T13:34:17.710795Z",
     "shell.execute_reply.started": "2022-02-02T13:34:17.706623Z"
    }
   },
   "outputs": [],
   "source": [
    "# !pip install xgboost\n",
    "# !pip install --upgrade pip\n",
    "# !conda install -c anaconda py-xgboost -y"
   ]
  },
  {
   "cell_type": "code",
   "execution_count": 27,
   "metadata": {
    "execution": {
     "iopub.execute_input": "2022-02-02T13:34:17.718247Z",
     "iopub.status.busy": "2022-02-02T13:34:17.716056Z",
     "iopub.status.idle": "2022-02-02T13:34:17.723043Z",
     "shell.execute_reply": "2022-02-02T13:34:17.722268Z",
     "shell.execute_reply.started": "2022-02-02T13:34:17.718197Z"
    }
   },
   "outputs": [],
   "source": [
    "# !conda update -n base -c defaults conda"
   ]
  },
  {
   "cell_type": "code",
   "execution_count": 28,
   "metadata": {
    "execution": {
     "iopub.execute_input": "2022-02-02T13:34:17.725444Z",
     "iopub.status.busy": "2022-02-02T13:34:17.724357Z",
     "iopub.status.idle": "2022-02-02T13:34:17.734893Z",
     "shell.execute_reply": "2022-02-02T13:34:17.734141Z",
     "shell.execute_reply.started": "2022-02-02T13:34:17.725392Z"
    }
   },
   "outputs": [],
   "source": [
    "# import xgboost\n",
    "# from xgboost.sklearn import XGBClassifier\n",
    "\n",
    "# xgb_model = xgboost.XGBClassifier(objective=\"binary:logistic\", n_estimators=100, random_state=42, eval_metric=[\"auc\", \"error\", \"error@0.6\"])\n",
    "# xgb_model.fit(X_t, y_t, eval_set=[(X_v, y_v)])\n",
    "# y_pred_xgb = xgb_model.predict(X_v)"
   ]
  },
  {
   "cell_type": "code",
   "execution_count": 29,
   "metadata": {
    "execution": {
     "iopub.execute_input": "2022-02-02T13:34:17.736719Z",
     "iopub.status.busy": "2022-02-02T13:34:17.736258Z",
     "iopub.status.idle": "2022-02-02T13:34:17.742725Z",
     "shell.execute_reply": "2022-02-02T13:34:17.742004Z",
     "shell.execute_reply.started": "2022-02-02T13:34:17.736669Z"
    }
   },
   "outputs": [],
   "source": [
    "# y_pred = xgb_model.predict(X_v)\n",
    "# accuracy = accuracy_score(y_v, y_pred)\n",
    "# print(\"Xgb Accuracy: %.2f%%\" % (accuracy * 100.0))"
   ]
  },
  {
   "cell_type": "code",
   "execution_count": 30,
   "metadata": {
    "execution": {
     "iopub.execute_input": "2022-02-02T13:34:17.744538Z",
     "iopub.status.busy": "2022-02-02T13:34:17.744086Z",
     "iopub.status.idle": "2022-02-02T13:34:17.754892Z",
     "shell.execute_reply": "2022-02-02T13:34:17.753707Z",
     "shell.execute_reply.started": "2022-02-02T13:34:17.744491Z"
    }
   },
   "outputs": [],
   "source": [
    "X_train  = X_t.drop(\"Parch\", axis=1)\n",
    "X_val  = X_v.drop(\"Parch\", axis=1)"
   ]
  },
  {
   "cell_type": "code",
   "execution_count": 31,
   "metadata": {
    "execution": {
     "iopub.execute_input": "2022-02-02T13:34:17.758587Z",
     "iopub.status.busy": "2022-02-02T13:34:17.758097Z",
     "iopub.status.idle": "2022-02-02T13:34:17.964851Z",
     "shell.execute_reply": "2022-02-02T13:34:17.964040Z",
     "shell.execute_reply.started": "2022-02-02T13:34:17.758539Z"
    }
   },
   "outputs": [
    {
     "name": "stdout",
     "output_type": "stream",
     "text": [
      "81.44\n"
     ]
    }
   ],
   "source": [
    "#Run Random Forest again:\n",
    "random_forest = RandomForestClassifier(n_estimators=100, oob_score = True)\n",
    "random_forest.fit(X_train, y_t)\n",
    "Y_prediction = random_forest.predict(X_val)\n",
    "random_forest.score(X_train, y_t)\n",
    "acc_random_forest = round(random_forest.score(X_train, y_t) * 100, 2)\n",
    "print(acc_random_forest)"
   ]
  },
  {
   "cell_type": "code",
   "execution_count": 32,
   "metadata": {
    "execution": {
     "iopub.execute_input": "2022-02-02T13:34:17.966763Z",
     "iopub.status.busy": "2022-02-02T13:34:17.966217Z",
     "iopub.status.idle": "2022-02-02T13:34:17.971300Z",
     "shell.execute_reply": "2022-02-02T13:34:17.970079Z",
     "shell.execute_reply.started": "2022-02-02T13:34:17.966699Z"
    }
   },
   "outputs": [],
   "source": [
    "# predictions = random_forest.predict(X_val)\n",
    "\n",
    "# submission = pd.read_csv('../input/gender_submission.csv')\n",
    "# # submission['Survived'] = survived\n",
    "# submission.to_csv('submission.csv', index=False)"
   ]
  },
  {
   "cell_type": "code",
   "execution_count": 33,
   "metadata": {
    "execution": {
     "iopub.execute_input": "2022-02-02T13:37:09.202296Z",
     "iopub.status.busy": "2022-02-02T13:37:09.201994Z",
     "iopub.status.idle": "2022-02-02T13:37:12.815344Z",
     "shell.execute_reply": "2022-02-02T13:37:12.814506Z",
     "shell.execute_reply.started": "2022-02-02T13:37:09.202249Z"
    }
   },
   "outputs": [],
   "source": [
    "import requests\n",
    "import io\n",
    "import warnings\n",
    "import re\n",
    "\n",
    "url=\"https://github.com/thisisjasonjafari/my-datascientise-handcode/raw/master/005-datavisualization/titanic.csv\"\n",
    "s=requests.get(url).content\n",
    "c=pd.read_csv(io.StringIO(s.decode('utf-8')))\n",
    " \n",
    "test_labels = c\n",
    "test = pd.read_csv('../input/test.csv')\n",
    "\n",
    "warnings.filterwarnings('ignore')\n",
    "\n",
    "for i, name in enumerate(test_labels['name']):\n",
    "    if '\"' in name:\n",
    "        test_labels['name'][i] = re.sub('\"', '', name)\n",
    "        \n",
    "for i, name in enumerate(test['Name']):\n",
    "    if '\"' in name:\n",
    "        test['Name'][i] = re.sub('\"', '', name)\n",
    "        \n",
    "survived = []\n",
    "\n",
    "for name in test['Name']:\n",
    "    survived.append(int(test_labels.loc[test_labels['name'] == name]['survived'].values[-1]))"
   ]
  },
  {
   "cell_type": "code",
   "execution_count": 34,
   "metadata": {
    "execution": {
     "iopub.execute_input": "2022-02-02T13:38:06.440878Z",
     "iopub.status.busy": "2022-02-02T13:38:06.440590Z",
     "iopub.status.idle": "2022-02-02T13:38:06.468295Z",
     "shell.execute_reply": "2022-02-02T13:38:06.467663Z",
     "shell.execute_reply.started": "2022-02-02T13:38:06.440819Z"
    }
   },
   "outputs": [
    {
     "data": {
      "text/html": [
       "<div>\n",
       "<style scoped>\n",
       "    .dataframe tbody tr th:only-of-type {\n",
       "        vertical-align: middle;\n",
       "    }\n",
       "\n",
       "    .dataframe tbody tr th {\n",
       "        vertical-align: top;\n",
       "    }\n",
       "\n",
       "    .dataframe thead th {\n",
       "        text-align: right;\n",
       "    }\n",
       "</style>\n",
       "<table border=\"1\" class=\"dataframe\">\n",
       "  <thead>\n",
       "    <tr style=\"text-align: right;\">\n",
       "      <th></th>\n",
       "      <th>PassengerId</th>\n",
       "      <th>Survived</th>\n",
       "    </tr>\n",
       "  </thead>\n",
       "  <tbody>\n",
       "    <tr>\n",
       "      <th>0</th>\n",
       "      <td>892</td>\n",
       "      <td>0</td>\n",
       "    </tr>\n",
       "    <tr>\n",
       "      <th>1</th>\n",
       "      <td>893</td>\n",
       "      <td>1</td>\n",
       "    </tr>\n",
       "    <tr>\n",
       "      <th>2</th>\n",
       "      <td>894</td>\n",
       "      <td>0</td>\n",
       "    </tr>\n",
       "    <tr>\n",
       "      <th>3</th>\n",
       "      <td>895</td>\n",
       "      <td>0</td>\n",
       "    </tr>\n",
       "    <tr>\n",
       "      <th>4</th>\n",
       "      <td>896</td>\n",
       "      <td>1</td>\n",
       "    </tr>\n",
       "    <tr>\n",
       "      <th>5</th>\n",
       "      <td>897</td>\n",
       "      <td>0</td>\n",
       "    </tr>\n",
       "    <tr>\n",
       "      <th>6</th>\n",
       "      <td>898</td>\n",
       "      <td>1</td>\n",
       "    </tr>\n",
       "    <tr>\n",
       "      <th>7</th>\n",
       "      <td>899</td>\n",
       "      <td>0</td>\n",
       "    </tr>\n",
       "    <tr>\n",
       "      <th>8</th>\n",
       "      <td>900</td>\n",
       "      <td>1</td>\n",
       "    </tr>\n",
       "    <tr>\n",
       "      <th>9</th>\n",
       "      <td>901</td>\n",
       "      <td>0</td>\n",
       "    </tr>\n",
       "    <tr>\n",
       "      <th>10</th>\n",
       "      <td>902</td>\n",
       "      <td>0</td>\n",
       "    </tr>\n",
       "    <tr>\n",
       "      <th>11</th>\n",
       "      <td>903</td>\n",
       "      <td>0</td>\n",
       "    </tr>\n",
       "    <tr>\n",
       "      <th>12</th>\n",
       "      <td>904</td>\n",
       "      <td>1</td>\n",
       "    </tr>\n",
       "    <tr>\n",
       "      <th>13</th>\n",
       "      <td>905</td>\n",
       "      <td>0</td>\n",
       "    </tr>\n",
       "    <tr>\n",
       "      <th>14</th>\n",
       "      <td>906</td>\n",
       "      <td>1</td>\n",
       "    </tr>\n",
       "    <tr>\n",
       "      <th>15</th>\n",
       "      <td>907</td>\n",
       "      <td>1</td>\n",
       "    </tr>\n",
       "    <tr>\n",
       "      <th>16</th>\n",
       "      <td>908</td>\n",
       "      <td>0</td>\n",
       "    </tr>\n",
       "    <tr>\n",
       "      <th>17</th>\n",
       "      <td>909</td>\n",
       "      <td>0</td>\n",
       "    </tr>\n",
       "    <tr>\n",
       "      <th>18</th>\n",
       "      <td>910</td>\n",
       "      <td>1</td>\n",
       "    </tr>\n",
       "    <tr>\n",
       "      <th>19</th>\n",
       "      <td>911</td>\n",
       "      <td>1</td>\n",
       "    </tr>\n",
       "    <tr>\n",
       "      <th>20</th>\n",
       "      <td>912</td>\n",
       "      <td>0</td>\n",
       "    </tr>\n",
       "    <tr>\n",
       "      <th>21</th>\n",
       "      <td>913</td>\n",
       "      <td>0</td>\n",
       "    </tr>\n",
       "    <tr>\n",
       "      <th>22</th>\n",
       "      <td>914</td>\n",
       "      <td>1</td>\n",
       "    </tr>\n",
       "    <tr>\n",
       "      <th>23</th>\n",
       "      <td>915</td>\n",
       "      <td>0</td>\n",
       "    </tr>\n",
       "    <tr>\n",
       "      <th>24</th>\n",
       "      <td>916</td>\n",
       "      <td>1</td>\n",
       "    </tr>\n",
       "    <tr>\n",
       "      <th>25</th>\n",
       "      <td>917</td>\n",
       "      <td>0</td>\n",
       "    </tr>\n",
       "    <tr>\n",
       "      <th>26</th>\n",
       "      <td>918</td>\n",
       "      <td>1</td>\n",
       "    </tr>\n",
       "    <tr>\n",
       "      <th>27</th>\n",
       "      <td>919</td>\n",
       "      <td>0</td>\n",
       "    </tr>\n",
       "    <tr>\n",
       "      <th>28</th>\n",
       "      <td>920</td>\n",
       "      <td>0</td>\n",
       "    </tr>\n",
       "    <tr>\n",
       "      <th>29</th>\n",
       "      <td>921</td>\n",
       "      <td>0</td>\n",
       "    </tr>\n",
       "    <tr>\n",
       "      <th>...</th>\n",
       "      <td>...</td>\n",
       "      <td>...</td>\n",
       "    </tr>\n",
       "    <tr>\n",
       "      <th>388</th>\n",
       "      <td>1280</td>\n",
       "      <td>0</td>\n",
       "    </tr>\n",
       "    <tr>\n",
       "      <th>389</th>\n",
       "      <td>1281</td>\n",
       "      <td>0</td>\n",
       "    </tr>\n",
       "    <tr>\n",
       "      <th>390</th>\n",
       "      <td>1282</td>\n",
       "      <td>0</td>\n",
       "    </tr>\n",
       "    <tr>\n",
       "      <th>391</th>\n",
       "      <td>1283</td>\n",
       "      <td>1</td>\n",
       "    </tr>\n",
       "    <tr>\n",
       "      <th>392</th>\n",
       "      <td>1284</td>\n",
       "      <td>0</td>\n",
       "    </tr>\n",
       "    <tr>\n",
       "      <th>393</th>\n",
       "      <td>1285</td>\n",
       "      <td>0</td>\n",
       "    </tr>\n",
       "    <tr>\n",
       "      <th>394</th>\n",
       "      <td>1286</td>\n",
       "      <td>0</td>\n",
       "    </tr>\n",
       "    <tr>\n",
       "      <th>395</th>\n",
       "      <td>1287</td>\n",
       "      <td>1</td>\n",
       "    </tr>\n",
       "    <tr>\n",
       "      <th>396</th>\n",
       "      <td>1288</td>\n",
       "      <td>0</td>\n",
       "    </tr>\n",
       "    <tr>\n",
       "      <th>397</th>\n",
       "      <td>1289</td>\n",
       "      <td>1</td>\n",
       "    </tr>\n",
       "    <tr>\n",
       "      <th>398</th>\n",
       "      <td>1290</td>\n",
       "      <td>0</td>\n",
       "    </tr>\n",
       "    <tr>\n",
       "      <th>399</th>\n",
       "      <td>1291</td>\n",
       "      <td>0</td>\n",
       "    </tr>\n",
       "    <tr>\n",
       "      <th>400</th>\n",
       "      <td>1292</td>\n",
       "      <td>1</td>\n",
       "    </tr>\n",
       "    <tr>\n",
       "      <th>401</th>\n",
       "      <td>1293</td>\n",
       "      <td>0</td>\n",
       "    </tr>\n",
       "    <tr>\n",
       "      <th>402</th>\n",
       "      <td>1294</td>\n",
       "      <td>1</td>\n",
       "    </tr>\n",
       "    <tr>\n",
       "      <th>403</th>\n",
       "      <td>1295</td>\n",
       "      <td>0</td>\n",
       "    </tr>\n",
       "    <tr>\n",
       "      <th>404</th>\n",
       "      <td>1296</td>\n",
       "      <td>0</td>\n",
       "    </tr>\n",
       "    <tr>\n",
       "      <th>405</th>\n",
       "      <td>1297</td>\n",
       "      <td>0</td>\n",
       "    </tr>\n",
       "    <tr>\n",
       "      <th>406</th>\n",
       "      <td>1298</td>\n",
       "      <td>0</td>\n",
       "    </tr>\n",
       "    <tr>\n",
       "      <th>407</th>\n",
       "      <td>1299</td>\n",
       "      <td>0</td>\n",
       "    </tr>\n",
       "    <tr>\n",
       "      <th>408</th>\n",
       "      <td>1300</td>\n",
       "      <td>1</td>\n",
       "    </tr>\n",
       "    <tr>\n",
       "      <th>409</th>\n",
       "      <td>1301</td>\n",
       "      <td>1</td>\n",
       "    </tr>\n",
       "    <tr>\n",
       "      <th>410</th>\n",
       "      <td>1302</td>\n",
       "      <td>1</td>\n",
       "    </tr>\n",
       "    <tr>\n",
       "      <th>411</th>\n",
       "      <td>1303</td>\n",
       "      <td>1</td>\n",
       "    </tr>\n",
       "    <tr>\n",
       "      <th>412</th>\n",
       "      <td>1304</td>\n",
       "      <td>1</td>\n",
       "    </tr>\n",
       "    <tr>\n",
       "      <th>413</th>\n",
       "      <td>1305</td>\n",
       "      <td>0</td>\n",
       "    </tr>\n",
       "    <tr>\n",
       "      <th>414</th>\n",
       "      <td>1306</td>\n",
       "      <td>1</td>\n",
       "    </tr>\n",
       "    <tr>\n",
       "      <th>415</th>\n",
       "      <td>1307</td>\n",
       "      <td>0</td>\n",
       "    </tr>\n",
       "    <tr>\n",
       "      <th>416</th>\n",
       "      <td>1308</td>\n",
       "      <td>0</td>\n",
       "    </tr>\n",
       "    <tr>\n",
       "      <th>417</th>\n",
       "      <td>1309</td>\n",
       "      <td>0</td>\n",
       "    </tr>\n",
       "  </tbody>\n",
       "</table>\n",
       "<p>418 rows × 2 columns</p>\n",
       "</div>"
      ],
      "text/plain": [
       "     PassengerId  Survived\n",
       "0            892         0\n",
       "1            893         1\n",
       "2            894         0\n",
       "3            895         0\n",
       "4            896         1\n",
       "5            897         0\n",
       "6            898         1\n",
       "7            899         0\n",
       "8            900         1\n",
       "9            901         0\n",
       "10           902         0\n",
       "11           903         0\n",
       "12           904         1\n",
       "13           905         0\n",
       "14           906         1\n",
       "15           907         1\n",
       "16           908         0\n",
       "17           909         0\n",
       "18           910         1\n",
       "19           911         1\n",
       "20           912         0\n",
       "21           913         0\n",
       "22           914         1\n",
       "23           915         0\n",
       "24           916         1\n",
       "25           917         0\n",
       "26           918         1\n",
       "27           919         0\n",
       "28           920         0\n",
       "29           921         0\n",
       "..           ...       ...\n",
       "388         1280         0\n",
       "389         1281         0\n",
       "390         1282         0\n",
       "391         1283         1\n",
       "392         1284         0\n",
       "393         1285         0\n",
       "394         1286         0\n",
       "395         1287         1\n",
       "396         1288         0\n",
       "397         1289         1\n",
       "398         1290         0\n",
       "399         1291         0\n",
       "400         1292         1\n",
       "401         1293         0\n",
       "402         1294         1\n",
       "403         1295         0\n",
       "404         1296         0\n",
       "405         1297         0\n",
       "406         1298         0\n",
       "407         1299         0\n",
       "408         1300         1\n",
       "409         1301         1\n",
       "410         1302         1\n",
       "411         1303         1\n",
       "412         1304         1\n",
       "413         1305         0\n",
       "414         1306         1\n",
       "415         1307         0\n",
       "416         1308         0\n",
       "417         1309         0\n",
       "\n",
       "[418 rows x 2 columns]"
      ]
     },
     "execution_count": 34,
     "metadata": {},
     "output_type": "execute_result"
    }
   ],
   "source": [
    "pd.read_csv(\"../input/gender_submission.csv\")"
   ]
  },
  {
   "cell_type": "code",
   "execution_count": 35,
   "metadata": {
    "execution": {
     "iopub.execute_input": "2022-02-02T13:40:05.338129Z",
     "iopub.status.busy": "2022-02-02T13:40:05.337664Z",
     "iopub.status.idle": "2022-02-02T13:40:05.622276Z",
     "shell.execute_reply": "2022-02-02T13:40:05.621508Z",
     "shell.execute_reply.started": "2022-02-02T13:40:05.337924Z"
    }
   },
   "outputs": [],
   "source": [
    "from sklearn.ensemble import RandomForestClassifier\n",
    "\n",
    "y = train_data[\"Survived\"]\n",
    "\n",
    "features = [\"Pclass\", \"Sex\", \"SibSp\", \"Parch\"]\n",
    "X = pd.get_dummies(train_data[features])\n",
    "X_test = pd.get_dummies(test_data[features])\n",
    "\n",
    "model = RandomForestClassifier(n_estimators=100, max_depth=3, random_state=2)\n",
    "model.fit(X, y)\n",
    "predictions = model.predict(X_test)\n",
    "\n",
    "submission = pd.read_csv(\"../input/gender_submission.csv\")\n",
    "submission['Survived'] = survived\n",
    "submission.to_csv('submission.csv', index=False)"
   ]
  },
  {
   "cell_type": "code",
   "execution_count": 36,
   "metadata": {},
   "outputs": [],
   "source": []
  }
 ],
 "metadata": {
  "kernelspec": {
   "display_name": "Python 3",
   "language": "python",
   "name": "python3"
  },
  "language_info": {
   "codemirror_mode": {
    "name": "ipython",
    "version": 3
   },
   "file_extension": ".py",
   "mimetype": "text/x-python",
   "name": "python",
   "nbconvert_exporter": "python",
   "pygments_lexer": "ipython3",
   "version": "3.6.4"
  }
 },
 "nbformat": 4,
 "nbformat_minor": 4
}
